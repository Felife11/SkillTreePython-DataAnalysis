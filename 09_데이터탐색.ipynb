{
  "nbformat": 4,
  "nbformat_minor": 0,
  "metadata": {
    "colab": {
      "name": "09-데이터탐색.ipynb",
      "provenance": [],
      "authorship_tag": "ABX9TyP07avEesyM/Y+wBZx101kv",
      "include_colab_link": true
    },
    "kernelspec": {
      "name": "python3",
      "display_name": "Python 3"
    },
    "language_info": {
      "name": "python"
    }
  },
  "cells": [
    {
      "cell_type": "markdown",
      "metadata": {
        "id": "view-in-github",
        "colab_type": "text"
      },
      "source": [
        "<a href=\"https://colab.research.google.com/github/yebiny/Lecture-Python-Data_analysis-LV1/blob/main/09_%EB%8D%B0%EC%9D%B4%ED%84%B0%ED%83%90%EC%83%89.ipynb\" target=\"_parent\"><img src=\"https://colab.research.google.com/assets/colab-badge.svg\" alt=\"Open In Colab\"/></a>"
      ]
    },
    {
      "cell_type": "markdown",
      "metadata": {
        "id": "jgFAOz-Tw1VI"
      },
      "source": [
        "# 09. 데이터 탐색 (EDA) 실습\n",
        "---\n",
        "* 날짜:\n",
        "* 이름:\n"
      ]
    },
    {
      "cell_type": "markdown",
      "source": [
        "```\n",
        "import numpy as np\n",
        "import pandas as pd\n",
        "import matplotlib.pyplot as plt\n",
        "import seaborn as sns\n",
        "\n",
        "plt.rcParams[\"font.size\"] = 13\n",
        "plt.style.use('ggplot')\n",
        "plt.style.use('seaborn-whitegrid')\n",
        "```"
      ],
      "metadata": {
        "id": "PTa5CPRe6sAH"
      }
    },
    {
      "cell_type": "code",
      "source": [
        ""
      ],
      "metadata": {
        "id": "FSGW-QM6CP22"
      },
      "execution_count": null,
      "outputs": []
    },
    {
      "cell_type": "markdown",
      "metadata": {
        "id": "u57Ri-Dj_-fN"
      },
      "source": [
        "\n",
        "## **데이터 소개**\n",
        "---\n"
      ]
    },
    {
      "cell_type": "markdown",
      "source": [
        "> * 데이터 출처 : https://www.kaggle.com/c/titanic/data?select=train.csv\n",
        "> * 추가 설명: https://dacon.io/competitions/open/235539/overview/description\n",
        "\n",
        "타이타닉은 역사상 가장 유명한 난파선 중 하나입니다.\n",
        "\n",
        "1912년 4월 15일, 타이타닉은 항해중 빙산과의 충돌로 인해 침몰합니다. 탑승인원 2224명 중 1502명이 사망한 비극적인 사건이었고, 선박의 안전규정을 개선시키는 계기가 되었습니다.\n",
        "\n",
        "이 과제에서는 여러분은 어떤 종류의 사람들이 많이 살아남았는지에 대한 분석을 해야 합니다.\n",
        "그리고 머신러닝을 이용해 어떤 승객이 생존했을지 예측해보세요. \n",
        "\n",
        "\n",
        "|index|column|설명|\n",
        "|--|--|--|\n",
        "|0.| PassengerId||\n",
        "|1.| Survived | 생존여부|\n",
        "|2. |Pclass| 티켓 등급|\n",
        "|3.| Name |이름|\n",
        "|4.| Sex| 성별|\n",
        "|5.| Age |나이|\n",
        "|6.| SibSp| 타이타닉호에 탑승한 형제/배우자 수|\n",
        "|7.| Parch |타이타닉호에 탑승한 부모/자녀 수 |\n",
        "|8.| Ticket |티켓 번호|\n",
        "|10| Fare |여객 요금|\n",
        "|11.| Cabin| 객실 번호|\n",
        "|12.| Embarked| 승선항|\n"
      ],
      "metadata": {
        "id": "s_8oZEIHrNJG"
      }
    },
    {
      "cell_type": "markdown",
      "source": [
        "코랩에 파일을 빠르게 업로드를 하기 위해서는 아래 코드를 실행합니다.\n",
        "\n",
        "\n",
        "```\n",
        "from google.colab import files\n",
        "files.upload()\n",
        "```\n",
        "\n"
      ],
      "metadata": {
        "id": "NNjZQTpeEuSl"
      }
    },
    {
      "cell_type": "code",
      "source": [
        ""
      ],
      "metadata": {
        "id": "RKM-OmpFKb62"
      },
      "execution_count": null,
      "outputs": []
    },
    {
      "cell_type": "markdown",
      "source": [
        "## **데이터 탐색(EDA)**"
      ],
      "metadata": {
        "id": "1PV3hqTwL1pl"
      }
    },
    {
      "cell_type": "markdown",
      "source": [
        "---\n",
        "### **데이터 확인**\n",
        "---"
      ],
      "metadata": {
        "id": "EdhHAwRKLiAe"
      }
    },
    {
      "cell_type": "code",
      "source": [
        ""
      ],
      "metadata": {
        "id": "3XlnH5fFJMRX"
      },
      "execution_count": null,
      "outputs": []
    },
    {
      "cell_type": "code",
      "source": [
        ""
      ],
      "metadata": {
        "id": "352P3awK2j-e"
      },
      "execution_count": null,
      "outputs": []
    },
    {
      "cell_type": "code",
      "source": [
        ""
      ],
      "metadata": {
        "id": "bkJFebT72kBA"
      },
      "execution_count": null,
      "outputs": []
    },
    {
      "cell_type": "markdown",
      "source": [
        "\n",
        "\n",
        "\n",
        "* **INSIGHT**\n",
        "  * .\n",
        "  * ."
      ],
      "metadata": {
        "id": "0dFULhtaEqny"
      }
    },
    {
      "cell_type": "markdown",
      "metadata": {
        "id": "11swZS3Dq9oz"
      },
      "source": [
        "---\n",
        "### **모든 속성의 분포 확인**\n",
        "---"
      ]
    },
    {
      "cell_type": "code",
      "source": [
        ""
      ],
      "metadata": {
        "id": "pQVV_htpq9o0"
      },
      "execution_count": null,
      "outputs": []
    },
    {
      "cell_type": "markdown",
      "source": [
        "* **INSIGHT**\n",
        "\n",
        "  * .\n",
        "  * ."
      ],
      "metadata": {
        "id": "4Ylko37iVFJj"
      }
    },
    {
      "cell_type": "markdown",
      "source": [
        "---\n",
        "### **범주형 자료 시각화**\n",
        "---"
      ],
      "metadata": {
        "id": "moeWUhbhDzMG"
      }
    },
    {
      "cell_type": "code",
      "source": [
        ""
      ],
      "metadata": {
        "id": "AdlfGxu4B-Bo"
      },
      "execution_count": null,
      "outputs": []
    },
    {
      "cell_type": "markdown",
      "source": [
        "* **INSIGHT**\n",
        "\n",
        "  * .\n",
        "  * ."
      ],
      "metadata": {
        "id": "fpoEAkDgD2eW"
      }
    },
    {
      "cell_type": "markdown",
      "source": [
        "---\n",
        "### **수치형 자료 시각화**\n",
        "---"
      ],
      "metadata": {
        "id": "Py83PT2yGgmk"
      }
    },
    {
      "cell_type": "code",
      "source": [
        ""
      ],
      "metadata": {
        "id": "8wA7MH52DoDJ"
      },
      "execution_count": null,
      "outputs": []
    },
    {
      "cell_type": "markdown",
      "source": [
        "* **INSIGHT**\n",
        "  * .\n",
        "  * ."
      ],
      "metadata": {
        "id": "e2LERCkVENFg"
      }
    },
    {
      "cell_type": "markdown",
      "source": [
        "---\n",
        "### **예측(Survived)값과의 관계 시각화 - 범주형 자료**\n",
        "---"
      ],
      "metadata": {
        "id": "YxWzo_MrHUOJ"
      }
    },
    {
      "cell_type": "code",
      "source": [
        ""
      ],
      "metadata": {
        "id": "i5xbdlj-HarZ"
      },
      "execution_count": null,
      "outputs": []
    },
    {
      "cell_type": "markdown",
      "source": [
        "* **INSIGHT**\n",
        "  * ."
      ],
      "metadata": {
        "id": "p7ugBw2xIYe4"
      }
    },
    {
      "cell_type": "markdown",
      "source": [
        "---\n",
        "### **예측(Survived)값과의 관계 시각화 - 수치형 자료**\n",
        "---"
      ],
      "metadata": {
        "id": "c4L9HxHtIxgE"
      }
    },
    {
      "cell_type": "markdown",
      "source": [
        "#### **1. Discrete Data: `SibSp, Parch`**"
      ],
      "metadata": {
        "id": "cEWlFuAMKgq1"
      }
    },
    {
      "cell_type": "code",
      "source": [
        ""
      ],
      "metadata": {
        "id": "wY7rCTGlIxgF"
      },
      "execution_count": null,
      "outputs": []
    },
    {
      "cell_type": "markdown",
      "source": [
        "* **INSIGHT**\n",
        "  * ."
      ],
      "metadata": {
        "id": "-7FPw3wILzsO"
      }
    },
    {
      "cell_type": "markdown",
      "source": [
        "#### **2. Countinuous Data: `Age, Fare`**"
      ],
      "metadata": {
        "id": "yYcY-XZYLsKd"
      }
    },
    {
      "cell_type": "markdown",
      "source": [
        "* **INSIGHT**\n",
        "\n",
        "  * \n",
        "  * ."
      ],
      "metadata": {
        "id": "_A4u65prn5YP"
      }
    },
    {
      "cell_type": "code",
      "source": [
        ""
      ],
      "metadata": {
        "id": "AW-1fKbzLstK"
      },
      "execution_count": null,
      "outputs": []
    },
    {
      "cell_type": "markdown",
      "source": [
        "* **INSIGHT**\n",
        "\n",
        "  * .\n",
        "  * ."
      ],
      "metadata": {
        "id": "SvsPciBRIxgM"
      }
    },
    {
      "cell_type": "code",
      "source": [
        ""
      ],
      "metadata": {
        "id": "kc4EWPp-nkMh"
      },
      "execution_count": null,
      "outputs": []
    },
    {
      "cell_type": "markdown",
      "source": [
        "* **INSIGHT**\n",
        "\n",
        "  * .\n",
        "  * ."
      ],
      "metadata": {
        "id": "ER2M95VPquVj"
      }
    },
    {
      "cell_type": "markdown",
      "source": [
        "---\n",
        "### **기타 시각화**\n",
        "---"
      ],
      "metadata": {
        "id": "nFtBn0yPOywJ"
      }
    },
    {
      "cell_type": "markdown",
      "source": [
        "#### **전체 페어플롯**"
      ],
      "metadata": {
        "id": "fpf87WS6SHGZ"
      }
    },
    {
      "cell_type": "code",
      "source": [
        ""
      ],
      "metadata": {
        "id": "TUdqnmBIPCNm"
      },
      "execution_count": null,
      "outputs": []
    },
    {
      "cell_type": "markdown",
      "source": [
        "* **INSIGHT**\n",
        "\n",
        "  * .\n",
        "  * ."
      ],
      "metadata": {
        "id": "0FcjjkFSSMJo"
      }
    },
    {
      "cell_type": "markdown",
      "source": [
        "#### **상관관계**"
      ],
      "metadata": {
        "id": "ZwWhBEkfSoNI"
      }
    },
    {
      "cell_type": "code",
      "source": [
        ""
      ],
      "metadata": {
        "id": "5X-YKKXHSoNJ"
      },
      "execution_count": null,
      "outputs": []
    },
    {
      "cell_type": "markdown",
      "metadata": {
        "id": "NoB6xo22q9o-"
      },
      "source": [
        "---\n",
        "### **Summary**\n",
        "---\n",
        "* **INSIGHT**\n",
        "\n",
        "  * .\n",
        "  * ."
      ]
    },
    {
      "cell_type": "code",
      "source": [
        ""
      ],
      "metadata": {
        "id": "kiNkZuSx28kO"
      },
      "execution_count": null,
      "outputs": []
    }
  ]
}