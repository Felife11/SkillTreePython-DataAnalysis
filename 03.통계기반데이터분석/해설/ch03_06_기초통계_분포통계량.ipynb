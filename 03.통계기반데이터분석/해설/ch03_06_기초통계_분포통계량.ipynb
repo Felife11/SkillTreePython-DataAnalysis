{
  "nbformat": 4,
  "nbformat_minor": 0,
  "metadata": {
    "colab": {
      "name": "ch03_06_기초통계-분포통계량.ipynb",
      "provenance": [],
      "collapsed_sections": [],
      "authorship_tag": "ABX9TyOjQgFVBLN7GDbmHnNPo8/q",
      "include_colab_link": true
    },
    "kernelspec": {
      "name": "python3",
      "display_name": "Python 3"
    },
    "language_info": {
      "name": "python"
    }
  },
  "cells": [
    {
      "cell_type": "markdown",
      "metadata": {
        "id": "view-in-github",
        "colab_type": "text"
      },
      "source": [
        "<a href=\"https://colab.research.google.com/github/yebiny/SkillTreePython-DataAnalysis/blob/main/03.%ED%86%B5%EA%B3%84%EA%B8%B0%EB%B0%98%EB%8D%B0%EC%9D%B4%ED%84%B0%EB%B6%84%EC%84%9D/%ED%95%B4%EC%84%A4/ch03_06_%EA%B8%B0%EC%B4%88%ED%86%B5%EA%B3%84_%EB%B6%84%ED%8F%AC%ED%86%B5%EA%B3%84%EB%9F%89.ipynb\" target=\"_parent\"><img src=\"https://colab.research.google.com/assets/colab-badge.svg\" alt=\"Open In Colab\"/></a>"
      ]
    },
    {
      "cell_type": "markdown",
      "source": [
        "# ch04.06. 기초통계 - 분포통계량\n",
        "---\n",
        "* 날짜:\n",
        "* 이름:\n",
        "\n",
        "## 학습내용\n",
        "    - 백분위수, 사분위수\n",
        "    - 왜도\n",
        "    - 첨도"
      ],
      "metadata": {
        "id": "wWpXZc2fi39U"
      }
    },
    {
      "cell_type": "code",
      "source": [
        "import numpy as np\n",
        "import matplotlib.pyplot as plt\n",
        "import pandas as pd\n",
        "import seaborn as sns"
      ],
      "metadata": {
        "id": "uYLRSgCqw4YZ"
      },
      "execution_count": null,
      "outputs": []
    },
    {
      "cell_type": "markdown",
      "source": [
        "##  분포 통계\n",
        "---\n",
        "\n",
        "* 분포통계는 데이터의 위치나 모양을 확인"
      ],
      "metadata": {
        "id": "rx3G1AI_nCTw"
      }
    },
    {
      "cell_type": "markdown",
      "source": [
        "### **| 데이터 생성**\n",
        "\n",
        "```\n",
        "# 아래의 함수는 정규분포를 따르는 랜덤한 실수를 반환합니다.\n",
        "np.random.normal(loc, scale, size)\n",
        "# loc = 평균\n",
        "# scale = 표준편차\n",
        "# size = 추출할 데이터(표본)의 크기\n",
        "```"
      ],
      "metadata": {
        "id": "Qamnn6ffuxFL"
      }
    },
    {
      "cell_type": "markdown",
      "source": [
        "* 평균 0, 표준편차 1인 정규분포 데이터 1000개를 생성하기"
      ],
      "metadata": {
        "id": "T8BAXON4vIxO"
      }
    },
    {
      "cell_type": "code",
      "source": [
        "# 넘파이 랜덤 시드 0으로 설정\n",
        "np.random.seed(0)\n",
        "# 넘파이 배열 `a`로 바인딩\n",
        "a = np.random.normal(loc=0, scale=1, size=1000)"
      ],
      "metadata": {
        "id": "QGUgicvFFpBp"
      },
      "execution_count": null,
      "outputs": []
    },
    {
      "cell_type": "markdown",
      "source": [
        "* `a` 분포 그리기"
      ],
      "metadata": {
        "id": "tiM7-w9kvR7W"
      }
    },
    {
      "cell_type": "code",
      "source": [
        "plt.hist(a, alpha=.6, bins=25)\n",
        "plt.show()"
      ],
      "metadata": {
        "colab": {
          "base_uri": "https://localhost:8080/",
          "height": 265
        },
        "id": "gz9cjV1FwGQH",
        "outputId": "8349c52a-2b6f-406b-abb4-2e55c8dba3bb"
      },
      "execution_count": null,
      "outputs": [
        {
          "output_type": "display_data",
          "data": {
            "text/plain": [
              "<Figure size 432x288 with 1 Axes>"
            ],
            "image/png": "[encoded data removed]"
          },
          "metadata": {
            "needs_background": "light"
          }
        }
      ]
    },
    {
      "cell_type": "markdown",
      "source": [
        "### **| 백분위수와 사분위수**\n",
        "\n",
        "<p align='center'>\n",
        "<img src=https://github.com/yebiny/SkillTreePython-DataAnalysis/blob/main/imgs/ch0306-03.png?raw=true width=800>\n",
        "</p>\n",
        "\n",
        "```\n",
        "np.percentile(x,  percent)\n",
        "np.quantile(x, percent_ratio)\n",
        "```"
      ],
      "metadata": {
        "id": "WGyw7XqJF1x_"
      }
    },
    {
      "cell_type": "markdown",
      "source": [
        "* 하위 10% 에 위치한 값 확인"
      ],
      "metadata": {
        "id": "AG9r8NEgJrk6"
      }
    },
    {
      "cell_type": "code",
      "execution_count": null,
      "metadata": {
        "id": "bfHNqDlAFtt3",
        "outputId": "80408900-d69b-4340-e28b-3d4efefc5db0",
        "colab": {
          "base_uri": "https://localhost:8080/"
        }
      },
      "outputs": [
        {
          "output_type": "stream",
          "name": "stdout",
          "text": [
            "-1.2991423253580128\n",
            "-1.2991423253580128\n"
          ]
        }
      ],
      "source": [
        "# percentile 사용\n",
        "print(np.percentile(a, 10))\n",
        "# quantile 사용\n",
        "print(np.quantile(a, 0.1)) # 사실상 같음"
      ]
    },
    {
      "cell_type": "markdown",
      "source": [
        "* 하위 80% 에 위치한 값 확인"
      ],
      "metadata": {
        "id": "3L-oTyFpJzeV"
      }
    },
    {
      "cell_type": "code",
      "execution_count": null,
      "metadata": {
        "id": "12js6oJuFtt4",
        "outputId": "01474a70-5844-420d-fc4e-39bbbd5108f8",
        "colab": {
          "base_uri": "https://localhost:8080/"
        }
      },
      "outputs": [
        {
          "output_type": "stream",
          "name": "stdout",
          "text": [
            "0.7883967913601156\n",
            "0.7883967913601156\n"
          ]
        }
      ],
      "source": [
        "# percentile 사용\n",
        "print(np.percentile(a, 80))\n",
        "# quantile 사용\n",
        "print(np.quantile(a, 0.8))"
      ]
    },
    {
      "cell_type": "markdown",
      "metadata": {
        "id": "nc2SspMDFtt5"
      },
      "source": [
        "### **| 왜도 (skew)**\n",
        "\n",
        "<p align='center'>\n",
        "<img src=https://github.com/yebiny/SkillTreePython-DataAnalysis/blob/main/imgs/ch0306-01.png?raw=true width=800>\n",
        "</p>\n",
        "\n",
        "\n",
        "\n",
        "\\begin{align}\n",
        "\\text{skew} = \n",
        "\\frac{\\tfrac{1}{N} \\sum_{i=1}^N (x_i-\\overline{x})^3}{ \\sqrt{\\tfrac{1}{N-1} \\sum_{i=1}^N (x_i-\\overline{x})^2}^{\\,3}}\n",
        "\\end{align}\n",
        "\n",
        "```\n",
        "from scipy.stats import skew\n",
        "skew(a)\n",
        "```"
      ]
    },
    {
      "cell_type": "markdown",
      "source": [
        "* `a`의 왜도 구하기"
      ],
      "metadata": {
        "id": "JC81wNfOLdPz"
      }
    },
    {
      "cell_type": "code",
      "source": [
        "from scipy.stats import skew\n",
        "skew(a)"
      ],
      "metadata": {
        "colab": {
          "base_uri": "https://localhost:8080/"
        },
        "id": "woGfKcmlLUAw",
        "outputId": "2f5263c1-20eb-483b-f072-94d85d737383"
      },
      "execution_count": null,
      "outputs": [
        {
          "output_type": "execute_result",
          "data": {
            "text/plain": [
              "0.03385895323565712"
            ]
          },
          "metadata": {},
          "execution_count": 6
        }
      ]
    },
    {
      "cell_type": "markdown",
      "source": [
        "* 세개의 데이터의 분포를 그리고 각각의 왜도도 구해봅니다.\n",
        "\n",
        "```\n",
        "x1 = [1,2,3,4,5,2,3,4]\n",
        "x2 = [1,2,3,4,5,1,2]\n",
        "x3 = [1,2,3,4,5,4,5]\n",
        "```"
      ],
      "metadata": {
        "id": "y3fMGZC_WYJA"
      }
    },
    {
      "cell_type": "code",
      "source": [
        "x1 = [1,2,3,4,5,2,3,4]\n",
        "x2 = [1,2,3,4,5,1,2]\n",
        "x3 = [1,2,3,4,5,4,5]\n",
        "\n",
        "plt.figure(figsize=(12,4))\n",
        "for i,x  in enumerate([x1,x2,x3]):\n",
        "  plt.subplot(1,3,i+1)\n",
        "  sns.histplot(x,bins=5)\n",
        "  plt.title(f'skew: {np.round(skew(x),2)}')\n",
        "plt.show()"
      ],
      "metadata": {
        "colab": {
          "base_uri": "https://localhost:8080/",
          "height": 281
        },
        "id": "7cM1_Zg-WaYi",
        "outputId": "c41e553e-4011-4d7a-c5ae-b45c656116cf"
      },
      "execution_count": null,
      "outputs": [
        {
          "output_type": "display_data",
          "data": {
            "text/plain": [
              "<Figure size 864x288 with 3 Axes>"
            ],
            "image/png": "[encoded data removed]"
          },
          "metadata": {
            "needs_background": "light"
          }
        }
      ]
    },
    {
      "cell_type": "markdown",
      "metadata": {
        "id": "6hJXW79CFtt8"
      },
      "source": [
        "### **| 첨도(kurtosis)**\n",
        "\n",
        "\n",
        "<p align='center'>\n",
        "<img src=https://github.com/yebiny/SkillTreePython-DataAnalysis/blob/main/imgs/ch0306-02.png?raw=true width=300>\n",
        "</p>\n",
        "\n",
        "\n",
        "\\begin{align}\n",
        "\\text{kurtosis} = \n",
        "\\frac{\\tfrac{1}{N} \\sum_{i=1}^N (x_i - \\overline{x})^4}{\\left(\\tfrac{1}{N} \\sum_{i=1}^N (x_i - \\overline{x})^2\\right)^2} - 3\n",
        "\\end{align}\n",
        "\n",
        "```\n",
        "from scipy.stats import kurtosis\n",
        "kurtosis(a)\n",
        "```"
      ]
    },
    {
      "cell_type": "code",
      "source": [
        "from scipy.stats import kurtosis\n",
        "kurtosis(a)"
      ],
      "metadata": {
        "colab": {
          "base_uri": "https://localhost:8080/"
        },
        "id": "Pod4__SoM3yd",
        "outputId": "ea1f6fc4-f937-4021-dc42-46286aa8d5c8"
      },
      "execution_count": null,
      "outputs": [
        {
          "output_type": "execute_result",
          "data": {
            "text/plain": [
              "-0.0467663244783294"
            ]
          },
          "metadata": {},
          "execution_count": 8
        }
      ]
    },
    {
      "cell_type": "markdown",
      "source": [
        "* 세개의 데이터의 분포를 그리고 각각의 첨도도 구해봅니다.\n",
        "\n",
        "```\n",
        "x1 = [1,2,3,4,5,]\n",
        "x2 = [1,2,3,4,5,1]\n",
        "x3 = [1,2,3,4,5,1,1,1]\n",
        "```"
      ],
      "metadata": {
        "id": "QtKwSOfDX3GI"
      }
    },
    {
      "cell_type": "code",
      "source": [
        "x1 = [1,2,3,4,5,]\n",
        "x2 = [1,2,3,4,5,1]\n",
        "x3 = [1,2,3,4,5,1,1,1]\n",
        "\n",
        "plt.figure(figsize=(12,4))\n",
        "for i,x  in enumerate([x1,x2,x3]):\n",
        "  plt.subplot(1,3,i+1)\n",
        "  sns.histplot(x,bins=5)\n",
        "  plt.title(f'kurtosis: {np.round(kurtosis(x),2)}')\n",
        "plt.show()"
      ],
      "metadata": {
        "colab": {
          "base_uri": "https://localhost:8080/",
          "height": 281
        },
        "outputId": "82e92d6f-1e27-49f9-bf5c-2c075452aaca",
        "id": "cvwL-aAQX3GN"
      },
      "execution_count": null,
      "outputs": [
        {
          "output_type": "display_data",
          "data": {
            "text/plain": [
              "<Figure size 864x288 with 3 Axes>"
            ],
            "image/png": "[encoded data removed]"
          },
          "metadata": {
            "needs_background": "light"
          }
        }
      ]
    },
    {
      "cell_type": "markdown",
      "source": [
        "## 예제\n",
        "---"
      ],
      "metadata": {
        "id": "z6JYAMB_4Xq7"
      }
    },
    {
      "cell_type": "markdown",
      "source": [
        "#### **예제 01**\n",
        "\n",
        "1. 지난 시간에 배운 scipy 라이브러리의 gamma 함수를 사용합니다. \n",
        "\n",
        "2. a값이 4인 감마함수로 부터 표본을 1000개 추출하고 `x3`로 바인딩합니다.\n",
        "\n",
        "4. a값이 12인 감마함수로 부터 표본을 1000개 추출하고 `x4`로 바인딩합니다.\n",
        "\n",
        "6. `x3`의 모든 요소에 -1을 곱한 후 `x2`로 바인딩합니다.\n",
        "\n",
        "6. `x4`의 모든 요소에 -1을 곱한 후 `x1`로 바인딩합니다.\n",
        "\n",
        "7. `x1, x2, x3, x4`의 분포를 각각 그립니다.\n",
        "\n",
        "7. `x1, x2, x3, x4`의 왜도를 각각 구합니다.\n",
        "\n",
        "7. `x1, x2, x3, x4`의 첨도를 각각 구합니다.\n"
      ],
      "metadata": {
        "id": "zrSXtss0NZZB"
      }
    },
    {
      "cell_type": "code",
      "source": [
        "from scipy.stats import gamma\n",
        "\n",
        "def get_x(a, n=1000):\n",
        "  g = gamma(a=a)\n",
        "  x = g.rvs(n)\n",
        "  return x\n",
        "\n",
        "x3 = get_x(4)\n",
        "x4 = get_x(12)\n",
        "x2 = -x3\n",
        "x1 = -x4"
      ],
      "metadata": {
        "id": "QoPSm3Y8Yhmk"
      },
      "execution_count": null,
      "outputs": []
    },
    {
      "cell_type": "code",
      "source": [
        "fig = plt.figure(figsize=(10,6))\n",
        "xs = ['x1','x2','x3','x4']\n",
        "for x in xs:\n",
        "  sns.kdeplot(x=eval(x))\n",
        "plt.legend(xs)\n",
        "plt.show()"
      ],
      "metadata": {
        "colab": {
          "base_uri": "https://localhost:8080/",
          "height": 374
        },
        "id": "AnLfGPNqGDBt",
        "outputId": "df535d24-87c6-4201-a9bf-2205dc2184a6"
      },
      "execution_count": null,
      "outputs": [
        {
          "output_type": "display_data",
          "data": {
            "text/plain": [
              "<Figure size 720x432 with 1 Axes>"
            ],
            "image/png": "[encoded data removed]"
          },
          "metadata": {
            "needs_background": "light"
          }
        }
      ]
    },
    {
      "cell_type": "code",
      "source": [
        "for x in xs:\n",
        "  print(f'* {x}  skew : {np.round(skew(eval(x)),2)}, kutosis: {np.round(kurtosis(eval(x)),2)}')"
      ],
      "metadata": {
        "colab": {
          "base_uri": "https://localhost:8080/"
        },
        "id": "-4D8rxL9SbY0",
        "outputId": "47314a63-53d1-4ad1-dd9e-0bc9e403bd1c"
      },
      "execution_count": null,
      "outputs": [
        {
          "output_type": "stream",
          "name": "stdout",
          "text": [
            "* x1  skew : -0.44, kutosis: 0.24\n",
            "* x2  skew : -1.11, kutosis: 1.83\n",
            "* x3  skew : 1.11, kutosis: 1.83\n",
            "* x4  skew : 0.44, kutosis: 0.24\n"
          ]
        }
      ]
    },
    {
      "cell_type": "markdown",
      "source": [
        "#### **예제 02**\n",
        "\n",
        "타이타닉 데이터셋을 가져오고, 수치자료형 변수들의 **산포통계**와 **분포통계**를 정리하세요."
      ],
      "metadata": {
        "id": "vC9QE_7R5njn"
      }
    },
    {
      "cell_type": "code",
      "source": [
        ""
      ],
      "metadata": {
        "id": "mOw2b43-51ZF"
      },
      "execution_count": null,
      "outputs": []
    }
  ]
}