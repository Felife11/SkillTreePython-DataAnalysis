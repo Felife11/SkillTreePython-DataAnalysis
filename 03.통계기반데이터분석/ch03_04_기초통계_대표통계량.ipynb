{
  "nbformat": 4,
  "nbformat_minor": 0,
  "metadata": {
    "colab": {
      "name": "ch03_04_기초통계-대표통계량.ipynb",
      "provenance": [],
      "collapsed_sections": [],
      "authorship_tag": "ABX9TyN5h0WM7GFIqD0FeyDVzkdk",
      "include_colab_link": true
    },
    "kernelspec": {
      "name": "python3",
      "display_name": "Python 3"
    },
    "language_info": {
      "name": "python"
    }
  },
  "cells": [
    {
      "cell_type": "markdown",
      "metadata": {
        "id": "view-in-github",
        "colab_type": "text"
      },
      "source": [
        "<a href=\"https://colab.research.google.com/github/yebiny/SkillTreePython-DataAnalysis/blob/main/03.%ED%86%B5%EA%B3%84%EA%B8%B0%EB%B0%98%EB%8D%B0%EC%9D%B4%ED%84%B0%EB%B6%84%EC%84%9D/ch03_04_%EA%B8%B0%EC%B4%88%ED%86%B5%EA%B3%84_%EB%8C%80%ED%91%9C%ED%86%B5%EA%B3%84%EB%9F%89.ipynb\" target=\"_parent\"><img src=\"https://colab.research.google.com/assets/colab-badge.svg\" alt=\"Open In Colab\"/></a>"
      ]
    },
    {
      "cell_type": "markdown",
      "source": [
        "# ch04.04. 기초통계 - 대표통계량\n",
        "---\n",
        "* 날짜:\n",
        "* 이름:\n",
        "\n",
        "## 학습내용\n",
        "    - 최빈값\n",
        "    - 중앙값\n",
        "    - 산술 평균\n",
        "    - 조화 평균\n",
        "    - 절사 평균\n"
      ],
      "metadata": {
        "id": "wWpXZc2fi39U"
      }
    },
    {
      "cell_type": "code",
      "source": [
        "import numpy as np\n",
        "import pandas as pd\n",
        "import matplotlib.pyplot as plt\n",
        "import seaborn as sns"
      ],
      "metadata": {
        "id": "uYLRSgCqw4YZ"
      },
      "execution_count": null,
      "outputs": []
    },
    {
      "cell_type": "markdown",
      "source": [
        "## 대표 통계 - 수치자료형\n",
        "---"
      ],
      "metadata": {
        "id": "HFfrNCQzwC8p"
      }
    },
    {
      "cell_type": "markdown",
      "source": [
        "### **| 데이터 생성**\n",
        "\n",
        "```\n",
        "# 아래 함수는 랜덤한 정수를 반환합니다.\n",
        "np.random.randint(low, hight, shape)\n",
        "# low = 최소값\n",
        "# hight = 최대값\n",
        "# shape = 추출할 데이터의 크기\n",
        "```"
      ],
      "metadata": {
        "id": "FyMW-z9A5Dym"
      }
    },
    {
      "cell_type": "markdown",
      "source": [
        "* 최소값 1, 최대값 100인 데이터 1000개 생성하기"
      ],
      "metadata": {
        "id": "C61Z7FkB5dhN"
      }
    },
    {
      "cell_type": "code",
      "source": [
        "# 넘파이 랜덤 시드 0으로 설정\n",
        "\n",
        "# 넘파이 배열 `a`로 바인딩\n",
        "\n",
        "# 판다스 시리즈 `s`로 바인딩\n"
      ],
      "metadata": {
        "id": "QGUgicvFFpBp"
      },
      "execution_count": null,
      "outputs": []
    },
    {
      "cell_type": "markdown",
      "source": [
        "* 데이터 분포 그리기"
      ],
      "metadata": {
        "id": "MNH_qxNE7ihh"
      }
    },
    {
      "cell_type": "code",
      "source": [
        ""
      ],
      "metadata": {
        "id": "gz9cjV1FwGQH"
      },
      "execution_count": null,
      "outputs": []
    },
    {
      "cell_type": "markdown",
      "source": [
        "### **| 중앙값**\n",
        "```\n",
        "np.median(a)\n",
        "s.median()\n",
        "```"
      ],
      "metadata": {
        "id": "B7iX0zzqFl7P"
      }
    },
    {
      "cell_type": "markdown",
      "source": [
        "* 중앙값 계산"
      ],
      "metadata": {
        "id": "qp29xCkV72Xv"
      }
    },
    {
      "cell_type": "code",
      "source": [
        ""
      ],
      "metadata": {
        "id": "4axJO9zWFpEm"
      },
      "execution_count": null,
      "outputs": []
    },
    {
      "cell_type": "markdown",
      "source": [
        "### **| 산술평균**\n",
        "\n",
        "가장 보편적으로 사용되는 평균\n",
        "\n",
        "\\begin{align}\n",
        "\\mu = \\frac{\\sum^n_{i=1}x_i}{n}\n",
        "\\end{align}\n",
        "\n",
        "\\begin{align}\n",
        " & \\\\\n",
        " & x_i :? \\\\\n",
        " & n : ?\\\\ \n",
        "\\end{align}\n",
        "\n",
        "```\n",
        "np.mean(a)\n",
        "s.mean()\n",
        "```"
      ],
      "metadata": {
        "id": "DgEXAIV-Dezx"
      }
    },
    {
      "cell_type": "markdown",
      "source": [
        "* 평균 계산"
      ],
      "metadata": {
        "id": "Eyj9kkzd8Yve"
      }
    },
    {
      "cell_type": "code",
      "source": [
        ""
      ],
      "metadata": {
        "id": "JOkkVco_Dj7Q"
      },
      "execution_count": null,
      "outputs": []
    },
    {
      "cell_type": "markdown",
      "metadata": {
        "id": "3sVibZeXD7XB"
      },
      "source": [
        "### **| 조화 평균**\n",
        "\n",
        "비율 및 변화율에 등에 대한 평균을 계산할 때 사용\n",
        "\n",
        "\\begin{align}\n",
        "\\mu_{harmonic} = \\frac{n}{\\sum^n_{i=1}\\frac{1}{x_i}}\n",
        "\\end{align}\n",
        "\n",
        "\\begin{align}\n",
        " & \\\\\n",
        " & x_i :? \\\\\n",
        " & n : ?\\\\ \n",
        "\\end{align}"
      ]
    },
    {
      "cell_type": "markdown",
      "source": [
        "* 함수 `harmonic` 생성"
      ],
      "metadata": {
        "id": "I_bo0Xpn8lvJ"
      }
    },
    {
      "cell_type": "code",
      "execution_count": null,
      "metadata": {
        "id": "bbvOee7xD7XB"
      },
      "outputs": [],
      "source": [
        ""
      ]
    },
    {
      "cell_type": "markdown",
      "source": [
        "* 조화 평균 계산"
      ],
      "metadata": {
        "id": "98ULxx_-8xJL"
      }
    },
    {
      "cell_type": "code",
      "source": [
        ""
      ],
      "metadata": {
        "id": "e2eFFgrY8ylD"
      },
      "execution_count": null,
      "outputs": []
    },
    {
      "cell_type": "markdown",
      "source": [
        "### **| 절사 평균**\n",
        "\n",
        "데이터에서 $\\alpha$ 개를 제거한 후 평균을 내는 방법\n",
        "\n",
        "\\begin{align}\n",
        "\\mu_{cut}=\\frac{\\sum^{|n(1-\\alpha)|}_{i=|n\\alpha|} x_i}{ |n(1-\\alpha)|-|n\\alpha| }\n",
        "\\end{align}\n",
        "\n",
        "\\begin{align}\n",
        " & \\\\\n",
        " & x_i :? \\\\\n",
        " & n : ?\\\\ \n",
        " & \\alpha : ?\n",
        "\\end{align}\n",
        "\n",
        "```\n",
        "from scipy.stats import trim_mean\n",
        "trim_mean(x, alpha) \n",
        "```\n"
      ],
      "metadata": {
        "id": "pfvnB5ljFiPP"
      }
    },
    {
      "cell_type": "markdown",
      "source": [
        "* alpha 비율 0.1일 때 절사 평균 계산"
      ],
      "metadata": {
        "id": "HJvDmFFs88l1"
      }
    },
    {
      "cell_type": "code",
      "source": [
        ""
      ],
      "metadata": {
        "id": "byF7axwMyb1J"
      },
      "execution_count": null,
      "outputs": []
    },
    {
      "cell_type": "markdown",
      "source": [
        "## 대표 통계 - 범주자료형\n",
        "---"
      ],
      "metadata": {
        "id": "JPdOBwZwwkcF"
      }
    },
    {
      "cell_type": "markdown",
      "source": [
        "### **| 데이터 생성**\n",
        "\n",
        "```\n",
        "# 아래 함수는 리스트 안의 요소를 랜덤하게 반환합니다.\n",
        "np.random.choice(list, shape)\n",
        "# list = 카테고리가 들어있는 리스트\n",
        "# shape = 추출할 데이터의 크기\n",
        "```"
      ],
      "metadata": {
        "id": "ns3PTnjU9WXN"
      }
    },
    {
      "cell_type": "markdown",
      "source": [
        "* `A, B, C` 세개의 카테고리에서 데이터 1000개 생성하기"
      ],
      "metadata": {
        "id": "s-N5kc3F9WXT"
      }
    },
    {
      "cell_type": "code",
      "execution_count": null,
      "metadata": {
        "id": "KmNsIamiD7XG"
      },
      "outputs": [],
      "source": [
        "# 넘파이 랜덤 시드 0으로 설정\n",
        "\n",
        "# 넘파이 배열 `a`로 바인딩\n",
        "\n",
        "# 판다스 시리즈 `s`로 바인딩\n"
      ]
    },
    {
      "cell_type": "markdown",
      "source": [
        "* 데이터 분포 그리기"
      ],
      "metadata": {
        "id": "VNsc3MM0GTpR"
      }
    },
    {
      "cell_type": "code",
      "source": [
        ""
      ],
      "metadata": {
        "id": "ZKn5mFBdwPfr"
      },
      "execution_count": null,
      "outputs": []
    },
    {
      "cell_type": "markdown",
      "metadata": {
        "id": "6xsxy1RoD7XG"
      },
      "source": [
        "### **| 최빈값**\n",
        "\n",
        "```\n",
        "s.value_counts()\n",
        "\n",
        "from scipy.stats import mode\n",
        "mode(a)\n",
        "```"
      ]
    },
    {
      "cell_type": "markdown",
      "source": [
        "* `value_counts()` 사용하기"
      ],
      "metadata": {
        "id": "OV3eC4UtGl38"
      }
    },
    {
      "cell_type": "code",
      "execution_count": null,
      "metadata": {
        "id": "Ilz_bakbD7XH"
      },
      "outputs": [],
      "source": [
        ""
      ]
    },
    {
      "cell_type": "markdown",
      "source": [
        "* 사이파이 함수 `mode` 사용하기"
      ],
      "metadata": {
        "id": "nxipy7_cGqAn"
      }
    },
    {
      "cell_type": "code",
      "source": [
        ""
      ],
      "metadata": {
        "id": "F3JjvNqAtcUk"
      },
      "execution_count": null,
      "outputs": []
    },
    {
      "cell_type": "markdown",
      "source": [
        "## 예제\n",
        "---"
      ],
      "metadata": {
        "id": "z6JYAMB_4Xq7"
      }
    },
    {
      "cell_type": "markdown",
      "source": [
        "#### **예제 01**\n",
        "\n",
        "1. 평균이 200만원이고 표준편차가 50만원인 정규분포를 따르는 데이터를 아래 넘파이 함수를 이용해 100개 생성하세요.\n",
        "```\n",
        "np.random.normal(mu, std, n)\n",
        "```\n",
        "\n",
        "2. 위에서 생성한 데이터의 히스토그램을 그리세요\n",
        "\n",
        "3. 10억원의 소득을 가지는 데이터 한개를 위 데이터에 추가하세요.\n",
        "\n",
        "4. 데이터의 히스토그램을 그리세요\n",
        "\n",
        "5. 10억원의 소득을 추가하기 전과 후의 데이터의 산술평균을 비교하세요.\n",
        "\n",
        "5. 10억원의 소득을 추가하기 전과 후의 데이터의 절사평균(alpha=0.1)을 비교하세요."
      ],
      "metadata": {
        "id": "S0gYqvK22tij"
      }
    },
    {
      "cell_type": "code",
      "execution_count": null,
      "metadata": {
        "id": "to3bS7CBD7XD"
      },
      "outputs": [],
      "source": [
        ""
      ]
    },
    {
      "cell_type": "markdown",
      "source": [
        "#### **예제 02**\n",
        "\n",
        "타이타닉 데이터셋을 가져오고, 각 변수들의 대표값을 정리하세요."
      ],
      "metadata": {
        "id": "vC9QE_7R5njn"
      }
    },
    {
      "cell_type": "code",
      "source": [
        ""
      ],
      "metadata": {
        "id": "mOw2b43-51ZF"
      },
      "execution_count": null,
      "outputs": []
    }
  ]
}