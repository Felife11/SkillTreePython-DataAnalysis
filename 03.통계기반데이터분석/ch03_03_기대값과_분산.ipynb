{
  "nbformat": 4,
  "nbformat_minor": 0,
  "metadata": {
    "colab": {
      "name": "ch03_03_기대값과_분산.ipynb",
      "provenance": [],
      "collapsed_sections": [],
      "authorship_tag": "ABX9TyNYP2xwqA18CU4w7e14dIjR",
      "include_colab_link": true
    },
    "kernelspec": {
      "name": "python3",
      "display_name": "Python 3"
    },
    "language_info": {
      "name": "python"
    }
  },
  "cells": [
    {
      "cell_type": "markdown",
      "metadata": {
        "id": "view-in-github",
        "colab_type": "text"
      },
      "source": [
        "<a href=\"https://colab.research.google.com/github/yebiny/SkillTreePython-DataAnalysis/blob/main/03.%ED%86%B5%EA%B3%84%EA%B8%B0%EB%B0%98%EB%8D%B0%EC%9D%B4%ED%84%B0%EB%B6%84%EC%84%9D/ch03_03_%EA%B8%B0%EB%8C%80%EA%B0%92%EA%B3%BC_%EB%B6%84%EC%82%B0.ipynb\" target=\"_parent\"><img src=\"https://colab.research.google.com/assets/colab-badge.svg\" alt=\"Open In Colab\"/></a>"
      ]
    },
    {
      "cell_type": "markdown",
      "source": [
        "# ch04.03. 기대값과 분산\n",
        "---\n",
        "* 날짜:\n",
        "* 이름:\n",
        "\n",
        "## 학습내용\n",
        "    - 기대값\n",
        "    - 분산\n",
        "    - 공분산\n",
        "    - 상관계수"
      ],
      "metadata": {
        "id": "wWpXZc2fi39U"
      }
    },
    {
      "cell_type": "code",
      "source": [
        "import numpy as np\n",
        "import matplotlib.pyplot as plt\n",
        "import pandas as pd"
      ],
      "metadata": {
        "id": "uYLRSgCqw4YZ"
      },
      "execution_count": null,
      "outputs": []
    },
    {
      "cell_type": "markdown",
      "source": [
        "### **| 기댓값**\n",
        "\n",
        "\\begin{align}\n",
        "\\mu_X = \\text{E}[X] = \\sum_{x_i \\in \\Omega} x_ip(x_i) \n",
        "\\end{align}\n"
      ],
      "metadata": {
        "id": "PHt4dICKZZhS"
      }
    },
    {
      "cell_type": "code",
      "source": [
        ""
      ],
      "metadata": {
        "id": "y0hVzVL1ZeBh"
      },
      "execution_count": null,
      "outputs": []
    },
    {
      "cell_type": "code",
      "source": [
        ""
      ],
      "metadata": {
        "id": "RQXXbHF7od0n"
      },
      "execution_count": null,
      "outputs": []
    },
    {
      "cell_type": "markdown",
      "source": [
        "#### **예제 01. 공정한 주사위**\n",
        "\n"
      ],
      "metadata": {
        "id": "82a3GtBCNjto"
      }
    },
    {
      "cell_type": "code",
      "source": [
        ""
      ],
      "metadata": {
        "id": "i0hS4O76OIFP"
      },
      "execution_count": null,
      "outputs": []
    },
    {
      "cell_type": "markdown",
      "source": [
        "#### **예제 02. 공정하지 않은 주사위**\n",
        "\n",
        "짝수가 나올 확률이 홀수가 나올 확률의 두배인 주사위의 기대값을 구하세요."
      ],
      "metadata": {
        "id": "PhvhttZg2JyB"
      }
    },
    {
      "cell_type": "code",
      "source": [
        ""
      ],
      "metadata": {
        "id": "tdyZ-8JGaCVY"
      },
      "execution_count": null,
      "outputs": []
    },
    {
      "cell_type": "markdown",
      "source": [
        "#### **예제 03. 기대값의 성질**\n",
        "\n",
        "X, Y, c 가 아래와 같이 주어졌을 때,\n",
        "```\n",
        "X = np.array([1,2,3,4])\n",
        "Y = np.array([10,20,30,40])\n",
        "c = np.array([4])\n",
        "```\n",
        "\n",
        "다음을 구하세요\n",
        "```\n",
        "E(X)\n",
        "E(Y)\n",
        "E(c)\n",
        "E(X+Y)\n",
        "E(X)+E(Y)\n",
        "E(4X+3)\n",
        "4E(X)+3\n",
        "```"
      ],
      "metadata": {
        "id": "2EgD8eUs5A9g"
      }
    },
    {
      "cell_type": "code",
      "source": [
        ""
      ],
      "metadata": {
        "id": "mnLuZkE_5Jln"
      },
      "execution_count": null,
      "outputs": []
    },
    {
      "cell_type": "markdown",
      "source": [
        "#### **예제 04. 시험 성적**\n",
        "\n",
        "학생 네명의 시험 성적이 다음과 같을 때 총합점수의 평균(국어+수학) 을 두가지 방법으로 구하세요.\n",
        "\n",
        "```\n",
        "X_국어 = np.array([60,70,90,100])\n",
        "X_수학 = np.array([70,30,50,50])\n",
        "```"
      ],
      "metadata": {
        "id": "T7VzCEPR6nGn"
      }
    },
    {
      "cell_type": "code",
      "source": [
        ""
      ],
      "metadata": {
        "id": "GNTcSS3x6nGs"
      },
      "execution_count": null,
      "outputs": []
    },
    {
      "cell_type": "markdown",
      "source": [
        "### **| 분산**\n",
        "\n",
        "\\begin{align}\n",
        "V(X) = E[(X-E[X])^2]\n",
        "\\end{align}\n"
      ],
      "metadata": {
        "id": "NGufv-OobGkx"
      }
    },
    {
      "cell_type": "code",
      "source": [
        ""
      ],
      "metadata": {
        "id": "IbFnU_2xbGky"
      },
      "execution_count": null,
      "outputs": []
    },
    {
      "cell_type": "code",
      "source": [
        ""
      ],
      "metadata": {
        "id": "XWKrxRrn27Tf"
      },
      "execution_count": null,
      "outputs": []
    },
    {
      "cell_type": "markdown",
      "source": [
        "#### **예제 01. 동전 던지기**\n",
        "\n",
        "두개의 동전을 던졌을 때 앞면이 나온 횟수를 확률 변수 X라 정의합니다.\n",
        "\n",
        "다음을 구하세요.\n",
        "\n",
        "```\n",
        "X\n",
        "P\n",
        "E(X)\n",
        "V(X)\n",
        "```\n"
      ],
      "metadata": {
        "id": "bJgbzis26zAO"
      }
    },
    {
      "cell_type": "code",
      "source": [
        ""
      ],
      "metadata": {
        "id": "LS31msHr6zAO"
      },
      "execution_count": null,
      "outputs": []
    },
    {
      "cell_type": "markdown",
      "source": [
        "#### **예제 02. 분산의 성질**\n",
        "\n",
        "\n",
        "X,Y 가 아래와 같이 주어졌을 때\n",
        "\n",
        "```\n",
        "X = np.array([1,2,3,4,5,6,7,8,9])\n",
        "c = np.array([10])\n",
        "```\n",
        "\n",
        "다음을 구하세요.\n",
        "\n",
        "```\n",
        "V(X)\n",
        "V(c)\n",
        "V(2X)\n",
        "V(2X-2)\n",
        "4 x V(X)\n",
        "```"
      ],
      "metadata": {
        "id": "JRcCsinm-aiD"
      }
    },
    {
      "cell_type": "code",
      "source": [
        ""
      ],
      "metadata": {
        "id": "FFP0aEUY-aiI"
      },
      "execution_count": null,
      "outputs": []
    },
    {
      "cell_type": "markdown",
      "source": [
        "#### **예제 03. 시험 성적**\n",
        "\n",
        "학생 네명의 시험 성적이 다음과 같습니다.\n",
        "```\n",
        "X_국어 = np.array([60,70,90,100])\n",
        "X_수학 = np.array([70,30,50,50])\n",
        "```\n",
        "\n",
        "다음을 구하세요.\n",
        "```\n",
        "V(X_국어)\n",
        "V(X_수학)\n",
        "V(5*X_국어)\n",
        "5*5*V(X_국어)\n",
        "```\n"
      ],
      "metadata": {
        "id": "0VQG51pJ3Ega"
      }
    },
    {
      "cell_type": "code",
      "source": [
        ""
      ],
      "metadata": {
        "id": "Yjxcmy1B3Egb"
      },
      "execution_count": null,
      "outputs": []
    },
    {
      "cell_type": "markdown",
      "source": [
        "### **| 공분산**\n",
        "\n",
        "\n",
        "\\begin{align}\n",
        "\\text{Cov}(X, Y) = \\text{E}[(X - \\text{E}[X])(Y - \\text{E}[Y])]\n",
        "\\tag{7.5.3}\n",
        "\\end{align}"
      ],
      "metadata": {
        "id": "uu3r4i3_fs62"
      }
    },
    {
      "cell_type": "code",
      "source": [
        ""
      ],
      "metadata": {
        "id": "3h694jZJfvGt"
      },
      "execution_count": null,
      "outputs": []
    },
    {
      "cell_type": "code",
      "source": [
        ""
      ],
      "metadata": {
        "id": "0RjM7m0Okpj_"
      },
      "execution_count": null,
      "outputs": []
    },
    {
      "cell_type": "markdown",
      "source": [
        "### **| 상관계수**\n",
        "\n",
        "\n",
        "* 피어슨(Pearson) 상관계수\n",
        "\n",
        "\\begin{align}\n",
        "\\rho[X,Y] =  \\dfrac{\\text{Cov}[X, Y]}{\\sqrt{\\text{V}[X] \\cdot \\text{V}[Y]}}\n",
        "\\end{align}\n",
        "\n",
        "\\begin{align}\n",
        "-1 \\leq \\rho \\leq 1\n",
        "\\end{align}\n",
        "\n",
        "\n"
      ],
      "metadata": {
        "id": "Vn_-yEAmfwjD"
      }
    },
    {
      "cell_type": "code",
      "source": [
        ""
      ],
      "metadata": {
        "id": "cDkhhX-hjRVl"
      },
      "execution_count": null,
      "outputs": []
    },
    {
      "cell_type": "code",
      "source": [
        ""
      ],
      "metadata": {
        "id": "UUnwQS71kBG_"
      },
      "execution_count": null,
      "outputs": []
    },
    {
      "cell_type": "markdown",
      "source": [
        "#### **예제 01. 두 뽑기의 확률**\n",
        "\n",
        "두 뽑기 A, B에서 나오는 숫자들의 확률이 아래와 같을 때 X와Y의 공분산과 상관계수를 구하세요.\n",
        "```\n",
        "X = [0,1,2]\n",
        "P(X) = [1/5, 2/5, 2/5]\n",
        "Y - [0, 1, 2]\n",
        "P(Y) = [1/5, 3/5, 1/5]\n",
        "```"
      ],
      "metadata": {
        "id": "k2fH0nowszcq"
      }
    },
    {
      "cell_type": "code",
      "source": [
        ""
      ],
      "metadata": {
        "id": "eN3AX__Ru_4u"
      },
      "execution_count": null,
      "outputs": []
    },
    {
      "cell_type": "markdown",
      "source": [
        "#### **예제 02. 표본 그리기 1**\n",
        "\n",
        "아래 코드는 표본을 10000개 추출 합니다.\n",
        "\n",
        "\n",
        "\n",
        "```\n",
        "x, y = np.random.multivariate_normal([0, 0], [[1, a], [a, 1]], 10000).T\n",
        "x.shape, y.shape\n",
        "```\n",
        "\n",
        "1. a 값이 `-1,0.7,0.3,0.01,-0.3,-0.7,-1` 일 때 x, y의 표본쌍 7개의 스캐터 플롯을 그리고, \n",
        "2. 각 경우에 x, y의 상관계수를 구하세요.\n"
      ],
      "metadata": {
        "id": "SzWRwbA2ob00"
      }
    },
    {
      "cell_type": "code",
      "source": [
        ""
      ],
      "metadata": {
        "id": "G3rJmkC5n_Eo"
      },
      "execution_count": null,
      "outputs": []
    },
    {
      "cell_type": "markdown",
      "source": [
        "#### **예제 03. 표본 그리기 2**\n",
        "\n",
        "아래 코드는 표본을 10000개 추출 합니다.\n",
        "\n",
        "\n",
        "\n",
        "```\n",
        "x, y = np.random.multivariate_normal([0, 0], [[1, 1], [1, 1]], 10000).T\n",
        "x.shape, y.shape\n",
        "```\n",
        "\n",
        "\n",
        "1. x 표본은 그대로 두고, y 표본에 `1, 0.7, 0.3, 0.01, -0.3, -0.7, -1`을 각각 곱해서 각 표본쌍의 스캐터 플롯 7개를 그리세요.\n",
        "2. 7가지 경우에 대한 x, y 상관계수를 구하세요.\n"
      ],
      "metadata": {
        "id": "HsCNgtJzq2x6"
      }
    },
    {
      "cell_type": "code",
      "source": [
        ""
      ],
      "metadata": {
        "id": "PhPtD0Nif3rF"
      },
      "execution_count": null,
      "outputs": []
    },
    {
      "cell_type": "code",
      "source": [
        ""
      ],
      "metadata": {
        "id": "JthJCPMsupbz"
      },
      "execution_count": null,
      "outputs": []
    }
  ]
}