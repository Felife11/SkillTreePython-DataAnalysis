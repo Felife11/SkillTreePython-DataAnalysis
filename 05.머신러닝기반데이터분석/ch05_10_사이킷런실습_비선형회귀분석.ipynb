{
  "nbformat": 4,
  "nbformat_minor": 0,
  "metadata": {
    "colab": {
      "name": "ch05_10_사이킷런실습-비선형회귀분석.ipynb",
      "provenance": [],
      "collapsed_sections": [],
      "mount_file_id": "1pg9tXcbXoH2adOPU2pdbP6d9bVYrc-AP",
      "authorship_tag": "ABX9TyPSXGQSz7Pbs1Jfdy3TtfCk",
      "include_colab_link": true
    },
    "kernelspec": {
      "name": "python3",
      "display_name": "Python 3"
    },
    "language_info": {
      "name": "python"
    }
  },
  "cells": [
    {
      "cell_type": "markdown",
      "metadata": {
        "id": "view-in-github",
        "colab_type": "text"
      },
      "source": [
        "<a href=\"https://colab.research.google.com/github/yebiny/SkillTreePython-DataAnalysis/blob/main/05.%EB%A8%B8%EC%8B%A0%EB%9F%AC%EB%8B%9D%EA%B8%B0%EB%B0%98%EB%8D%B0%EC%9D%B4%ED%84%B0%EB%B6%84%EC%84%9D/ch05_10_%EC%82%AC%EC%9D%B4%ED%82%B7%EB%9F%B0%EC%8B%A4%EC%8A%B5_%EB%B9%84%EC%84%A0%ED%98%95%ED%9A%8C%EA%B7%80%EB%B6%84%EC%84%9D.ipynb\" target=\"_parent\"><img src=\"https://colab.research.google.com/assets/colab-badge.svg\" alt=\"Open In Colab\"/></a>"
      ]
    },
    {
      "cell_type": "markdown",
      "metadata": {
        "id": "wWpXZc2fi39U"
      },
      "source": [
        "# ch05.10. 사이킷런 실습 - 비선형회귀분석\n",
        "\n",
        "---\n",
        "* 날짜:\n",
        "* 이름:\n",
        "\n",
        "## 학습내용\n",
        "    - 다항식을 이용한 회귀 분석을 진행한다.\n",
        "    - 랜덤 포레스트를 이용해 비선형 회귀를 진행한다.\n",
        "    - 앙상블 학습에 대해 이해한다."
      ]
    },
    {
      "cell_type": "markdown",
      "metadata": {
        "id": "kByKdJPApy6P"
      },
      "source": [
        "```\n",
        "import numpy as np\n",
        "import pandas as pd\n",
        "import seaborn as sns\n",
        "import matplotlib.pyplot as plt\n",
        "```"
      ]
    },
    {
      "cell_type": "code",
      "source": [
        ""
      ],
      "metadata": {
        "id": "YW4q7CsxPlQh"
      },
      "execution_count": null,
      "outputs": []
    },
    {
      "cell_type": "code",
      "source": [
        ""
      ],
      "metadata": {
        "id": "YIUkCYsGEVIh"
      },
      "execution_count": null,
      "outputs": []
    },
    {
      "cell_type": "markdown",
      "source": [
        "## **선형 회귀 모델을 다항 회귀로 변환**\n",
        "---"
      ],
      "metadata": {
        "id": "GYfR9QxDOEIy"
      }
    },
    {
      "cell_type": "markdown",
      "source": [
        "### **| 간단한 데이터에 대한 다항 회귀**"
      ],
      "metadata": {
        "id": "_dvcAIL3C3vE"
      }
    },
    {
      "cell_type": "markdown",
      "source": [
        "#### **데이터**\n",
        "```\n",
        "X = np.array([258.0, 270.0, 294.0, \n",
        "              320.0, 342.0, 368.0, \n",
        "              396.0, 446.0, 480.0, 586.0]).reshape(-1, 1)\n",
        "\n",
        "y = np.array([236.4, 234.4, 252.8, \n",
        "              298.6, 314.2, 342.2, \n",
        "              360.8, 368.0, 391.2,\n",
        "              390.8])\n",
        "```"
      ],
      "metadata": {
        "id": "OhR4fxMkCt-3"
      }
    },
    {
      "cell_type": "markdown",
      "source": [
        "* 데이터 생성"
      ],
      "metadata": {
        "id": "GMZTe-AcDRFw"
      }
    },
    {
      "cell_type": "code",
      "source": [
        ""
      ],
      "metadata": {
        "id": "3Ycs4pI60zPo"
      },
      "execution_count": null,
      "outputs": []
    },
    {
      "cell_type": "markdown",
      "source": [
        "* 시각화"
      ],
      "metadata": {
        "id": "kJKrGZF0C1du"
      }
    },
    {
      "cell_type": "code",
      "source": [
        ""
      ],
      "metadata": {
        "id": "TaZLcFNu3gRm"
      },
      "execution_count": null,
      "outputs": []
    },
    {
      "cell_type": "markdown",
      "source": [
        "#### **선형 특성 학습**"
      ],
      "metadata": {
        "id": "sjMo6aNaDCIU"
      }
    },
    {
      "cell_type": "code",
      "source": [
        ""
      ],
      "metadata": {
        "id": "QK57ELPT0-9M"
      },
      "execution_count": null,
      "outputs": []
    },
    {
      "cell_type": "markdown",
      "source": [
        "#### **이차항 특성 학습**\n"
      ],
      "metadata": {
        "id": "rvuZSvRvzmhT"
      }
    },
    {
      "cell_type": "code",
      "source": [
        ""
      ],
      "metadata": {
        "id": "zaVfSiPW1DyA"
      },
      "execution_count": null,
      "outputs": []
    },
    {
      "cell_type": "markdown",
      "source": [
        "* X 데이터 변환"
      ],
      "metadata": {
        "id": "Tlyc4sYWH3Zg"
      }
    },
    {
      "cell_type": "code",
      "source": [
        ""
      ],
      "metadata": {
        "id": "7TE8lUHfz86X"
      },
      "execution_count": null,
      "outputs": []
    },
    {
      "cell_type": "markdown",
      "source": [
        "* 학습"
      ],
      "metadata": {
        "id": "DR79eUEsH8gM"
      }
    },
    {
      "cell_type": "code",
      "source": [
        ""
      ],
      "metadata": {
        "id": "831zjGBc6kGX"
      },
      "execution_count": null,
      "outputs": []
    },
    {
      "cell_type": "markdown",
      "source": [
        "#### **테스트셋 성능 비교**"
      ],
      "metadata": {
        "id": "tyHcbw-9HzF8"
      }
    },
    {
      "cell_type": "code",
      "source": [
        ""
      ],
      "metadata": {
        "id": "pKQsac_KAQz0"
      },
      "execution_count": null,
      "outputs": []
    },
    {
      "cell_type": "markdown",
      "source": [
        "#### **그래프 시각화**"
      ],
      "metadata": {
        "id": "4Ef6kxh6H1hs"
      }
    },
    {
      "cell_type": "code",
      "source": [
        ""
      ],
      "metadata": {
        "id": "p4WIs-nQ1VKG"
      },
      "execution_count": null,
      "outputs": []
    },
    {
      "cell_type": "markdown",
      "source": [
        "### **| 주택 데이터를 이용한 비선형 회귀 분석**\n"
      ],
      "metadata": {
        "id": "B4BejB3gxzqR"
      }
    },
    {
      "cell_type": "markdown",
      "source": [
        "\n",
        "#### **주택 데이터셋**\n",
        "\n",
        "[https://archive.ics.uci.edu/ml/datasets/Housing](https://archive.ics.uci.edu/ml/datasets/Housing)\n",
        "\n",
        "    \n",
        "<pre>\n",
        "01. CRIM     도시의 인당 범죄율\n",
        "02. ZN       2만 5,0000평방 피트가 넘는 주택 비율\n",
        "03. INDUS    도시에서 소매 업종이 아닌 지역 비율\n",
        "04. CHAS     찰스 강 인접 여부(강 주변=1, 그외=0)\n",
        "05. NOX      일산화질소 농도(10ppm당)\n",
        "06. RM       주택의 평균 방 개수\n",
        "07. AGE      1940년 이전에 지어진 자가 주택 비율\n",
        "08. DIS      다섯 개의 보스턴 고용 센터까지 가중치가 적용된 거리\n",
        "09. RAD      방사형으로 뻗은 고속도로까지 접근성 지수\n",
        "10. TAX      10만 달러당 재산세율\n",
        "11. PTRATIO  도시의 학생-교사 비율\n",
        "12. B        1000(Bk - 0.63)^2 도시의 아프리카계 미국인 비율\n",
        "13. LSTAT    저소득층 비율\n",
        "14. MEDV     자가 주택의 중간가격 (단위 $1000s)\n",
        "</pre>\n",
        "\n"
      ],
      "metadata": {
        "id": "SwHpIs02xtKM"
      }
    },
    {
      "cell_type": "markdown",
      "source": [
        "* 데이터 불러오기\n"
      ],
      "metadata": {
        "id": "an_F7hczTA6u"
      }
    },
    {
      "cell_type": "code",
      "source": [
        ""
      ],
      "metadata": {
        "id": "hyZDJJVdJ9--"
      },
      "execution_count": null,
      "outputs": []
    },
    {
      "cell_type": "markdown",
      "source": [
        "* 시각화"
      ],
      "metadata": {
        "id": "Edjyi6Ba-t5F"
      }
    },
    {
      "cell_type": "code",
      "source": [
        "def draw_data():\n",
        "  plt.scatter(, , label='', color='lightgray')\n",
        "  plt.scatter(, , label='', color='lightgreen')\n",
        "  plt.xlabel('% lower status of the population [LSTAT]')\n",
        "  plt.ylabel('Price in $1000s [MEDV]')\n",
        "  plt.legend()"
      ],
      "metadata": {
        "colab": {
          "base_uri": "https://localhost:8080/",
          "height": 279
        },
        "id": "VTkitF4MNXWp",
        "outputId": "2c0f908f-a3b8-4ac7-9ae6-5c41a4d53649"
      },
      "execution_count": null,
      "outputs": [
        {
          "output_type": "display_data",
          "data": {
            "text/plain": [
              "<Figure size 432x288 with 1 Axes>"
            ],
            "image/png": "[encoded data removed]"
          },
          "metadata": {
            "needs_background": "light"
          }
        }
      ]
    },
    {
      "cell_type": "markdown",
      "source": [
        "#### **선형 모델 학습**"
      ],
      "metadata": {
        "id": "-lSaVrzH-0fd"
      }
    },
    {
      "cell_type": "code",
      "source": [
        ""
      ],
      "metadata": {
        "id": "TgFDjdHP-yBz"
      },
      "execution_count": null,
      "outputs": []
    },
    {
      "cell_type": "markdown",
      "source": [
        "#### **이차 다항 모델 학습**"
      ],
      "metadata": {
        "id": "1RTFnTJE-29P"
      }
    },
    {
      "cell_type": "code",
      "source": [
        ""
      ],
      "metadata": {
        "id": "XGz31zmn-yD9"
      },
      "execution_count": null,
      "outputs": []
    },
    {
      "cell_type": "markdown",
      "source": [
        "#### **삼차 다항 모델 학습**"
      ],
      "metadata": {
        "id": "sUOLczvE-9vM"
      }
    },
    {
      "cell_type": "code",
      "source": [
        ""
      ],
      "metadata": {
        "id": "69sIWqRt-yF8"
      },
      "execution_count": null,
      "outputs": []
    },
    {
      "cell_type": "markdown",
      "source": [
        "#### **테스트셋 성능 비교**"
      ],
      "metadata": {
        "id": "V3fvA5AZCci0"
      }
    },
    {
      "cell_type": "code",
      "source": [
        ""
      ],
      "metadata": {
        "id": "ljOPV5DGRBoR"
      },
      "execution_count": null,
      "outputs": []
    },
    {
      "cell_type": "markdown",
      "source": [
        "#### **그래프 시각화**"
      ],
      "metadata": {
        "id": "aNIjJ9smCf9F"
      }
    },
    {
      "cell_type": "code",
      "source": [
        ""
      ],
      "metadata": {
        "id": "irw_FWuHRPra"
      },
      "execution_count": null,
      "outputs": []
    },
    {
      "cell_type": "markdown",
      "source": [
        "## **랜덤 포레스트를 사용하여 비선형 관계 다루기**\n",
        "---\n",
        "\n",
        "![](https://img1.daumcdn.net/thumb/R1280x0/?scode=mtistory2&fname=https%3A%2F%2Fblog.kakaocdn.net%2Fdn%2F96F6N%2FbtqwVglgV2S%2FYTCytd7Z2egbnbJM29MJv1%2Fimg.png)\n",
        "\n",
        "*출처:  ratsgo's blog"
      ],
      "metadata": {
        "id": "o_Z_UJB-bM6R"
      }
    },
    {
      "cell_type": "markdown",
      "source": [
        "### **| 결정트리 회귀**"
      ],
      "metadata": {
        "id": "JmqniPTaf0sE"
      }
    },
    {
      "cell_type": "markdown",
      "source": [
        "#### **모델 학습**"
      ],
      "metadata": {
        "id": "U9AXb-Z5EV9C"
      }
    },
    {
      "cell_type": "code",
      "source": [
        ""
      ],
      "metadata": {
        "id": "jBKTe-_bgNDi"
      },
      "execution_count": null,
      "outputs": []
    },
    {
      "cell_type": "markdown",
      "source": [
        "#### **테스트셋 성능비교**"
      ],
      "metadata": {
        "id": "p0j-4TSyEY0a"
      }
    },
    {
      "cell_type": "code",
      "source": [
        ""
      ],
      "metadata": {
        "id": "22aKQ3OJ9v8n"
      },
      "execution_count": null,
      "outputs": []
    },
    {
      "cell_type": "markdown",
      "source": [
        "#### **그래프 시각화**"
      ],
      "metadata": {
        "id": "J1EfnMS-Eb0T"
      }
    },
    {
      "cell_type": "code",
      "source": [
        ""
      ],
      "metadata": {
        "id": "wefFK6Ivatq5"
      },
      "execution_count": null,
      "outputs": []
    },
    {
      "cell_type": "markdown",
      "source": [
        "### **| 랜덤 포레스트 회귀 (Random Forest Regressor)**"
      ],
      "metadata": {
        "id": "l1XVbkXFD7Rm"
      }
    },
    {
      "cell_type": "markdown",
      "source": [
        "#### **모델 학습**"
      ],
      "metadata": {
        "id": "vPA4opI3EAza"
      }
    },
    {
      "cell_type": "code",
      "source": [
        ""
      ],
      "metadata": {
        "id": "M_wdfRw0bQhp"
      },
      "execution_count": null,
      "outputs": []
    },
    {
      "cell_type": "markdown",
      "source": [
        "#### **테스트셋 성능 비교**"
      ],
      "metadata": {
        "id": "uLPJ4OV6EFyT"
      }
    },
    {
      "cell_type": "code",
      "source": [
        ""
      ],
      "metadata": {
        "id": "thihkhhg91d0"
      },
      "execution_count": null,
      "outputs": []
    },
    {
      "cell_type": "markdown",
      "source": [
        "#### **그래프 시각화**"
      ],
      "metadata": {
        "id": "9yj-SJ85ESGc"
      }
    },
    {
      "cell_type": "code",
      "source": [
        ""
      ],
      "metadata": {
        "id": "Zipzp2MBf400"
      },
      "execution_count": null,
      "outputs": []
    },
    {
      "cell_type": "markdown",
      "source": [
        "### **| 엑스트라 트리 (Extra Tree Regressor)**"
      ],
      "metadata": {
        "id": "J6xmuPP6LZjz"
      }
    },
    {
      "cell_type": "markdown",
      "source": [
        "#### **모델 학습**"
      ],
      "metadata": {
        "id": "hC2KVu-XLZj5"
      }
    },
    {
      "cell_type": "code",
      "source": [
        ""
      ],
      "metadata": {
        "id": "w63LEOBVLZj5"
      },
      "execution_count": null,
      "outputs": []
    },
    {
      "cell_type": "markdown",
      "source": [
        "#### **테스트셋 성능 비교**"
      ],
      "metadata": {
        "id": "exSV_oihLZj5"
      }
    },
    {
      "cell_type": "code",
      "source": [
        ""
      ],
      "metadata": {
        "id": "iF7cDoxQLZj5"
      },
      "execution_count": null,
      "outputs": []
    },
    {
      "cell_type": "markdown",
      "source": [
        "#### **그래프 시각화**"
      ],
      "metadata": {
        "id": "RWMOqMszLZj5"
      }
    },
    {
      "cell_type": "code",
      "source": [
        ""
      ],
      "metadata": {
        "id": "SAm2hvuYLZj5"
      },
      "execution_count": null,
      "outputs": []
    },
    {
      "cell_type": "markdown",
      "source": [
        "### **| Gradient Boosting Regressor**"
      ],
      "metadata": {
        "id": "k8XiGE3NMED_"
      }
    },
    {
      "cell_type": "markdown",
      "source": [
        "#### **모델 학습**"
      ],
      "metadata": {
        "id": "OuQDDlYoMEEE"
      }
    },
    {
      "cell_type": "code",
      "source": [
        ""
      ],
      "metadata": {
        "id": "JuqxOkcjMEEF"
      },
      "execution_count": null,
      "outputs": []
    },
    {
      "cell_type": "markdown",
      "source": [
        "#### **테스트셋 성능 비교**"
      ],
      "metadata": {
        "id": "gCjS_nhuMEEF"
      }
    },
    {
      "cell_type": "code",
      "source": [
        ""
      ],
      "metadata": {
        "id": "m2EaO6yuMEEF"
      },
      "execution_count": null,
      "outputs": []
    },
    {
      "cell_type": "markdown",
      "source": [
        "#### **그래프 시각화**"
      ],
      "metadata": {
        "id": "VizJqzEyMEEF"
      }
    },
    {
      "cell_type": "code",
      "source": [
        ""
      ],
      "metadata": {
        "id": "HT2r-hT9MEEF"
      },
      "execution_count": null,
      "outputs": []
    },
    {
      "cell_type": "markdown",
      "source": [
        "### **| XGBoost Regressor**"
      ],
      "metadata": {
        "id": "kNc2FzbdMbBX"
      }
    },
    {
      "cell_type": "markdown",
      "source": [
        "#### **모델 학습**"
      ],
      "metadata": {
        "id": "o4GP5G89MbBX"
      }
    },
    {
      "cell_type": "code",
      "source": [
        ""
      ],
      "metadata": {
        "id": "e-Z4OxoFMbBX"
      },
      "execution_count": null,
      "outputs": []
    },
    {
      "cell_type": "markdown",
      "source": [
        "#### **테스트셋 성능 비교**"
      ],
      "metadata": {
        "id": "JlCj1bdxMbBY"
      }
    },
    {
      "cell_type": "code",
      "source": [
        ""
      ],
      "metadata": {
        "id": "dJDy8n18MbBY"
      },
      "execution_count": null,
      "outputs": []
    },
    {
      "cell_type": "markdown",
      "source": [
        "#### **그래프 시각화**"
      ],
      "metadata": {
        "id": "YFFUEVtXMbBY"
      }
    },
    {
      "cell_type": "code",
      "source": [
        ""
      ],
      "metadata": {
        "id": "ChvPJh-nMbBY"
      },
      "execution_count": null,
      "outputs": []
    },
    {
      "cell_type": "markdown",
      "source": [
        "## **과제1: 주택 데이터셋 다중 회귀 분석**\n",
        "---\n",
        "\n",
        "* 주택 데이터셋의 X의 모든 속성을 이용해 y를 예측합니다.\n",
        "* 지난시간과 이번시간에 배운 회귀 분석 모델을 모두 사용해보고, 성능을 비교해 봅니다.\n",
        "* 단, 다항회귀는 사용하지 마세요.\n",
        "* 사용 모델 : \n",
        "```\n",
        "'linear', 'ridge', 'lasso', 'elastic', 'bayes_ridge', 'tree', 'forest', 'et', 'gb', 'xgb'\n",
        "```"
      ],
      "metadata": {
        "id": "5JWTBCG-EkR1"
      }
    },
    {
      "cell_type": "markdown",
      "source": [
        "#### **데이터 불러오기**"
      ],
      "metadata": {
        "id": "hc-YysUvFJWS"
      }
    },
    {
      "cell_type": "code",
      "source": [
        ""
      ],
      "metadata": {
        "id": "qpeyED8xf9gT"
      },
      "execution_count": null,
      "outputs": []
    },
    {
      "cell_type": "markdown",
      "source": [
        "* 분석 예시"
      ],
      "metadata": {
        "id": "bOGoI8O3GieY"
      }
    },
    {
      "cell_type": "code",
      "source": [
        ""
      ],
      "metadata": {
        "id": "T0rcVkSyoQWp"
      },
      "execution_count": null,
      "outputs": []
    },
    {
      "cell_type": "markdown",
      "source": [
        "## **과제2: 해외 축구 선수 이적료 예측 미션**\n",
        "---\n",
        "\n",
        "* https://dacon.io/competitions/open/235538/overview/description\n",
        "* 수업 시간에 배운 내용들을 적용하여 이적료 예측을 진행하고 리더보드에 결과를 제출합니다."
      ],
      "metadata": {
        "id": "ZFUD38WPFP4Y"
      }
    },
    {
      "cell_type": "code",
      "source": [
        ""
      ],
      "metadata": {
        "id": "KKEbLngkFdwk"
      },
      "execution_count": null,
      "outputs": []
    }
  ]
}