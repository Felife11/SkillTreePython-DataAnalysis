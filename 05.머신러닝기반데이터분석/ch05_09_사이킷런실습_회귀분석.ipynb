{
  "nbformat": 4,
  "nbformat_minor": 0,
  "metadata": {
    "colab": {
      "name": "ch05_09_사이킷런실습-회귀분석.ipynb",
      "provenance": [],
      "collapsed_sections": [],
      "mount_file_id": "13iWx9rwx6ujONWtyp6mPS33lSIjG9pKP",
      "authorship_tag": "ABX9TyPMPR4iGAZ2D9BqHM0+fLj2",
      "include_colab_link": true
    },
    "kernelspec": {
      "name": "python3",
      "display_name": "Python 3"
    },
    "language_info": {
      "name": "python"
    }
  },
  "cells": [
    {
      "cell_type": "markdown",
      "metadata": {
        "id": "view-in-github",
        "colab_type": "text"
      },
      "source": [
        "<a href=\"https://colab.research.google.com/github/yebiny/SkillTreePython-DataAnalysis/blob/main/05.%EB%A8%B8%EC%8B%A0%EB%9F%AC%EB%8B%9D%EA%B8%B0%EB%B0%98%EB%8D%B0%EC%9D%B4%ED%84%B0%EB%B6%84%EC%84%9D/ch05_09_%EC%82%AC%EC%9D%B4%ED%82%B7%EB%9F%B0%EC%8B%A4%EC%8A%B5_%ED%9A%8C%EA%B7%80%EB%B6%84%EC%84%9D.ipynb\" target=\"_parent\"><img src=\"https://colab.research.google.com/assets/colab-badge.svg\" alt=\"Open In Colab\"/></a>"
      ]
    },
    {
      "cell_type": "markdown",
      "metadata": {
        "id": "wWpXZc2fi39U"
      },
      "source": [
        "# ch05.09. 사이킷런 실습 - 회귀분석\n",
        "\n",
        "---\n",
        "* 날짜:\n",
        "* 이름:\n",
        "\n",
        "## 학습내용\n",
        "    - 사이킷런을 이용해 여러가지 회귀 모델을 사용한다.\n",
        "    - 회귀 성능 지표에 대해 이해한다.\n",
        "    - 회귀 분석 결과를 시각화 한다."
      ]
    },
    {
      "cell_type": "markdown",
      "metadata": {
        "id": "kByKdJPApy6P"
      },
      "source": [
        "```\n",
        "import numpy as np\n",
        "import pandas as pd\n",
        "import seaborn as sns\n",
        "import matplotlib.pyplot as plt\n",
        "```"
      ]
    },
    {
      "cell_type": "code",
      "source": [
        ""
      ],
      "metadata": {
        "id": "YW4q7CsxPlQh"
      },
      "execution_count": null,
      "outputs": []
    },
    {
      "cell_type": "markdown",
      "source": [
        "## 단순 회귀 분석\n",
        "---"
      ],
      "metadata": {
        "id": "GYfR9QxDOEIy"
      }
    },
    {
      "cell_type": "markdown",
      "source": [
        "### **| 데이터 처리**\n"
      ],
      "metadata": {
        "id": "B4BejB3gxzqR"
      }
    },
    {
      "cell_type": "markdown",
      "source": [
        "\n",
        "#### **주택 데이터 EDA**\n",
        "\n",
        "[https://archive.ics.uci.edu/ml/datasets/Housing](https://archive.ics.uci.edu/ml/datasets/Housing)\n",
        "\n",
        "    \n",
        "<pre>\n",
        "01. CRIM     도시의 인당 범죄율\n",
        "02. ZN       2만 5,0000평방 피트가 넘는 주택 비율\n",
        "03. INDUS    도시에서 소매 업종이 아닌 지역 비율\n",
        "04. CHAS     찰스 강 인접 여부(강 주변=1, 그외=0)\n",
        "05. NOX      일산화질소 농도(10ppm당)\n",
        "06. RM       주택의 평균 방 개수\n",
        "07. AGE      1940년 이전에 지어진 자가 주택 비율\n",
        "08. DIS      다섯 개의 보스턴 고용 센터까지 가중치가 적용된 거리\n",
        "09. RAD      방사형으로 뻗은 고속도로까지 접근성 지수\n",
        "10. TAX      10만 달러당 재산세율\n",
        "11. PTRATIO  도시의 학생-교사 비율\n",
        "12. B        1000(Bk - 0.63)^2 도시의 아프리카계 미국인 비율\n",
        "13. LSTAT    저소득층 비율\n",
        "14. MEDV     자가 주택의 중간가격 (단위 $1000s)\n",
        "</pre>\n",
        "\n",
        "```\n",
        "import pandas as pd\n",
        "\n",
        "df = pd.read_csv('https://raw.githubusercontent.com/rasbt/'\n",
        "                 'python-machine-learning-book-3rd-edition/'\n",
        "                 'master/ch10/housing.data.txt',\n",
        "                 header=None,\n",
        "                 sep='\\s+')\n",
        "\n",
        "df.columns = ['CRIM', 'ZN', 'INDUS', 'CHAS', \n",
        "              'NOX', 'RM', 'AGE', 'DIS', 'RAD', \n",
        "              'TAX', 'PTRATIO', 'B', 'LSTAT', 'MEDV']\n",
        "```"
      ],
      "metadata": {
        "id": "SwHpIs02xtKM"
      }
    },
    {
      "cell_type": "markdown",
      "source": [
        "* 데이터 불러오기 및 기본 shape 확인"
      ],
      "metadata": {
        "id": "2glG-FY183bH"
      }
    },
    {
      "cell_type": "code",
      "source": [
        ""
      ],
      "metadata": {
        "id": "W4NEYjhdGB0s"
      },
      "execution_count": null,
      "outputs": []
    },
    {
      "cell_type": "markdown",
      "source": [
        "* 각 속성별 기본 정보 확인"
      ],
      "metadata": {
        "id": "KNgCYDRF8762"
      }
    },
    {
      "cell_type": "code",
      "source": [
        ""
      ],
      "metadata": {
        "id": "kFfkOclaRXiy"
      },
      "execution_count": null,
      "outputs": []
    },
    {
      "cell_type": "markdown",
      "source": [
        "* 속성별 고유값 확인"
      ],
      "metadata": {
        "id": "__NJGtbw8_kQ"
      }
    },
    {
      "cell_type": "code",
      "source": [
        ""
      ],
      "metadata": {
        "id": "OAQ9ucIiRqJa"
      },
      "execution_count": null,
      "outputs": []
    },
    {
      "cell_type": "markdown",
      "source": [
        "* 속성별 분포 시각화"
      ],
      "metadata": {
        "id": "Gfosk5ap9Fgd"
      }
    },
    {
      "cell_type": "code",
      "source": [
        ""
      ],
      "metadata": {
        "id": "KmdpQYfdQ_Ke"
      },
      "execution_count": null,
      "outputs": []
    },
    {
      "cell_type": "markdown",
      "source": [
        "* 속성간 상관계수 시각화"
      ],
      "metadata": {
        "id": "ltv4KC4x9IMc"
      }
    },
    {
      "cell_type": "code",
      "source": [
        ""
      ],
      "metadata": {
        "id": "Jica-L9yREl2"
      },
      "execution_count": null,
      "outputs": []
    },
    {
      "cell_type": "markdown",
      "source": [
        "* 모든 속성간 산점도 그리기"
      ],
      "metadata": {
        "id": "Hb2e24rP9Kpz"
      }
    },
    {
      "cell_type": "code",
      "source": [
        ""
      ],
      "metadata": {
        "id": "2ONUZOQFWg9u"
      },
      "execution_count": null,
      "outputs": []
    },
    {
      "cell_type": "markdown",
      "source": [
        "#### **데이터 전처리**\n"
      ],
      "metadata": {
        "id": "an_F7hczTA6u"
      }
    },
    {
      "cell_type": "markdown",
      "source": [
        "* 넘파이 배열로 변환"
      ],
      "metadata": {
        "id": "e8v8T1p5UbEe"
      }
    },
    {
      "cell_type": "code",
      "source": [
        ""
      ],
      "metadata": {
        "id": "s2L7QwwBTC6J"
      },
      "execution_count": null,
      "outputs": []
    },
    {
      "cell_type": "markdown",
      "source": [
        "* 데이터 분할 (테스트 비율 0.2)"
      ],
      "metadata": {
        "id": "kFIEJTGhTbBt"
      }
    },
    {
      "cell_type": "code",
      "source": [
        ""
      ],
      "metadata": {
        "id": "oJuhx3WzTcd1"
      },
      "execution_count": null,
      "outputs": []
    },
    {
      "cell_type": "markdown",
      "source": [
        "* 스케일링 - 정규화 진행"
      ],
      "metadata": {
        "id": "1QMTBgw1TV_a"
      }
    },
    {
      "cell_type": "code",
      "source": [
        ""
      ],
      "metadata": {
        "id": "y41IdgbsTUqG"
      },
      "execution_count": null,
      "outputs": []
    },
    {
      "cell_type": "markdown",
      "source": [
        "* 훈련 데이터 정규화"
      ],
      "metadata": {
        "id": "GaYSKxwTUnAs"
      }
    },
    {
      "cell_type": "code",
      "source": [
        ""
      ],
      "metadata": {
        "id": "ouWeklk4T0xm"
      },
      "execution_count": null,
      "outputs": []
    },
    {
      "cell_type": "markdown",
      "source": [
        "* 테스트 데이터 정규화"
      ],
      "metadata": {
        "id": "EPAZ4MKZUr0a"
      }
    },
    {
      "cell_type": "code",
      "source": [
        ""
      ],
      "metadata": {
        "id": "lI2Q3tjFUfhq"
      },
      "execution_count": null,
      "outputs": []
    },
    {
      "cell_type": "markdown",
      "source": [
        "### **| 모델링**"
      ],
      "metadata": {
        "id": "vZlfqOjAUvGi"
      }
    },
    {
      "cell_type": "markdown",
      "source": [
        "#### **직접 만든 회귀 클래스 사용**"
      ],
      "metadata": {
        "id": "V17EHGHYVG7Y"
      }
    },
    {
      "cell_type": "markdown",
      "source": [
        "* 클래스 구현"
      ],
      "metadata": {
        "id": "nLVZc5p-VMsa"
      }
    },
    {
      "cell_type": "code",
      "source": [
        ""
      ],
      "metadata": {
        "id": "SD4aJm-uVJtl"
      },
      "execution_count": null,
      "outputs": []
    },
    {
      "cell_type": "markdown",
      "source": [
        "* 모델 로드 및 학습"
      ],
      "metadata": {
        "id": "jTBW4snUhFoW"
      }
    },
    {
      "cell_type": "code",
      "source": [
        ""
      ],
      "metadata": {
        "id": "AgCLSwKxVU1U"
      },
      "execution_count": null,
      "outputs": []
    },
    {
      "cell_type": "markdown",
      "source": [
        "* 학습곡선 그리기"
      ],
      "metadata": {
        "id": "7RLF_j2qhIh1"
      }
    },
    {
      "cell_type": "code",
      "source": [
        ""
      ],
      "metadata": {
        "id": "HOyh9oSAVeU0"
      },
      "execution_count": null,
      "outputs": []
    },
    {
      "cell_type": "markdown",
      "source": [
        "* 값 비교"
      ],
      "metadata": {
        "id": "4UIXf-YkhJ9z"
      }
    },
    {
      "cell_type": "code",
      "source": [
        ""
      ],
      "metadata": {
        "id": "fFmb0Md0VX1O"
      },
      "execution_count": null,
      "outputs": []
    },
    {
      "cell_type": "markdown",
      "source": [
        "* 기울기와 절편 구하기\n",
        "\n",
        "\\begin{align}\n",
        "\\hat{y} = wx+b\n",
        "\\end{align}"
      ],
      "metadata": {
        "id": "BrWvCUqVhLzQ"
      }
    },
    {
      "cell_type": "code",
      "source": [
        ""
      ],
      "metadata": {
        "id": "rttArx7Cf4-C"
      },
      "execution_count": null,
      "outputs": []
    },
    {
      "cell_type": "markdown",
      "source": [
        "* 회귀선 시각화"
      ],
      "metadata": {
        "id": "nFHv-aEqhu4k"
      }
    },
    {
      "cell_type": "code",
      "source": [
        "plt.scatter(             , label=    , c='dodgerblue', edgecolor='k')\n",
        "plt.scatter(             , label=    , c='limegreen', edgecolor='k')\n",
        "plt.plot(                , color='r', linestyle=':')    \n",
        "\n",
        "plt.xlabel('Average number of rooms [RM] (standardized)')\n",
        "plt.ylabel('Price in $1000s [MEDV] (standardized)')\n",
        "plt.legend()\n",
        "plt.show()"
      ],
      "metadata": {
        "id": "K-iSPj7AV0Cv"
      },
      "execution_count": null,
      "outputs": []
    },
    {
      "cell_type": "markdown",
      "source": [
        "#### **사이킷런으로 추정**"
      ],
      "metadata": {
        "id": "mQb03fh0VJ8C"
      }
    },
    {
      "cell_type": "markdown",
      "source": [
        "* 모델 로드 및 학습"
      ],
      "metadata": {
        "id": "a-GeCXpeifQZ"
      }
    },
    {
      "cell_type": "code",
      "source": [
        ""
      ],
      "metadata": {
        "id": "G5jnP9DEU3JO"
      },
      "execution_count": null,
      "outputs": []
    },
    {
      "cell_type": "markdown",
      "source": [
        "* 기울기와 절편 구하기\n",
        "\n",
        "\\begin{align}\n",
        "\\hat{y} = wx+b\n",
        "\\end{align}"
      ],
      "metadata": {
        "id": "OD34Jhjfij_7"
      }
    },
    {
      "cell_type": "code",
      "source": [
        ""
      ],
      "metadata": {
        "id": "8LDgTEVYgHQV"
      },
      "execution_count": null,
      "outputs": []
    },
    {
      "cell_type": "markdown",
      "source": [
        "* 회귀선 시각화"
      ],
      "metadata": {
        "id": "dLax2AvZilpK"
      }
    },
    {
      "cell_type": "code",
      "source": [
        ""
      ],
      "metadata": {
        "id": "ikWwDiHLgMDn"
      },
      "execution_count": null,
      "outputs": []
    },
    {
      "cell_type": "markdown",
      "source": [
        "#### **RANSAC을 사용한 안정된 회귀모델 훈련**\n",
        "\n",
        "- RANSAC (RANdom SAmple Consensus)\n",
        "- 이상치를 효율적으로 다루는 알고리즘\n",
        "- 이상치를 제거하는 대신 정상치(inlier) 라는 일부 데이터로 회귀 모델을 훈련\n",
        "\n",
        "```\n",
        "1. 랜덤하게 일부 샘플을 정상치로 선택하여 모델 훈련\n",
        "2. 훈련된 모델에서 다른 모든 포인트를 테스트하여 사용자가 입력한 허용 오차 안에 속한 포인트를 정상치에 추가\n",
        "3. 모든 정상치를 사용하여 모델을 재훈련\n",
        "4. 훈련된 모델과 정상치 간의 오차 추정\n",
        "5. 성능이 사용자가 지정한 임계 값에 도달하거나 지정된 반복 횟수에 도달하면 알고리즘 종료\n",
        "```"
      ],
      "metadata": {
        "id": "glCk2hCxkoAO"
      }
    },
    {
      "cell_type": "markdown",
      "source": [
        "* 모델 로드 및 훈련"
      ],
      "metadata": {
        "id": "6DtMIh6u9l21"
      }
    },
    {
      "cell_type": "code",
      "source": [
        ""
      ],
      "metadata": {
        "id": "HXbx36OFlKIL"
      },
      "execution_count": null,
      "outputs": []
    },
    {
      "cell_type": "markdown",
      "source": [
        "* 학습 파라미터 확인"
      ],
      "metadata": {
        "id": "MdHyc5S4EMCx"
      }
    },
    {
      "cell_type": "code",
      "source": [
        ""
      ],
      "metadata": {
        "id": "8VtK2HZdo5i-"
      },
      "execution_count": null,
      "outputs": []
    },
    {
      "cell_type": "markdown",
      "source": [
        "* 정상치와 이상치 구분"
      ],
      "metadata": {
        "id": "gnCzukk3GFbt"
      }
    },
    {
      "cell_type": "code",
      "source": [
        ""
      ],
      "metadata": {
        "id": "1aUnGdBTmB67"
      },
      "execution_count": null,
      "outputs": []
    },
    {
      "cell_type": "markdown",
      "source": [
        "* 정상치와 이상치 데이터 시각화"
      ],
      "metadata": {
        "id": "Z6_2MK8kGJn6"
      }
    },
    {
      "cell_type": "code",
      "source": [
        ""
      ],
      "metadata": {
        "id": "x2H2vcRKmGKN"
      },
      "execution_count": null,
      "outputs": []
    },
    {
      "cell_type": "markdown",
      "source": [
        "### **| 회귀 성능 지표**"
      ],
      "metadata": {
        "id": "rlgky6Ooro-0"
      }
    },
    {
      "cell_type": "markdown",
      "source": [
        "* 성능지표 함수 임포트"
      ],
      "metadata": {
        "id": "mh4CcE5buxF_"
      }
    },
    {
      "cell_type": "code",
      "source": [
        "from sklearn.metrics import mean_squared_error, r2_score, mean_absolute_error"
      ],
      "metadata": {
        "id": "d7iHLJzHT9tr"
      },
      "execution_count": null,
      "outputs": []
    },
    {
      "cell_type": "markdown",
      "source": [
        "* 성능 확인을 위한 y 예측값 불러오기"
      ],
      "metadata": {
        "id": "eJG12F5CAFiY"
      }
    },
    {
      "cell_type": "code",
      "source": [
        ""
      ],
      "metadata": {
        "id": "LHdcZJ7Br7QM"
      },
      "execution_count": null,
      "outputs": []
    },
    {
      "cell_type": "markdown",
      "source": [
        "#### **MSE (Mean Squared Error, 평균 제곱 오차)**\n",
        "\n",
        "\\begin{split}\n",
        "\\frac{1}{n} \\sum^n_{i=1}(y_i - \\hat{y_i})^2\n",
        "\\end{split}"
      ],
      "metadata": {
        "id": "7pBucmdgTLdl"
      }
    },
    {
      "cell_type": "code",
      "source": [
        ""
      ],
      "metadata": {
        "id": "7tGAjYkmT3b1"
      },
      "execution_count": null,
      "outputs": []
    },
    {
      "cell_type": "markdown",
      "source": [
        "#### **RMSE (Root Mean Squared Error, 제곱근 평균 제곱 오차)**\n",
        "\n",
        "\\begin{split}\n",
        "\\sqrt{\\frac{1}{n} \\sum^n_{i=1}(y_i - \\hat{y_i})^2}\n",
        "\\end{split}"
      ],
      "metadata": {
        "id": "zYHp08_6UK1s"
      }
    },
    {
      "cell_type": "code",
      "source": [
        ""
      ],
      "metadata": {
        "id": "l4ML39GpUK1s"
      },
      "execution_count": null,
      "outputs": []
    },
    {
      "cell_type": "markdown",
      "source": [
        "#### **MAE (Mean Absolute Error, 평균 절대 오차)**\n",
        "\n",
        "\\begin{split}\n",
        "\\frac{1}{n} \\sum^n_{i=1}|y_i - \\hat{y_i}|\n",
        "\\end{split}"
      ],
      "metadata": {
        "id": "KXoQP7tVUcyE"
      }
    },
    {
      "cell_type": "code",
      "source": [
        ""
      ],
      "metadata": {
        "id": "Gw3Fc2D9UcyG"
      },
      "execution_count": null,
      "outputs": []
    },
    {
      "cell_type": "markdown",
      "source": [
        "#### **NMAE (Noramlized Mean Absolute Error, 정규화된 평균 절대 오차)**\n",
        "\n",
        "\\begin{split}\n",
        "\\frac{MAE}{\\frac{1}{n} \\sum^n_{i=1}|y_i|} \n",
        "\\end{split}"
      ],
      "metadata": {
        "id": "5KvRW19d23Fq"
      }
    },
    {
      "cell_type": "code",
      "source": [
        ""
      ],
      "metadata": {
        "id": "3tH7obrc23Fq"
      },
      "execution_count": null,
      "outputs": []
    },
    {
      "cell_type": "markdown",
      "source": [
        "#### **MAPE (Mean Absolute Percentage Error, 평균 절대 백분율 오차)**\n",
        "\n",
        "\\begin{split}\n",
        "\\frac{1}{n} \\sum^n_{i=1} |\\frac{y_i-\\hat{y_i}}{y_i}| × 100 \\\n",
        "\\end{split}"
      ],
      "metadata": {
        "id": "ekodcPpwUs9U"
      }
    },
    {
      "cell_type": "code",
      "source": [
        ""
      ],
      "metadata": {
        "id": "VxkBIlGWUs9U"
      },
      "execution_count": null,
      "outputs": []
    },
    {
      "cell_type": "markdown",
      "source": [
        "#### **SSE (Explained sum of squares)**\n",
        "\n",
        "\\begin{split}\n",
        "\\sum^n_{i=1} (\\hat{y_i}-\\bar{y})^2\n",
        "\\end{split}\n"
      ],
      "metadata": {
        "id": "Rnclf45qcfnz"
      }
    },
    {
      "cell_type": "code",
      "source": [
        ""
      ],
      "metadata": {
        "id": "dU5yFhKbc13s"
      },
      "execution_count": null,
      "outputs": []
    },
    {
      "cell_type": "markdown",
      "source": [
        "#### **SSR(Residual sum of squares)**\n",
        "\n",
        "\\begin{split}\n",
        "\\sum^n_{i=1} (y_i-\\hat{y_i})^2\n",
        "\\end{split}"
      ],
      "metadata": {
        "id": "VvJbc8dqc2b1"
      }
    },
    {
      "cell_type": "code",
      "source": [
        ""
      ],
      "metadata": {
        "id": "CXK4iTe0c2b1"
      },
      "execution_count": null,
      "outputs": []
    },
    {
      "cell_type": "markdown",
      "source": [
        "#### **SST(Total sum of squares)**\n",
        "\n",
        "\\begin{split}\n",
        "\\sum^n_{i=1} (y_i-\\bar{y_i})^2\n",
        "\\end{split}"
      ],
      "metadata": {
        "id": "2MCw6urzc2oU"
      }
    },
    {
      "cell_type": "code",
      "source": [
        ""
      ],
      "metadata": {
        "id": "XhNGLPqCc2oU"
      },
      "execution_count": null,
      "outputs": []
    },
    {
      "cell_type": "markdown",
      "source": [
        "#### **결정계수 $R^2$**\n",
        "* $R^2$ 범위:\n",
        "* $R^2 = 1$: \n",
        "* $R^2=0$: \n",
        "\n",
        "\\begin{split}\n",
        "R^2 = \\frac{SSR}{SST} = 1-\\frac{SSE}{SST}\n",
        "\\end{split}"
      ],
      "metadata": {
        "id": "cSSLHPS5WZbr"
      }
    },
    {
      "cell_type": "code",
      "source": [
        ""
      ],
      "metadata": {
        "id": "9-jWORa_WZbs"
      },
      "execution_count": null,
      "outputs": []
    },
    {
      "cell_type": "markdown",
      "source": [
        "* 함수 정리"
      ],
      "metadata": {
        "id": "ZsH4NtXMxOZk"
      }
    },
    {
      "cell_type": "code",
      "source": [
        ""
      ],
      "metadata": {
        "id": "_N37ApHuXPho"
      },
      "execution_count": null,
      "outputs": []
    },
    {
      "cell_type": "markdown",
      "source": [
        "* 함수 사용하고 데이터프레임으로 나타내기"
      ],
      "metadata": {
        "id": "5dQL6bPw0sdq"
      }
    },
    {
      "cell_type": "code",
      "source": [
        ""
      ],
      "metadata": {
        "id": "QkAhT5DlsJ_4"
      },
      "execution_count": null,
      "outputs": []
    },
    {
      "cell_type": "markdown",
      "source": [
        "## 다중 회귀 분석\n",
        "---"
      ],
      "metadata": {
        "id": "s-cWo_2HtvM7"
      }
    },
    {
      "cell_type": "markdown",
      "source": [
        "### **| 데이터 전처리**"
      ],
      "metadata": {
        "id": "JFWAN6Vzt4WG"
      }
    },
    {
      "cell_type": "markdown",
      "source": [
        "* 넘파이 배열로 변환"
      ],
      "metadata": {
        "id": "mCP9UVzXt4WG"
      }
    },
    {
      "cell_type": "code",
      "source": [
        ""
      ],
      "metadata": {
        "id": "vtPO7fGut4WG"
      },
      "execution_count": null,
      "outputs": []
    },
    {
      "cell_type": "markdown",
      "source": [
        "* 데이터 분할 (테스트 비율 0.2)"
      ],
      "metadata": {
        "id": "bA2e5wWnt4WG"
      }
    },
    {
      "cell_type": "code",
      "source": [
        ""
      ],
      "metadata": {
        "id": "j7Cw3-Unt4WH"
      },
      "execution_count": null,
      "outputs": []
    },
    {
      "cell_type": "markdown",
      "source": [
        "* 스케일링 - 정규화 진행"
      ],
      "metadata": {
        "id": "JgSoIU6Dt4WH"
      }
    },
    {
      "cell_type": "code",
      "source": [
        ""
      ],
      "metadata": {
        "id": "zVDukHF6t4WH"
      },
      "execution_count": null,
      "outputs": []
    },
    {
      "cell_type": "markdown",
      "source": [
        "* 훈련 데이터 정규화"
      ],
      "metadata": {
        "id": "7IZw0qXot4WH"
      }
    },
    {
      "cell_type": "code",
      "source": [
        ""
      ],
      "metadata": {
        "id": "FcLhhu4Ft4WH"
      },
      "execution_count": null,
      "outputs": []
    },
    {
      "cell_type": "markdown",
      "source": [
        "* 테스트 데이터 정규화"
      ],
      "metadata": {
        "id": "JlIxWPJRt4WH"
      }
    },
    {
      "cell_type": "code",
      "source": [
        ""
      ],
      "metadata": {
        "id": "7YH27zeNt4WH"
      },
      "execution_count": null,
      "outputs": []
    },
    {
      "cell_type": "markdown",
      "source": [
        "### **| 모델링**\n",
        "\n",
        "* 여러가지 회귀 모델을 사용하여 회귀 분석 진행"
      ],
      "metadata": {
        "id": "cGspLAOowPp2"
      }
    },
    {
      "cell_type": "markdown",
      "source": [
        "#### **Linear regression**\n",
        "\n",
        "\n",
        "\\begin{split}\n",
        "\\min_{w} || X w - y||_2^2\n",
        "\\end{split}"
      ],
      "metadata": {
        "id": "jCbVCYysu0-i"
      }
    },
    {
      "cell_type": "code",
      "source": [
        ""
      ],
      "metadata": {
        "id": "sYj4og-Gu0-i"
      },
      "execution_count": null,
      "outputs": []
    },
    {
      "cell_type": "markdown",
      "source": [
        "#### **Ridge regression**\n",
        "\n",
        "\n",
        "\\begin{split}\n",
        "\\min_{w} || X w - y||_2^2 + \\alpha ||w||_2^2\n",
        "\\end{split}"
      ],
      "metadata": {
        "id": "4c-nj-FCuslF"
      }
    },
    {
      "cell_type": "code",
      "source": [
        ""
      ],
      "metadata": {
        "id": "Yv8_XVYMuslG"
      },
      "execution_count": null,
      "outputs": []
    },
    {
      "cell_type": "markdown",
      "source": [
        "#### **Lasso regression**\n",
        "\n",
        "\\begin{split}\n",
        "\\min_{w} { \\frac{1}{2n_{\\text{samples}}} ||X w - y||_2 ^ 2 + \\alpha ||w||_1}\n",
        "\\end{split}\n"
      ],
      "metadata": {
        "id": "B74dOJ1GuTX8"
      }
    },
    {
      "cell_type": "code",
      "source": [
        ""
      ],
      "metadata": {
        "id": "ik-pV_sruLp9"
      },
      "execution_count": null,
      "outputs": []
    },
    {
      "cell_type": "markdown",
      "source": [
        "#### **Elastic Net**\n",
        "\n",
        "\n",
        "\\begin{split}\n",
        "\\min_{w} { \\frac{1}{2n_{\\text{samples}}} ||X w - y||_2 ^ 2 + \\alpha \\rho ||w||_1 +\n",
        "\\frac{\\alpha(1-\\rho)}{2} ||w||_2 ^ 2}\n",
        "\\end{split}\n"
      ],
      "metadata": {
        "id": "5UApWNtNusqg"
      }
    },
    {
      "cell_type": "code",
      "source": [
        ""
      ],
      "metadata": {
        "id": "DfpA0e7Qusqg"
      },
      "execution_count": null,
      "outputs": []
    },
    {
      "cell_type": "markdown",
      "source": [
        "#### **Bayesian Ridge Regression**\n",
        "\n",
        "\n",
        "\\begin{split}\n",
        "p(w|\\lambda) =\n",
        "\\mathcal{N}(w|0,\\lambda^{-1}\\mathbf{I}_{p})\n",
        "\\end{split}"
      ],
      "metadata": {
        "id": "w84ERpQ31Gh3"
      }
    },
    {
      "cell_type": "code",
      "source": [
        ""
      ],
      "metadata": {
        "id": "UXkPyAqU1BEa"
      },
      "execution_count": null,
      "outputs": []
    },
    {
      "cell_type": "markdown",
      "source": [
        "### **| 성능 비교**"
      ],
      "metadata": {
        "id": "rUi0vcaiv4-h"
      }
    },
    {
      "cell_type": "markdown",
      "source": [
        "* `regression_scores` 이용한 회귀 모델 성능 비교"
      ],
      "metadata": {
        "id": "eJi39VIX0xpe"
      }
    },
    {
      "cell_type": "code",
      "source": [
        ""
      ],
      "metadata": {
        "id": "0kJlEvWyuYqT"
      },
      "execution_count": null,
      "outputs": []
    },
    {
      "cell_type": "markdown",
      "source": [
        "* 실제값과 예측값의 산점도 그리기"
      ],
      "metadata": {
        "id": "1Ed7_khe2n7Z"
      }
    },
    {
      "cell_type": "code",
      "source": [
        ""
      ],
      "metadata": {
        "id": "YJq1sDNbyrGA"
      },
      "execution_count": null,
      "outputs": []
    }
  ]
}