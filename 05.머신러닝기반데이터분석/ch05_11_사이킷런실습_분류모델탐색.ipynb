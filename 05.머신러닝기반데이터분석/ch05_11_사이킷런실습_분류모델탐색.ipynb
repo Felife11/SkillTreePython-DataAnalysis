{
  "nbformat": 4,
  "nbformat_minor": 0,
  "metadata": {
    "colab": {
      "name": "ch05_11_사이킷런실습-분류모델탐색.ipynb",
      "provenance": [],
      "collapsed_sections": [],
      "mount_file_id": "13iWx9rwx6ujONWtyp6mPS33lSIjG9pKP",
      "authorship_tag": "ABX9TyO/BMwWav9nYIZ9OGLPBP0S",
      "include_colab_link": true
    },
    "kernelspec": {
      "name": "python3",
      "display_name": "Python 3"
    },
    "language_info": {
      "name": "python"
    }
  },
  "cells": [
    {
      "cell_type": "markdown",
      "metadata": {
        "id": "view-in-github",
        "colab_type": "text"
      },
      "source": [
        "<a href=\"https://colab.research.google.com/github/yebiny/SkillTreePython-DataAnalysis/blob/main/05.%EB%A8%B8%EC%8B%A0%EB%9F%AC%EB%8B%9D%EA%B8%B0%EB%B0%98%EB%8D%B0%EC%9D%B4%ED%84%B0%EB%B6%84%EC%84%9D/ch05_11_%EC%82%AC%EC%9D%B4%ED%82%B7%EB%9F%B0%EC%8B%A4%EC%8A%B5_%EB%B6%84%EB%A5%98%EB%AA%A8%EB%8D%B8%ED%83%90%EC%83%89.ipynb\" target=\"_parent\"><img src=\"https://colab.research.google.com/assets/colab-badge.svg\" alt=\"Open In Colab\"/></a>"
      ]
    },
    {
      "cell_type": "markdown",
      "metadata": {
        "id": "wWpXZc2fi39U"
      },
      "source": [
        "# ch05.11. 사이킷런 실습 - 분류모델 탐색\n",
        "---\n",
        "* 날짜:\n",
        "* 이름:\n",
        "\n",
        "## 학습내용\n",
        "    - 소프트맥스 회귀 프로세스를 이해한다.\n",
        "    - 소프트맥스 함수를 구현한다.\n",
        "\n",
        "## 학습자료\n",
        "- [머신러닝 교과서 with파이썬, 사이킷런, 텐서플로](http://www.kyobobook.co.kr/product/detailViewKor.laf?mallGb=KOR&ejkGb=KOR&barcode=9791165215187)\n",
        "- 3장. 사이킷런을 타고 떠나는 머신 러닝 분류 모델 투어\n",
        "- [sckitlearn [1.12. Multiclass and multioutput algorithms]](https://scikit-learn.org/stable/modules/multiclass.html)"
      ]
    },
    {
      "cell_type": "markdown",
      "metadata": {
        "id": "kByKdJPApy6P"
      },
      "source": [
        "```\n",
        "import numpy as np\n",
        "import matplotlib.pyplot as plt\n",
        "```"
      ]
    },
    {
      "cell_type": "code",
      "source": [
        ""
      ],
      "metadata": {
        "id": "YW4q7CsxPlQh"
      },
      "execution_count": null,
      "outputs": []
    },
    {
      "cell_type": "markdown",
      "source": [
        "### **데이터 준비 : Iris**"
      ],
      "metadata": {
        "id": "fEWU23wwbljF"
      }
    },
    {
      "cell_type": "code",
      "source": [
        "from sklearn.datasets import load_iris\n",
        "from sklearn.model_selection import train_test_split\n",
        "import numpy as np\n",
        "from sklearn.preprocessing import StandardScaler\n",
        "\n",
        "def iris_loader(n_classes, \n",
        "                features='',\n",
        "                test_size=0.2, \n",
        "                rs=1,\n",
        "                scale=True):\n",
        "  \n",
        "  iris = load_iris()\n",
        "  X = iris.data\n",
        "  y = iris.target\n",
        "  columns = iris.feature_names\n",
        "  labels = iris.target_names\n",
        "  \n",
        "  # 클래스 개수 지정\n",
        "  \n",
        "  # 특징 지정\n",
        "\n",
        "  # 데이터 분할\n",
        "\n",
        "\n",
        "  print(X_train.shape, X_test.shape, y_train.shape, y_test.shape, features, labels)\n",
        "  return X_train, X_test, y_train, y_test, columns, labels"
      ],
      "metadata": {
        "id": "u8u74VISfmaG"
      },
      "execution_count": null,
      "outputs": []
    },
    {
      "cell_type": "markdown",
      "source": [
        "## 회귀모델\n",
        "---\n",
        "\n",
        "\n",
        "\n",
        "<p align='center'>\n",
        "<img src=https://camo.githubusercontent.com/c4c08b5281e9a087e3db007b8bf2baaca4b64b8cc8f109e59439be7b3a9694ed/68747470733a2f2f6769742e696f2f4a746d3232?raw=true width=520>\n",
        "</p>"
      ],
      "metadata": {
        "id": "2aDRYxOJckcu"
      }
    },
    {
      "cell_type": "markdown",
      "source": [
        "### | 사이킷런을 이용한 구현\n",
        "[사이킷런 - LogisticRegression](https://scikit-learn.org/stable/modules/generated/sklearn.linear_model.LogisticRegression.html?highlight=logistic%20regression#sklearn.linear_model.LogisticRegression)\n",
        "```\n",
        "linear_model.LogisticRegression(penalty='l2', \n",
        "                                dual=False, \n",
        "                                tol=0.0001, \n",
        "                                C=1.0, \n",
        "                                fit_intercept=True,\n",
        "                                intercept_scaling=1,\n",
        "                                class_weight=None,\n",
        "                                random_state=None, \n",
        "                                solver='lbfgs', \n",
        "                                max_iter=100, \n",
        "                                multi_class='auto', \n",
        "                                verbose=0, \n",
        "                                warm_start=False, \n",
        "                                n_jobs=None, \n",
        "                                l1_ratio=None)\n",
        "\n",
        "```\n",
        "\n",
        "\n",
        "* 작은 데이터 세트의 경우 `liblinear`가 좋은 선택인 반면, 큰 데이터 세트의 경우 `sag`와 `saga`가 더 빠릅니다.\n",
        "\n",
        "* 다중 클래스 문제의 경우 `newton-cg`, `sag`, `saga` 및 `lbfgs`만 다항 손실을 처리합니다.\n",
        "\n",
        "* 알고리즘 별 패털티 선택 가이드 라인\n",
        "  * `newton-cg` : [‘l2’, ‘none’]\n",
        "  * `lbfgs` : [‘l2’, ‘none’]\n",
        "  * `liblinear` : [‘l1’, ‘l2’]\n",
        "  * `sag` : [‘l2’, ‘none’]\n",
        "  * `saga` : [‘elasticnet’, ‘l1’, ‘l2’, ‘none’]\n"
      ],
      "metadata": {
        "id": "zEKLVa4Wy9zb"
      }
    },
    {
      "cell_type": "markdown",
      "source": [
        "### **| 이진분류**"
      ],
      "metadata": {
        "id": "YZiq8hv3ipys"
      }
    },
    {
      "cell_type": "markdown",
      "source": [
        "* 'sepal' 관련 특성을 이용하여 'setosa', 'versicolor' 두 종류 구분\n",
        "* 최적화 방식 `liblinear` 사용"
      ],
      "metadata": {
        "id": "gdxxByItS-mx"
      }
    },
    {
      "cell_type": "code",
      "source": [
        ""
      ],
      "metadata": {
        "id": "LjwiYCFEql2B"
      },
      "execution_count": null,
      "outputs": []
    },
    {
      "cell_type": "markdown",
      "source": [
        "#### **혼돈행렬**"
      ],
      "metadata": {
        "id": "nmzXeepHjQSE"
      }
    },
    {
      "cell_type": "markdown",
      "source": [
        "* 함수 구현"
      ],
      "metadata": {
        "id": "ww1Z7HkbSxct"
      }
    },
    {
      "cell_type": "code",
      "source": [
        ""
      ],
      "metadata": {
        "id": "KQ7y-o8gjPZT"
      },
      "execution_count": null,
      "outputs": []
    },
    {
      "cell_type": "markdown",
      "source": [
        "* 혼돈 행렬 시각화"
      ],
      "metadata": {
        "id": "_cPLeiQVSyfs"
      }
    },
    {
      "cell_type": "code",
      "source": [
        ""
      ],
      "metadata": {
        "id": "Mo4wwQcVjXjU"
      },
      "execution_count": null,
      "outputs": []
    },
    {
      "cell_type": "markdown",
      "source": [
        "* 예측 오차 (ERR)\n",
        "\n",
        "\\begin{split}\n",
        "ERR = \\frac{잘못된 예측 개수}{전체 샘플 개수}\n",
        "\\end{split}"
      ],
      "metadata": {
        "id": "qJODnUJswXCJ"
      }
    },
    {
      "cell_type": "code",
      "source": [
        ""
      ],
      "metadata": {
        "id": "I0S6vGy7tKK6"
      },
      "execution_count": null,
      "outputs": []
    },
    {
      "cell_type": "markdown",
      "source": [
        "* 예측 정확도 (ACC)\n",
        "\n",
        "\\begin{split}\n",
        "ACC = \\frac{잘된 예측 개수}{전체 샘플 개수} = 1-ERR\n",
        "\\end{split}"
      ],
      "metadata": {
        "id": "ssxXAAaR0Wnb"
      }
    },
    {
      "cell_type": "code",
      "source": [
        ""
      ],
      "metadata": {
        "id": "0yAMmB4v0Wnh"
      },
      "execution_count": null,
      "outputs": []
    },
    {
      "cell_type": "markdown",
      "source": [
        "#### **결정경계**"
      ],
      "metadata": {
        "id": "eWeiiRV_naOh"
      }
    },
    {
      "cell_type": "code",
      "source": [
        "from matplotlib.colors import ListedColormap\n",
        "\n",
        "def draw_decision_region(model, X, y, \n",
        "                         X_test=[], y_test=[], \n",
        "                         features=[], labels=[]): # 결정경계\n",
        "\n",
        "  colors = ('orangered', 'dodgerblue', 'limegreen', 'fuchsia', 'blueviolet')\n",
        "  cmap = ListedColormap(colors[:len(np.unique( y))])\n",
        "\n",
        "  x0mn, x0mx = X[:,0].min() -1, X[:,0].max() +1\n",
        "  x1mn, x1mx = X[:,1].min() -1, X[:,1].max() +1\n",
        "  x0 = np.arange(x0mn, x0mx, 0.02)\n",
        "  x1 = np.arange(x1mn, x1mx, 0.02)\n",
        "  #print('* arange', x0.shape, x1.shape)\n",
        "  X0, X1 = np.meshgrid(x0, x1)\n",
        "  #print('* meshgrid', x0.shape, x1.shape)\n",
        "  x0, x1 = X0.ravel(), X1.ravel()\n",
        "  #print('* ravel', x0.shape, x1.shape)\n",
        "  x_every = np.array([x0, x1]).T\n",
        "  #print('* concat', x_set.shape)\n",
        "  y_pred = model.predict(x_every)\n",
        "  #print('* y_pred', y_pred.shape)\n",
        "  Y_pred = y_pred.reshape(X0.shape)\n",
        "  #print('* y_pred', y_pred.shape)\n",
        "\n",
        "  if not len(labels): labels=[i for i in range(len(np.unique(y)))]\n",
        "  plt.contourf(X0, X1, Y_pred, alpha=0.4, cmap=cmap )\n",
        "  for idx, c in enumerate(np.unique(y)):\n",
        "    plt.scatter(x = X[y == c, 0], \n",
        "                y = X[y == c, 1],\n",
        "                alpha=0.8,\n",
        "                c=colors[idx],\n",
        "                label=labels[idx],\n",
        "                marker='x',\n",
        "                linewidth=2)\n",
        "  if len(X_test):\n",
        "    for idx, c in enumerate(np.unique(y_test)):\n",
        "      plt.scatter(x = X_test[y_test == c, 0], \n",
        "                  y = X_test[y_test == c, 1],\n",
        "                  alpha=0.8,\n",
        "                  c=colors[idx],\n",
        "                  marker='o',\n",
        "                  edgecolor='k',\n",
        "                  linewidth=2)\n",
        "  \n",
        "  if features:\n",
        "    plt.xlabel(features[0])\n",
        "    plt.ylabel(features[1])\n",
        "  plt.legend()"
      ],
      "metadata": {
        "id": "OJSPGN6J1Heh"
      },
      "execution_count": null,
      "outputs": []
    },
    {
      "cell_type": "code",
      "source": [
        ""
      ],
      "metadata": {
        "id": "8WlhXJTtoqka"
      },
      "execution_count": null,
      "outputs": []
    },
    {
      "cell_type": "markdown",
      "source": [
        "### **| 다중클래스 분류**"
      ],
      "metadata": {
        "id": "ov32gO2njswb"
      }
    },
    {
      "cell_type": "markdown",
      "source": [
        "* `sepal` 관련 특성을 이용하여 3개 클래스 분류\n",
        "* 최적화 방식 `lbfgs` 사용\n",
        "* `multi_class`는 `multi_nomial`로 지정\n",
        "* 정확도 출력\n",
        "* 혼돈 행렬 시각화\n",
        "* 결정경계 시각화"
      ],
      "metadata": {
        "id": "jFsfQ72CqaCI"
      }
    },
    {
      "cell_type": "code",
      "source": [
        "from sklearn.linear_model import LogisticRegression\n",
        "\n",
        "# 데이터 준비\n",
        "\n",
        "# 학습\n",
        "\n",
        "# 정확도 출력 및 혼돈행렬 시각화\n",
        "\n",
        "# 결정경계 시각화\n"
      ],
      "metadata": {
        "id": "BbvZTvbujswc"
      },
      "execution_count": null,
      "outputs": []
    },
    {
      "cell_type": "markdown",
      "source": [
        "#### **예제 01**\n",
        "\n",
        "* 'petal' 관련 특성을 이용하여 3개 클래스 분류\n",
        "* 모델\n",
        "  * 최적화 방식 `saga` 사용\n",
        "  * `multi_class`는 `multi_nomial`로 지정\n",
        "* 평가\n",
        "  * 정확도 출력\n",
        "  * 혼돈 행렬 시각화\n",
        "  * 결정경계 시각화"
      ],
      "metadata": {
        "id": "BjJ4STJJVlhm"
      }
    },
    {
      "cell_type": "code",
      "source": [
        ""
      ],
      "metadata": {
        "id": "Go4D0DS6Vlhm"
      },
      "execution_count": null,
      "outputs": []
    },
    {
      "cell_type": "markdown",
      "source": [
        "#### **예제 02**\n",
        "\n",
        "* 모든 특성(4개)을 이용하여 3개 클래스 분류\n",
        "* 모델\n",
        "  * 최적화 방식 `lbfgs` 사용\n",
        "  * `multi_class`는 `multi_nomial`로 지정\n",
        "* 평가\n",
        "  * 정확도 출력\n",
        "  * 혼돈 행렬 시각화"
      ],
      "metadata": {
        "id": "0cAgSuHIV1aT"
      }
    },
    {
      "cell_type": "code",
      "source": [
        ""
      ],
      "metadata": {
        "id": "KR5VBjnhV1aZ"
      },
      "execution_count": null,
      "outputs": []
    },
    {
      "cell_type": "markdown",
      "source": [
        "## 결정트리 (Decision tree)\n",
        "---\n",
        "\n",
        "<p align='center'>\n",
        "<img src=https://camo.githubusercontent.com/436f5e942773563b85e5d640e5714c367e11cf08edc9da5b41598ab7dea951c9/68747470733a2f2f6769742e696f2f4a746d3231\n",
        "?raw=true width=600>\n",
        "</p>\n",
        "\n",
        "훈련 데이터의 특성(속성)을 기반으로 샘플의 클래스 레이블을 추정할 수 있는 일련의 질문을 학습\n",
        "\n",
        "데이터의 특성이 범주형이 아니라 실수라면 특정 값을 기준으로 크고 작음의 범주로 나누게 된다.\n",
        "\n",
        "데이터 분할 기준은 정보이득 (Information Gain, IG)의  최대화이며, 정보이득은 불순도로 부터 구해진다.\n",
        "\n",
        "불순도(Impurity) 란 특정 영역 내에 클래스가 얼마나 섞여있는지를 나타내는 지표\n",
        "\n",
        "리프 노드(leaf node)가 순수해질 때까지 모든 자식 노드에서 분할 작업을 반복한다.\n",
        "\n",
        "너무 많은, 깊은 트리가 만들어 지면 과적합의 가능성이 높아지기 때문에 트리의 최대 깊이를 제한하여 트리를 가지치기(pruning) 한다.\n",
        "\n",
        "\n",
        "\n",
        "\n"
      ],
      "metadata": {
        "id": "bkB0Gzx2gJIF"
      }
    },
    {
      "cell_type": "markdown",
      "source": [
        "### **| 불순도 지표: 엔트로피(Entropy)**\n",
        "\n",
        "\\begin{split}\n",
        "I_H(t) = -\\sum_{i=1}^{c}p(i|t)log_2p(i|t)\n",
        "\\end{split}\n",
        "\n",
        "* $p(i|t)$ : \n",
        "* $I_H$ 의 범위 : \n",
        "* $I_H = 1 $: \n",
        "* $I_H = 0 $: \n",
        "* 불순도(엔트로피)\n"
      ],
      "metadata": {
        "id": "3zDbFf37v8Zu"
      }
    },
    {
      "cell_type": "code",
      "source": [
        ""
      ],
      "metadata": {
        "id": "HlgVz3xQ2JAX"
      },
      "execution_count": null,
      "outputs": []
    },
    {
      "cell_type": "code",
      "source": [
        ""
      ],
      "metadata": {
        "id": "2pMNTP1HBvOq"
      },
      "execution_count": null,
      "outputs": []
    },
    {
      "cell_type": "markdown",
      "source": [
        "![](https://github.com/yebiny/Lecture-Deeplearning/blob/main/imgs/bdt_%EB%B6%88%EC%88%9C%EB%8F%84.PNG?raw=true)"
      ],
      "metadata": {
        "id": "uZ2VkckB4O1e"
      }
    },
    {
      "cell_type": "markdown",
      "source": [
        "### **| 불순도 지표: 지니 불순도(Gini impurity, $I_G$)**\n",
        "\n",
        "\\begin{split}\n",
        "I_G(t) = \\sum_{i=1}^{c}p(i|t)(1-p(i|t)) \n",
        "\\end{split}\n",
        "\n",
        "* $p(i|t)$ : \n",
        "* $I_G$ 의 범위 : \n",
        "* $I_G = 0.5 $: \n",
        "* $I_G = 0 $: \n",
        "* 불순도(지니)\n"
      ],
      "metadata": {
        "id": "9Vtq5sC028IQ"
      }
    },
    {
      "cell_type": "code",
      "source": [
        ""
      ],
      "metadata": {
        "id": "s-hI3iKc28IV"
      },
      "execution_count": null,
      "outputs": []
    },
    {
      "cell_type": "code",
      "source": [
        ""
      ],
      "metadata": {
        "id": "ZVZArMliB1UT"
      },
      "execution_count": null,
      "outputs": []
    },
    {
      "cell_type": "markdown",
      "source": [
        "### **| 불순도 지표: 분류 오차(Classification error, $I_E$)**\n",
        "\n",
        "\\begin{split}\n",
        "I_H(E) = 1-max\\{p(i|t)\\} \n",
        "\\end{split}\n",
        "\n",
        "\n"
      ],
      "metadata": {
        "id": "gHOg0_8V3VUh"
      }
    },
    {
      "cell_type": "code",
      "source": [
        ""
      ],
      "metadata": {
        "id": "dy1lbbyJ3VUm"
      },
      "execution_count": null,
      "outputs": []
    },
    {
      "cell_type": "code",
      "source": [
        ""
      ],
      "metadata": {
        "id": "1tX2CmUtBQSa"
      },
      "execution_count": null,
      "outputs": []
    },
    {
      "cell_type": "markdown",
      "source": [
        "#### **p값에 따른 불순도 지표 변화**"
      ],
      "metadata": {
        "id": "ne_dkH88-iVb"
      }
    },
    {
      "cell_type": "code",
      "source": [
        "p = np.arange(0.01, 0.99, 0.01)\n",
        "\n",
        "plt.axhline(y=1,c='k', linestyle=':')\n",
        "plt.axhline(y=.5,c='k', linestyle=':')\n",
        "plt.xticks()\n",
        "plt.xlabel('')\n",
        "plt.ylabel('')\n",
        "plt.legend()\n",
        "plt.show()"
      ],
      "metadata": {
        "id": "bUlfjfSa28IV"
      },
      "execution_count": null,
      "outputs": []
    },
    {
      "cell_type": "markdown",
      "source": [
        "### **| 정보이득 (Information Gain)**\n",
        "\n",
        "결정트리의 목적함수는 아래와 같습니다. 이 목적 함수는 각 분할이 정보 이득을 최대화 하도록 합니다. \n",
        "\n",
        "\\begin{split}\n",
        "IG(D_p, f) = I(D_p) - \\sum_{j=1}^m \\frac{N_j}{N_p}I(D_j)\n",
        "\\end{split}\n",
        "\n",
        "\\begin{split}\n",
        "정보 이득  = (부모노드의 불순도) - 정규화된 (자식 노드의 불순도)\n",
        "\\end{split}\n",
        "\n",
        "* $f$: \n",
        "* $D_p$ : \n",
        "* $D_j$ : \n",
        "* $I$: \n",
        "* $N_p$: \n",
        "* $N_j$: \n",
        "* $I$: \n",
        "* 정보이득이 높다 : \n",
        "* 정보이득이 낮다 : "
      ],
      "metadata": {
        "id": "MoN-1l33Nfuz"
      }
    },
    {
      "cell_type": "code",
      "source": [
        ""
      ],
      "metadata": {
        "id": "7dKzaExPs72B"
      },
      "execution_count": null,
      "outputs": []
    },
    {
      "cell_type": "markdown",
      "source": [
        "#### **예제 03**\n",
        "\n",
        "다음 조건으로 분할이 진행되었을 때 정보이득을 계산하세요.\n",
        "\n",
        "<p align='center'>\n",
        "<img src=https://github.com/yebiny/SkillTreePython-DataAnalysis/blob/main/imgs/ch0510-01.PNG?raw=true\n",
        "?raw=true width=750>\n",
        "</p>"
      ],
      "metadata": {
        "id": "iq45potj-Tt7"
      }
    },
    {
      "cell_type": "code",
      "source": [
        ""
      ],
      "metadata": {
        "id": "6ZKlAcll_yTL"
      },
      "execution_count": null,
      "outputs": []
    },
    {
      "cell_type": "markdown",
      "source": [
        "#### **예제 04**\n",
        "\n",
        "다음 A, B 조건으로 분할이 진행되었을 때 각각의 정보이득을 계산하고 어떤 분할이 더 적합한지 계산하세요.\n",
        "\n",
        "<p align='center'>\n",
        "<img src=https://camo.githubusercontent.com/c0c17de8d888513d12a1aa27c226d8e0e50a1ea02496719190899ce57ea5ca7a/68747470733a2f2f6769742e696f2f4a746d3244?raw=true\n",
        "?raw=true width=600>\n",
        "</p>"
      ],
      "metadata": {
        "id": "huKiXSfn_2tr"
      }
    },
    {
      "cell_type": "code",
      "source": [
        ""
      ],
      "metadata": {
        "id": "jAuZ4Pru__2y"
      },
      "execution_count": null,
      "outputs": []
    },
    {
      "cell_type": "markdown",
      "source": [
        "### | 사이킷런을 이용한 구현\n",
        "\n",
        "[사이킷런 - DecisionTree](https://scikit-learn.org/stable/modules/generated/sklearn.tree.DecisionTreeClassifier.html?highlight=decisiontreeclassifier#sklearn.tree.DecisionTreeClassifier)\n",
        "```\n",
        "tree.DecisionTreeClassifier(*, criterion='gini', \n",
        "                           splitter='best', \n",
        "                           max_depth=None, \n",
        "                           min_samples_split=2, \n",
        "                           min_samples_leaf=1,\n",
        "                           min_weight_fraction_leaf=0.0,\n",
        "                           max_features=None, \n",
        "                           random_state=None, \n",
        "                           max_leaf_nodes=None,\n",
        "                           min_impurity_decrease=0.0,\n",
        "                           class_weight=None, \n",
        "                           ccp_alpha=0.0)\n",
        "```"
      ],
      "metadata": {
        "id": "5f0XZnoZv6j1"
      }
    },
    {
      "cell_type": "markdown",
      "source": [
        "* 'petal' 관련 특성으로 3개 멀티클래스 분류\n",
        "* 모델\n",
        "  * 지니 불순도 사용\n",
        "  * 최대 트리 깊이 5\n",
        "* 평가\n",
        "  * 정확도 계산\n",
        "  * 혼돈행렬 시각화\n",
        "  * 결정경계 시각화\n",
        "  * 결정트리 시각화"
      ],
      "metadata": {
        "id": "eqnfYg47ZABu"
      }
    },
    {
      "cell_type": "code",
      "source": [
        "from sklearn.tree import DecisionTreeClassifier\n",
        "\n",
        "# 데이터 준비\n",
        "\n",
        "# 학습\n",
        "\n",
        "\n",
        "# 정확도 출력 및 혼돈행렬 시각화\n",
        "\n",
        "\n",
        "# 결정경계 시각화\n",
        "\n",
        "\n",
        "# 트리 시각화\n"
      ],
      "metadata": {
        "id": "LjW0qKtux6aG"
      },
      "execution_count": null,
      "outputs": []
    },
    {
      "cell_type": "markdown",
      "source": [
        "#### **예제 05**\n",
        "\n",
        "* 'sepal' 관련 특성으로 3개 멀티클래스 분류\n",
        "* 모델\n",
        "  * 지니 불순도 사용\n",
        "  * 최대 트리 깊이 4\n",
        "* 평가\n",
        "  * 정확도 계산\n",
        "  * 혼돈행렬 시각화\n",
        "  * 결정경계 시각화\n",
        "  * 결정트리 시각화\n"
      ],
      "metadata": {
        "id": "HfwSpLRdhzZG"
      }
    },
    {
      "cell_type": "code",
      "source": [
        ""
      ],
      "metadata": {
        "id": "qTreBf9l9HO_"
      },
      "execution_count": null,
      "outputs": []
    },
    {
      "cell_type": "markdown",
      "source": [
        "#### **예제 06**\n",
        "\n",
        "* 'sepal' 관련 특성으로  3개 멀티클래스 분류\n",
        "* 모델\n",
        "  * 엔트로피 불순도 사용\n",
        "  * 최대 트리 깊이 3\n",
        "* 평가\n",
        "  * 정확도 계산\n",
        "  * 혼돈행렬 시각화\n",
        "  * 결정경계 시각화\n",
        "  * 결정트리 시각화"
      ],
      "metadata": {
        "id": "JxQmC1ygiQn-"
      }
    },
    {
      "cell_type": "code",
      "source": [
        ""
      ],
      "metadata": {
        "id": "nTaxTW88iBpl"
      },
      "execution_count": null,
      "outputs": []
    },
    {
      "cell_type": "markdown",
      "source": [
        "## 서포트 벡터 머신 (Support Vector Machine)\n",
        "---\n",
        "\n",
        "서포트 벡터 머신(Support Vector Machine, SVM)은 강력하고 널리 사용되는 학습 알고리즘으로, 퍼셉트론 계열의 알고리즘을 확장 시킨 개념으로 생각 할 수 있다.\n",
        "\n",
        "* 퍼셉트론의 아이디어: 분류 오차의 최소화\n",
        "* 서포트 벡터 머신의 아이디어: 마진(margine)의 최대화\n",
        "\n",
        "이 때 마진은 결정 경계(초평면)과 초평면에 가장 가까운 훈련 샘플 사이 거리로 정의\n",
        "\n",
        "이 때 가장 가까운 샘플을 서포트 벡터(support vector)라 한다.\n",
        "\n",
        "\n",
        "<p align='center'>\n",
        "<img src=https://camo.githubusercontent.com/c63b819ba8417477499bd6b7017f4433d7362f1bbfab22035ce37ab6e4889b1b/68747470733a2f2f6769742e696f2f4a746d3272\n",
        "?raw=true width=800>\n",
        "</p>\n",
        "\n",
        "\n",
        "\n",
        "\n"
      ],
      "metadata": {
        "id": "gQ8k-iAo8oJi"
      }
    },
    {
      "cell_type": "markdown",
      "source": [
        "\n",
        "### **| 제약 조건**\n",
        "---\n",
        "- 모든 샘플이 정확하게 분류 되었을 때, \n",
        "\n",
        "\\begin{split}\n",
        "w_o + w^Tx^{(i)} \\geq 1 \n",
        "\\\\\n",
        "w_o + w^Tx^{(i)} \\leq -1 \n",
        "\\end{split}\n"
      ],
      "metadata": {
        "id": "SgPI_CuyOWX-"
      }
    },
    {
      "cell_type": "markdown",
      "source": [
        "### **| 목적 함수** \n",
        "---\n",
        "- 마진(margin)을 최대화\n",
        "\n",
        "\\begin{split}\n",
        "\\frac{w^T(x_{pos}-x_{neg})}{||w||_2}=\\frac{2}{||w||_2}\n",
        "\\end{split}\n"
      ],
      "metadata": {
        "id": "pp-CEA0xOOKi"
      }
    },
    {
      "cell_type": "markdown",
      "source": [
        "### | 사이킷런을 이용한 구현\n",
        "\n",
        "[사이킷런 - SVC](https://scikit-learn.org/stable/modules/generated/sklearn.svm.SVC.html?highlight=svc#sklearn.svm.SVC)\n",
        "```\n",
        "svm.SVC(C=1.0, \n",
        "        kernel='rbf', \n",
        "        degree=3, \n",
        "        gamma='scale', \n",
        "        coef0=0.0, \n",
        "        shrinking=True, \n",
        "        probability=False, \n",
        "        tol=0.001, \n",
        "        cache_size=200, \n",
        "        class_weight=None, \n",
        "        verbose=False, \n",
        "        max_iter=- 1, \n",
        "        decision_function_shape='ovr', \n",
        "        break_ties=False, \n",
        "        random_state=None)\n",
        "```"
      ],
      "metadata": {
        "id": "D24mJq0LuysG"
      }
    },
    {
      "cell_type": "markdown",
      "source": [
        "* 'petal' 관련 특성으로  멀티클래스 분류\n",
        "* 모델\n",
        "  * `kernel` = 'linear'\n",
        "  * `C` = 1\n",
        "* 평가\n",
        "  * 정확도 계산\n",
        "  * 혼돈행렬 시각화\n",
        "  * 결정경계 시각화"
      ],
      "metadata": {
        "id": "skRXMQJou56N"
      }
    },
    {
      "cell_type": "code",
      "source": [
        "from sklearn.svm import SVC\n",
        "\n",
        "# 데이터 준비\n",
        "\n",
        "\n",
        "# 학습\n",
        "\n",
        "\n",
        "# 정확도 출력 및 혼돈행렬 시각화\n",
        "\n",
        "\n",
        "# 결정경계 시각화\n"
      ],
      "metadata": {
        "id": "cQlxyd648pjK"
      },
      "execution_count": null,
      "outputs": []
    },
    {
      "cell_type": "markdown",
      "source": [
        "#### **예제 07**\n",
        "\n",
        "* 'sepal' 관련 특성으로  3개 멀티클래스 분류\n",
        "* 모델\n",
        "  * `kernel` = 'linear'\n",
        "  * `C` = 0.01, 0.1, 1, 10, 100 일때, 각각에 대한 모델 학습 및 평가\n",
        "* 평가\n",
        "  * 정확도 계산\n",
        "  * 혼돈행렬 시각화\n",
        "  * 결정경계 시각화"
      ],
      "metadata": {
        "id": "pCrvFgBNjZis"
      }
    },
    {
      "cell_type": "code",
      "source": [
        ""
      ],
      "metadata": {
        "id": "bwiOYScMiycE"
      },
      "execution_count": null,
      "outputs": []
    },
    {
      "cell_type": "markdown",
      "source": [
        "### **| 커널 SVM**"
      ],
      "metadata": {
        "id": "q6dh8GGUvfad"
      }
    },
    {
      "cell_type": "markdown",
      "source": [
        "* 'petal' 관련 특성으로  멀티클래스 분류\n",
        "* 모델\n",
        "  * `kernel` = 'linear', 'poly', 'rbf', 'sigmoid' 일 때, 각각에 대한 모델 학습 및 평가\n",
        "* 평가\n",
        "  * 정확도 계산\n",
        "  * 혼돈행렬 시각화\n",
        "  * 결정경계 시각화"
      ],
      "metadata": {
        "id": "hLgsNvDnk_8K"
      }
    },
    {
      "cell_type": "code",
      "source": [
        ""
      ],
      "metadata": {
        "id": "7BpbYZw3kFoE"
      },
      "execution_count": null,
      "outputs": []
    },
    {
      "cell_type": "markdown",
      "source": [
        "### **| XOR 문제 풀기**\n"
      ],
      "metadata": {
        "id": "sFCDeXFYlRWZ"
      }
    },
    {
      "cell_type": "markdown",
      "source": [
        "\n",
        "\n",
        "* 데이터 생성\n",
        "\n",
        "\n",
        "```\n",
        "np.random.seed(5)\n",
        "X_xor = np.random.randn(200,2)\n",
        "y_xor = np.logical_xor(X_xor[:,0]>0, X_xor[:,1]>0)\n",
        "y_xor = np.where(y_xor, 1, 0)\n",
        "```"
      ],
      "metadata": {
        "id": "SpEEcWSzl4cY"
      }
    },
    {
      "cell_type": "code",
      "source": [
        ""
      ],
      "metadata": {
        "id": "uj8AxNoq_zll"
      },
      "execution_count": null,
      "outputs": []
    },
    {
      "cell_type": "markdown",
      "source": [
        "* kernel =  ['linear', 'poly', 'rbf', 'sigmoid'] 각각에 대해 결정경계 시각화"
      ],
      "metadata": {
        "id": "j4_tQ990l8Tn"
      }
    },
    {
      "cell_type": "code",
      "source": [
        ""
      ],
      "metadata": {
        "id": "CGXluhBBlhvW"
      },
      "execution_count": null,
      "outputs": []
    },
    {
      "cell_type": "markdown",
      "source": [
        "#### **`gamma` 값 조절하여 과적합 개념 이해하기**"
      ],
      "metadata": {
        "id": "bVL6D_jXmEW2"
      }
    },
    {
      "cell_type": "code",
      "source": [
        ""
      ],
      "metadata": {
        "id": "emoRle5Hvp2l"
      },
      "execution_count": null,
      "outputs": []
    },
    {
      "cell_type": "markdown",
      "source": [
        "#### **규제를 사용하여 과대적합 피하기**\n",
        "\n",
        "* Regularization: 파라미터 값이 과도해지는 것을 제한하기 위한 추가 항\n",
        "\n",
        "\n",
        "$J(w) = \\sum_i^n[-y^{(i)}log(\\sigma(z^{(i)}))-(1-y^{(i)})log(1-\\sigma(z^{(i)}))]+\\frac{\\lambda}{2}||w||^2$"
      ],
      "metadata": {
        "id": "2JOh5FzLm2Li"
      }
    },
    {
      "cell_type": "code",
      "source": [
        ""
      ],
      "metadata": {
        "id": "eIp-DO2xALIh"
      },
      "execution_count": null,
      "outputs": []
    },
    {
      "cell_type": "markdown",
      "source": [
        "* 적절한 하이퍼 파라미터 적용"
      ],
      "metadata": {
        "id": "B0h-6O6tpOA8"
      }
    },
    {
      "cell_type": "code",
      "source": [
        ""
      ],
      "metadata": {
        "id": "UCUd4nv-Bpmp"
      },
      "execution_count": null,
      "outputs": []
    },
    {
      "cell_type": "markdown",
      "source": [
        "## **과제1: 펭귄데이터셋 분류**\n",
        "---\n",
        "```\n",
        "df = sns.load_dataset('penguins')\n",
        "df.shape\n",
        "```\n",
        "* 펭귄데이터셋을 불러오고 간단히 전처리 후 멀티클래스 분류를 진행합니다.\n",
        "* 세 종류의 알고리즘을 사용해 보세요\n",
        "* 각 알고리즘의 하이퍼파라미터를 조정해 가며 성능을 비교해 보세요."
      ],
      "metadata": {
        "id": "qwmivGEzpy_8"
      }
    },
    {
      "cell_type": "code",
      "source": [
        ""
      ],
      "metadata": {
        "id": "uGWNmZrzp2Li"
      },
      "execution_count": null,
      "outputs": []
    },
    {
      "cell_type": "markdown",
      "source": [
        "## **과제2: 타이타닉 : 누가 살아남았을까?**\n",
        "---\n",
        "\n",
        "* https://dacon.io/competitions/open/235539/data\n",
        "* 수업 시간에 배운 내용들을 적용하여 이진분류를 진행하고 리더보드에 결과를 제출합니다.\n",
        "* 평가 지표는 AUC 이지만 아직 배우지 않은 내용이므로, 우선 정확도로 평가하세요"
      ],
      "metadata": {
        "id": "ZFUD38WPFP4Y"
      }
    },
    {
      "cell_type": "code",
      "source": [
        ""
      ],
      "metadata": {
        "id": "KKEbLngkFdwk"
      },
      "execution_count": null,
      "outputs": []
    }
  ]
}