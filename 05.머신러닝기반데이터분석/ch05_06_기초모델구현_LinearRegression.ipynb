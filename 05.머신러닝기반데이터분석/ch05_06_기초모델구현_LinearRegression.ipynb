{
  "nbformat": 4,
  "nbformat_minor": 0,
  "metadata": {
    "colab": {
      "name": "ch05_06_기초모델구현-LinearRegression.ipynb",
      "provenance": [],
      "collapsed_sections": [],
      "mount_file_id": "1zy9OhReEoENxmqPNEjeLHEC_fRizkyJd",
      "authorship_tag": "ABX9TyPS98nJ/Xf9ZzaY+dAnPLhY",
      "include_colab_link": true
    },
    "kernelspec": {
      "name": "python3",
      "display_name": "Python 3"
    },
    "language_info": {
      "name": "python"
    }
  },
  "cells": [
    {
      "cell_type": "markdown",
      "metadata": {
        "id": "view-in-github",
        "colab_type": "text"
      },
      "source": [
        "<a href=\"https://colab.research.google.com/github/yebiny/SkillTreePython-DataAnalysis/blob/main/05.%EB%A8%B8%EC%8B%A0%EB%9F%AC%EB%8B%9D%EA%B8%B0%EB%B0%98%EB%8D%B0%EC%9D%B4%ED%84%B0%EB%B6%84%EC%84%9D/ch05_06_%EA%B8%B0%EC%B4%88%EB%AA%A8%EB%8D%B8%EA%B5%AC%ED%98%84_LinearRegression.ipynb\" target=\"_parent\"><img src=\"https://colab.research.google.com/assets/colab-badge.svg\" alt=\"Open In Colab\"/></a>"
      ]
    },
    {
      "cell_type": "markdown",
      "metadata": {
        "id": "wWpXZc2fi39U"
      },
      "source": [
        "# ch05.06. 기초모델 구현 - Linear Regression\n",
        "---\n",
        "* 날짜:\n",
        "* 이름:\n",
        "\n",
        "## 학습내용\n",
        "    -  선형회귀의 프로세스에 대해 이해한다"
      ]
    },
    {
      "cell_type": "markdown",
      "metadata": {
        "id": "kByKdJPApy6P"
      },
      "source": [
        "```\n",
        "import numpy as np\n",
        "import matplotlib.pyplot as plt\n",
        "```"
      ]
    },
    {
      "cell_type": "code",
      "execution_count": null,
      "metadata": {
        "id": "rJvcz-JikHbE"
      },
      "outputs": [],
      "source": [
        ""
      ]
    },
    {
      "cell_type": "markdown",
      "source": [
        "## 클래스 작성\n",
        "---"
      ],
      "metadata": {
        "id": "uwMdGM259v98"
      }
    },
    {
      "cell_type": "code",
      "source": [
        "class LinearRegressionGD():\n",
        "\n",
        "\n",
        "\n"
      ],
      "metadata": {
        "id": "Y2_Cat88xoUT"
      },
      "execution_count": null,
      "outputs": []
    },
    {
      "cell_type": "markdown",
      "source": [
        "## mpg 데이터로 선형 회귀 진행하기\n",
        "---"
      ],
      "metadata": {
        "id": "p8-pUaTb04zO"
      }
    },
    {
      "cell_type": "markdown",
      "source": [
        "### **데이터 로드**"
      ],
      "metadata": {
        "id": "yh-ww3jO9392"
      }
    },
    {
      "cell_type": "code",
      "source": [
        "X_train, X_test, y_train, y_test = mpg_loader()"
      ],
      "metadata": {
        "id": "YjNawOtq0-AH"
      },
      "execution_count": null,
      "outputs": []
    },
    {
      "cell_type": "markdown",
      "source": [
        "### **학습전 성능 평가**"
      ],
      "metadata": {
        "id": "3LqoB51790s0"
      }
    },
    {
      "cell_type": "code",
      "source": [
        ""
      ],
      "metadata": {
        "id": "TBW5bD_H8qqk"
      },
      "execution_count": null,
      "outputs": []
    },
    {
      "cell_type": "markdown",
      "source": [
        "### **학습**"
      ],
      "metadata": {
        "id": "s0Z1FRSQ-CVf"
      }
    },
    {
      "cell_type": "code",
      "source": [
        ""
      ],
      "metadata": {
        "id": "jfiahxuny5Mf"
      },
      "execution_count": null,
      "outputs": []
    },
    {
      "cell_type": "markdown",
      "source": [
        "### **학습 후 성능평가**"
      ],
      "metadata": {
        "id": "rcyTrA6o-ERb"
      }
    },
    {
      "cell_type": "code",
      "source": [
        ""
      ],
      "metadata": {
        "id": "85fUj6NU7gXX"
      },
      "execution_count": null,
      "outputs": []
    },
    {
      "cell_type": "markdown",
      "source": [
        "### **학습곡선**"
      ],
      "metadata": {
        "id": "w1bVEuSPkhwb"
      }
    },
    {
      "cell_type": "code",
      "source": [
        ""
      ],
      "metadata": {
        "id": "qMgKxxS2kdQz"
      },
      "execution_count": null,
      "outputs": []
    },
    {
      "cell_type": "markdown",
      "source": [
        "### **테스트셋 성능평가**"
      ],
      "metadata": {
        "id": "rJtmb1t_-GIF"
      }
    },
    {
      "cell_type": "code",
      "source": [
        ""
      ],
      "metadata": {
        "id": "XNGh7FUei1Qe"
      },
      "execution_count": null,
      "outputs": []
    },
    {
      "cell_type": "markdown",
      "source": [
        "### **하이퍼파라미터에 따른 성능평가**"
      ],
      "metadata": {
        "id": "-fEs8-I_Y4_L"
      }
    },
    {
      "cell_type": "code",
      "source": [
        ""
      ],
      "metadata": {
        "id": "MS53UofqY4_M"
      },
      "execution_count": null,
      "outputs": []
    },
    {
      "cell_type": "code",
      "source": [
        ""
      ],
      "metadata": {
        "id": "OAGPYEB-zlhl"
      },
      "execution_count": null,
      "outputs": []
    }
  ]
}