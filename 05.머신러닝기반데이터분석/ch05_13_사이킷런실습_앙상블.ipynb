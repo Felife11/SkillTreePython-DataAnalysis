{
  "nbformat": 4,
  "nbformat_minor": 0,
  "metadata": {
    "colab": {
      "name": "ch05_13_사이킷런실습-앙상블.ipynb",
      "provenance": [],
      "collapsed_sections": [],
      "mount_file_id": "13iWx9rwx6ujONWtyp6mPS33lSIjG9pKP",
      "authorship_tag": "ABX9TyOkHNEYPzac9BcqG/3RZfXR",
      "include_colab_link": true
    },
    "kernelspec": {
      "name": "python3",
      "display_name": "Python 3"
    },
    "language_info": {
      "name": "python"
    }
  },
  "cells": [
    {
      "cell_type": "markdown",
      "metadata": {
        "id": "view-in-github",
        "colab_type": "text"
      },
      "source": [
        "<a href=\"https://colab.research.google.com/github/yebiny/SkillTreePython-DataAnalysis/blob/main/05.%EB%A8%B8%EC%8B%A0%EB%9F%AC%EB%8B%9D%EA%B8%B0%EB%B0%98%EB%8D%B0%EC%9D%B4%ED%84%B0%EB%B6%84%EC%84%9D/ch05_13_%EC%82%AC%EC%9D%B4%ED%82%B7%EB%9F%B0%EC%8B%A4%EC%8A%B5_%EC%95%99%EC%83%81%EB%B8%94.ipynb\" target=\"_parent\"><img src=\"https://colab.research.google.com/assets/colab-badge.svg\" alt=\"Open In Colab\"/></a>"
      ]
    },
    {
      "cell_type": "markdown",
      "metadata": {
        "id": "wWpXZc2fi39U"
      },
      "source": [
        "# ch05.13. 사이킷런 실습 - 앙상블\n",
        "\n",
        "---\n",
        "* 날짜:\n",
        "* 이름:\n",
        "\n",
        "## 학습내용\n",
        "    - 모델 앙상블에 대한 개념을 이해한다.\n",
        "    - 배깅(bagging) : 부트스트랩(bootstrp) 샘플링을 통한 분류 앙상블 기법을 이해한다.\n",
        "    - 부스팅 기반의 에이다부스트(AdaBoost) 알고리즘을 이해한다.\n",
        "\n",
        "## 학습자료\n",
        "- [머신러닝 교과서 with파이썬, 사이킷런, 텐서플로](http://www.kyobobook.co.kr/product/detailViewKor.laf?mallGb=KOR&ejkGb=KOR&barcode=9791165215187)\n",
        "- 7장. 다양한 모델을 결합한 앙상블 학습"
      ]
    },
    {
      "cell_type": "markdown",
      "source": [
        "```\n",
        "import numpy as np\n",
        "import pandas as pd\n",
        "import matplotlib.pyplot as plt\n",
        "import seaborn as sns\n",
        "```"
      ],
      "metadata": {
        "id": "5wOHBjrdadYj"
      }
    },
    {
      "cell_type": "code",
      "source": [
        ""
      ],
      "metadata": {
        "id": "r-6d-c4I26dq"
      },
      "execution_count": null,
      "outputs": []
    },
    {
      "cell_type": "code",
      "source": [
        "from matplotlib.colors import ListedColormap\n",
        "\n",
        "def draw_decision_region(model, X, y, \n",
        "                         X_test=[], y_test=[], \n",
        "                         features=[], labels=[], title=''): # 결정경계\n",
        "\n",
        "  colors = ('orangered', 'dodgerblue', 'limegreen', 'fuchsia', 'blueviolet')\n",
        "  cmap = ListedColormap(colors[:len(np.unique( y))])\n",
        "\n",
        "  x0mn, x0mx = X[:,0].min() -1, X[:,0].max() +1\n",
        "  x1mn, x1mx = X[:,1].min() -1, X[:,1].max() +1\n",
        "  x0 = np.arange(x0mn, x0mx, 0.02)\n",
        "  x1 = np.arange(x1mn, x1mx, 0.02)\n",
        "  #print('* arange', x0.shape, x1.shape)\n",
        "  X0, X1 = np.meshgrid(x0, x1)\n",
        "  #print('* meshgrid', x0.shape, x1.shape)\n",
        "  x0, x1 = X0.ravel(), X1.ravel()\n",
        "  #print('* ravel', x0.shape, x1.shape)\n",
        "  x_every = np.array([x0, x1]).T\n",
        "  #print('* concat', x_set.shape)\n",
        "  y_pred = model.predict(x_every)\n",
        "  #print('* y_pred', y_pred.shape)\n",
        "  Y_pred = y_pred.reshape(X0.shape)\n",
        "  #print('* y_pred', y_pred.shape)\n",
        "\n",
        "  if not len(labels): labels=[i for i in range(len(np.unique(y)))]\n",
        "  plt.contourf(X0, X1, Y_pred, alpha=0.4, cmap=cmap )\n",
        "  for idx, c in enumerate(np.unique(y)):\n",
        "    plt.scatter(x = X[y == c, 0], \n",
        "                y = X[y == c, 1],\n",
        "                alpha=0.8,\n",
        "                c=colors[idx],\n",
        "                label=labels[idx],\n",
        "                marker='x',\n",
        "                linewidth=2)\n",
        "  if len(X_test):\n",
        "    for idx, c in enumerate(np.unique(y_test)):\n",
        "      plt.scatter(x = X_test[y_test == c, 0], \n",
        "                  y = X_test[y_test == c, 1],\n",
        "                  alpha=0.8,\n",
        "                  c=colors[idx],\n",
        "                  marker='o',\n",
        "                  edgecolor='k',\n",
        "                  linewidth=2)\n",
        "  \n",
        "  if features:\n",
        "    plt.xlabel(features[0])\n",
        "    plt.ylabel(features[1])\n",
        "  if title:\n",
        "    plt.title(title)\n",
        "  plt.legend()"
      ],
      "metadata": {
        "id": "uaw6hKD1Nzv7"
      },
      "execution_count": null,
      "outputs": []
    },
    {
      "cell_type": "markdown",
      "source": [
        "## 데이터 소개 : 와인 데이터셋\n",
        "---\n",
        "\n",
        "\n",
        "```\n",
        "df_wine = pd.read_csv('https://archive.ics.uci.edu/ml/'\n",
        "                      'machine-learning-databases/wine/wine.data',\n",
        "                      header=None)\n",
        "df_wine.columns = ['Class label', 'Alcohol', 'Malic acid', 'Ash',\n",
        "                   'Alcalinity of ash', 'Magnesium', 'Total phenols',\n",
        "                   'Flavanoids', 'Nonflavanoid phenols', 'Proanthocyanins',\n",
        "                   'Color intensity', 'Hue', 'OD280/OD315 of diluted wines',\n",
        "                   'Proline']\n",
        "```"
      ],
      "metadata": {
        "id": "JlU3-2s3as9w"
      }
    },
    {
      "cell_type": "markdown",
      "source": [
        "#### 데이터 가져오기"
      ],
      "metadata": {
        "id": "Bolf_EdCfHie"
      }
    },
    {
      "cell_type": "code",
      "source": [
        ""
      ],
      "metadata": {
        "id": "6fvpM0djI89V"
      },
      "execution_count": null,
      "outputs": []
    },
    {
      "cell_type": "markdown",
      "source": [
        "#### 학습을 위한 데이터 처리\n",
        "* 와인 클래스 2와 클래스 3만 사용 (1은 제거)\n",
        "* 두개의 특성 Alcohol과 'OD280/OD315 of diluted wines'만 사용"
      ],
      "metadata": {
        "id": "kuSG3RGgeu33"
      }
    },
    {
      "cell_type": "code",
      "source": [
        ""
      ],
      "metadata": {
        "id": "9VLdlmwRemzJ"
      },
      "execution_count": null,
      "outputs": []
    },
    {
      "cell_type": "markdown",
      "source": [
        "#### 전처리"
      ],
      "metadata": {
        "id": "GbTUQ5MKe8qy"
      }
    },
    {
      "cell_type": "code",
      "source": [
        ""
      ],
      "metadata": {
        "id": "L2E2OJA22Ey8"
      },
      "execution_count": null,
      "outputs": []
    },
    {
      "cell_type": "markdown",
      "source": [
        "#### 분포 시각화"
      ],
      "metadata": {
        "id": "njMXgtFKhOg_"
      }
    },
    {
      "cell_type": "code",
      "source": [
        ""
      ],
      "metadata": {
        "id": "pg2Nrja14kMG"
      },
      "execution_count": null,
      "outputs": []
    },
    {
      "cell_type": "markdown",
      "source": [
        "## 다수결 투표 방식을 사용한 예측\n",
        "---\n",
        "\n",
        "<p align='center'>\n",
        "<img src=https://git.io/Jtskl?raw=true width=600>\n",
        "</p>\n",
        "\n"
      ],
      "metadata": {
        "id": "pLfB7doqhstw"
      }
    },
    {
      "cell_type": "markdown",
      "source": [
        "#### 모델 구성"
      ],
      "metadata": {
        "id": "_xtitwy5ip2N"
      }
    },
    {
      "cell_type": "code",
      "source": [
        ""
      ],
      "metadata": {
        "id": "9vo8wYOV15pu"
      },
      "execution_count": null,
      "outputs": []
    },
    {
      "cell_type": "markdown",
      "source": [
        "#### k-겹 교차검증"
      ],
      "metadata": {
        "id": "-zHul1AJivjn"
      }
    },
    {
      "cell_type": "code",
      "source": [
        ""
      ],
      "metadata": {
        "id": "9R8Mz0T2iVeQ"
      },
      "execution_count": null,
      "outputs": []
    },
    {
      "cell_type": "markdown",
      "source": [
        "#### 스코어 계산"
      ],
      "metadata": {
        "id": "aWos6Ygfi0b2"
      }
    },
    {
      "cell_type": "code",
      "source": [
        ""
      ],
      "metadata": {
        "id": "D_kPxOwciVeK"
      },
      "execution_count": null,
      "outputs": []
    },
    {
      "cell_type": "markdown",
      "source": [
        "#### 모델 별 분류경계 시각화"
      ],
      "metadata": {
        "id": "RAHgDTWXjBP9"
      }
    },
    {
      "cell_type": "code",
      "source": [
        ""
      ],
      "metadata": {
        "id": "HiYF_qtgiVeR"
      },
      "execution_count": null,
      "outputs": []
    },
    {
      "cell_type": "markdown",
      "source": [
        "## 배깅(Bagging: Bootrstrap aggregating)\n",
        "----"
      ],
      "metadata": {
        "id": "RyClZhWUSunP"
      }
    },
    {
      "cell_type": "markdown",
      "source": [
        "<p align='center'>\n",
        "<img src=https://git.io/Jtsk4?raw=true width=500>\n",
        "</p>"
      ],
      "metadata": {
        "id": "Bsiz6oTu2mdo"
      }
    },
    {
      "cell_type": "markdown",
      "source": [
        "#### 모델 구성\n",
        "\n",
        "```\n",
        "sklearn.ensemble.BaggingClassifier(\n",
        "                                  base_estimator=None, \n",
        "                                  n_estimators=10, *, \n",
        "                                  max_samples=1.0, \n",
        "                                  max_features=1.0, \n",
        "                                  bootstrap=True, \n",
        "                                  bootstrap_features=False, \n",
        "                                  oob_score=False, \n",
        "                                  warm_start=False, \n",
        "                                  n_jobs=None, \n",
        "                                  random_state=None, \n",
        "                                  verbose=0\n",
        "\n",
        "```"
      ],
      "metadata": {
        "id": "RAyk72CyklGO"
      }
    },
    {
      "cell_type": "code",
      "source": [
        ""
      ],
      "metadata": {
        "id": "0xo3GRogIdPU"
      },
      "execution_count": null,
      "outputs": []
    },
    {
      "cell_type": "markdown",
      "source": [
        "#### k-겹 교차검증"
      ],
      "metadata": {
        "id": "CX0I3Zw6kkaQ"
      }
    },
    {
      "cell_type": "code",
      "source": [
        ""
      ],
      "metadata": {
        "id": "5jq0Z5DekkaW"
      },
      "execution_count": null,
      "outputs": []
    },
    {
      "cell_type": "markdown",
      "source": [
        "#### 스코어 계산"
      ],
      "metadata": {
        "id": "Z765JfzgkkaW"
      }
    },
    {
      "cell_type": "code",
      "source": [
        ""
      ],
      "metadata": {
        "id": "diKO1WZNkkaW"
      },
      "execution_count": null,
      "outputs": []
    },
    {
      "cell_type": "markdown",
      "source": [
        "#### 모델 별 분류경계 시각화"
      ],
      "metadata": {
        "id": "EFruX6HokkaW"
      }
    },
    {
      "cell_type": "code",
      "source": [
        ""
      ],
      "metadata": {
        "id": "zu37L4jJkkaW"
      },
      "execution_count": null,
      "outputs": []
    },
    {
      "cell_type": "markdown",
      "source": [
        "##  에이다부스트(AdaBoost)\n",
        "---\n",
        "\n",
        "\n",
        "<p align='center'>\n",
        "<img src=https://camo.githubusercontent.com/e0966809177c396bd5f64c2142e11ca7f31dfb05094ac671c5f425fbd2cd2f91/68747470733a2f2f6769742e696f2f4a74736b30?raw=true width=500>\n",
        "</p>"
      ],
      "metadata": {
        "id": "hV7TSWQCTtdB"
      }
    },
    {
      "cell_type": "markdown",
      "source": [
        "#### 모델구성\n",
        "\n",
        "```\n",
        "class sklearn.ensemble.AdaBoostClassifier(\n",
        "                          base_estimator=None, *, \n",
        "                          n_estimators=50, \n",
        "                          learning_rate=1.0, \n",
        "                          algorithm='SAMME.R', \n",
        "                          random_state=None)[source]¶\n",
        "\n",
        "```"
      ],
      "metadata": {
        "id": "YwA2MPiIk4cb"
      }
    },
    {
      "cell_type": "code",
      "source": [
        ""
      ],
      "metadata": {
        "id": "wwYYOHZhL0tz"
      },
      "execution_count": null,
      "outputs": []
    },
    {
      "cell_type": "markdown",
      "source": [
        "#### k-겹 교차검증"
      ],
      "metadata": {
        "id": "DmYbeLLkk2-P"
      }
    },
    {
      "cell_type": "code",
      "source": [
        ""
      ],
      "metadata": {
        "id": "rQufj2Kvk2-P"
      },
      "execution_count": null,
      "outputs": []
    },
    {
      "cell_type": "markdown",
      "source": [
        "#### 스코어 계산"
      ],
      "metadata": {
        "id": "0NTETTYDk2-Q"
      }
    },
    {
      "cell_type": "code",
      "source": [
        ""
      ],
      "metadata": {
        "id": "8wwZpueek2-Q"
      },
      "execution_count": null,
      "outputs": []
    },
    {
      "cell_type": "markdown",
      "source": [
        "#### 모델 별 분류경계 시각화"
      ],
      "metadata": {
        "id": "ln3yawpgk2-Q"
      }
    },
    {
      "cell_type": "code",
      "source": [
        ""
      ],
      "metadata": {
        "id": "FdJyW3MYk2-Q"
      },
      "execution_count": null,
      "outputs": []
    },
    {
      "cell_type": "markdown",
      "source": [
        "## 앙상블 모델 정리\n",
        "---"
      ],
      "metadata": {
        "id": "Ogt9eqqaaGo6"
      }
    },
    {
      "cell_type": "code",
      "source": [
        ""
      ],
      "metadata": {
        "id": "TkuZlA-qNcg6"
      },
      "execution_count": null,
      "outputs": []
    },
    {
      "cell_type": "markdown",
      "source": [
        "#### k-겹 교차검증"
      ],
      "metadata": {
        "id": "KMNY3o41r3mj"
      }
    },
    {
      "cell_type": "code",
      "source": [
        ""
      ],
      "metadata": {
        "id": "iQFxyWcJr3mj"
      },
      "execution_count": null,
      "outputs": []
    },
    {
      "cell_type": "markdown",
      "source": [
        "#### 스코어 계산"
      ],
      "metadata": {
        "id": "nqdlr_Bpr3mk"
      }
    },
    {
      "cell_type": "code",
      "source": [
        ""
      ],
      "metadata": {
        "id": "NSpJyIdIr3mk"
      },
      "execution_count": null,
      "outputs": []
    },
    {
      "cell_type": "markdown",
      "source": [
        "#### 모델 별 분류경계 시각화"
      ],
      "metadata": {
        "id": "Q1xddXFGr3mk"
      }
    },
    {
      "cell_type": "code",
      "source": [
        ""
      ],
      "metadata": {
        "id": "xu0y1hZuZUwi"
      },
      "execution_count": null,
      "outputs": []
    },
    {
      "cell_type": "markdown",
      "source": [
        "## 알고리즘 정해서 발표하기\n",
        "\n",
        "1. PCA, KNN\n",
        "2. 앙상블(Ensemble), 배깅(Bagging)\n",
        "3. 부스팅(Bossting)\n",
        "\n",
        "포함되어야 할 내용\n",
        "- 개념 설명\n",
        "- (앙상블, 배깅, 부스팅)의 경우 관련 모델\n",
        "- 사이킷런 구현시 함수의 각 파라미터"
      ],
      "metadata": {
        "id": "y4qzEwGusPFx"
      }
    },
    {
      "cell_type": "code",
      "source": [
        ""
      ],
      "metadata": {
        "id": "seWnGJ0UPRKb"
      },
      "execution_count": null,
      "outputs": []
    }
  ]
}