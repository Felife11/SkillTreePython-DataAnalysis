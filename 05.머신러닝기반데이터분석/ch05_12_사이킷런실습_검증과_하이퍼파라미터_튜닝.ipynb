{
  "nbformat": 4,
  "nbformat_minor": 0,
  "metadata": {
    "colab": {
      "name": "ch05_12_사이킷런실습-검증과_하이퍼파라미터_튜닝.ipynb",
      "provenance": [],
      "collapsed_sections": [],
      "authorship_tag": "ABX9TyMcutPY9Ot5J3G/5xiBSv7F",
      "include_colab_link": true
    },
    "kernelspec": {
      "name": "python3",
      "display_name": "Python 3"
    },
    "language_info": {
      "name": "python"
    }
  },
  "cells": [
    {
      "cell_type": "markdown",
      "metadata": {
        "id": "view-in-github",
        "colab_type": "text"
      },
      "source": [
        "<a href=\"https://colab.research.google.com/github/yebiny/SkillTreePython-DataAnalysis/blob/main/05.%EB%A8%B8%EC%8B%A0%EB%9F%AC%EB%8B%9D%EA%B8%B0%EB%B0%98%EB%8D%B0%EC%9D%B4%ED%84%B0%EB%B6%84%EC%84%9D/ch05_12_%EC%82%AC%EC%9D%B4%ED%82%B7%EB%9F%B0%EC%8B%A4%EC%8A%B5_%EA%B2%80%EC%A6%9D%EA%B3%BC_%ED%95%98%EC%9D%B4%ED%8D%BC%ED%8C%8C%EB%9D%BC%EB%AF%B8%ED%84%B0_%ED%8A%9C%EB%8B%9D.ipynb\" target=\"_parent\"><img src=\"https://colab.research.google.com/assets/colab-badge.svg\" alt=\"Open In Colab\"/></a>"
      ]
    },
    {
      "cell_type": "markdown",
      "metadata": {
        "id": "wWpXZc2fi39U"
      },
      "source": [
        "# ch05.12. 사이킷런 실습 - 검증과 하이퍼파라미터 튜닝\n",
        "\n",
        "\n",
        "---\n",
        "* 날짜:\n",
        "* 이름:\n",
        "\n",
        "## 학습내용\n",
        "    - 머신러닝 모델 성능 평가하기\n",
        "    - 머신러닝 알고리즘에서 일반적으로 발생하는 문제 분석하기\n",
        "    - 머신러닝 모델 세부 튜닝\n",
        "    - 여러가지 성능 지표를 사용해 모델의 예측 성능 평가하기\n",
        "\n",
        "\n",
        "## 학습자료\n",
        "- [머신러닝 교과서 with파이썬, 사이킷런, 텐서플로](http://www.kyobobook.co.kr/product/detailViewKor.laf?mallGb=KOR&ejkGb=KOR&barcode=9791165215187)\n",
        "- 6장. 모델 평가와 하이퍼파라미터 튜닝의 모범 사례"
      ]
    },
    {
      "cell_type": "markdown",
      "metadata": {
        "id": "kByKdJPApy6P"
      },
      "source": [
        "```\n",
        "import numpy as np\n",
        "import matplotlib.pyplot as plt\n",
        "import seaborn as sns\n",
        "```"
      ]
    },
    {
      "cell_type": "code",
      "source": [
        ""
      ],
      "metadata": {
        "id": "YW4q7CsxPlQh"
      },
      "execution_count": null,
      "outputs": []
    },
    {
      "cell_type": "markdown",
      "source": [
        "## 데이터 소개 : 위스콘신 유방암 데이터셋\n",
        "---\n",
        "\n",
        "* 악성과 양성인 종양 세포 샘플 569개\n",
        "* 열1 : 샘플의 고유 ID\n",
        "* 열2 : 진단 결과 {M: 악성, B: 양성}\n",
        "* 열3 - 열 32 : 디지털 이미지에서 계산된 30개의 실수 값 특성\n",
        "\n"
      ],
      "metadata": {
        "id": "lUVNDZ9puEQN"
      }
    },
    {
      "cell_type": "markdown",
      "source": [
        "### | 데이터 준비\n",
        "\n",
        "```\n",
        "df = pd.read_csv('https://archive.ics.uci.edu/ml/'\n",
        "                 'machine-learning-databases'\n",
        "                 '/breast-cancer-wisconsin/wdbc.data', header=None)\n",
        "```"
      ],
      "metadata": {
        "id": "0omO0XTuuu3t"
      }
    },
    {
      "cell_type": "markdown",
      "source": [
        "* 데이터 로드 및 헤드 확인"
      ],
      "metadata": {
        "id": "hJC6gAfqugeu"
      }
    },
    {
      "cell_type": "code",
      "source": [
        ""
      ],
      "metadata": {
        "id": "JxtlJvM5uJYS"
      },
      "execution_count": null,
      "outputs": []
    },
    {
      "cell_type": "markdown",
      "source": [
        "* y 클래스별 개수 시각화"
      ],
      "metadata": {
        "id": "xDOKD0BZui_E"
      }
    },
    {
      "cell_type": "code",
      "source": [
        ""
      ],
      "metadata": {
        "id": "iOJ3cG3EuKt0"
      },
      "execution_count": null,
      "outputs": []
    },
    {
      "cell_type": "markdown",
      "source": [
        "### | 데이터 전처리"
      ],
      "metadata": {
        "id": "er6DYjlBuziU"
      }
    },
    {
      "cell_type": "markdown",
      "source": [
        "* 판다스에서 정수 인코딩 하기"
      ],
      "metadata": {
        "id": "MD1_RBZ-vPx9"
      }
    },
    {
      "cell_type": "code",
      "source": [
        ""
      ],
      "metadata": {
        "id": "vmK_tYxxvToE"
      },
      "execution_count": null,
      "outputs": []
    },
    {
      "cell_type": "code",
      "source": [
        ""
      ],
      "metadata": {
        "id": "f_jhMw7-v-ED"
      },
      "execution_count": null,
      "outputs": []
    },
    {
      "cell_type": "markdown",
      "source": [
        "* 사이킷런으로 정수 인코딩 하기\n",
        "\n",
        "```\n",
        "from sklearn.preprocessing import LabelEncoder\n",
        "```\n"
      ],
      "metadata": {
        "id": "y07T34b5wHYj"
      }
    },
    {
      "cell_type": "code",
      "source": [
        ""
      ],
      "metadata": {
        "id": "lAOvrrRPuZu1"
      },
      "execution_count": null,
      "outputs": []
    },
    {
      "cell_type": "markdown",
      "source": [
        "* 샘플에 인코딩 적용"
      ],
      "metadata": {
        "id": "t6MGYF8jxgtr"
      }
    },
    {
      "cell_type": "code",
      "source": [
        ""
      ],
      "metadata": {
        "id": "chYZsvc8xWga"
      },
      "execution_count": null,
      "outputs": []
    },
    {
      "cell_type": "markdown",
      "source": [
        "* 데이터 분할"
      ],
      "metadata": {
        "id": "FREnQO2XPq9C"
      }
    },
    {
      "cell_type": "code",
      "source": [
        ""
      ],
      "metadata": {
        "id": "Cm4JuXeFPr7Z"
      },
      "execution_count": null,
      "outputs": []
    },
    {
      "cell_type": "code",
      "source": [
        ""
      ],
      "metadata": {
        "id": "jFuioMWixqBj"
      },
      "execution_count": null,
      "outputs": []
    },
    {
      "cell_type": "markdown",
      "source": [
        "## 효과적인 모델 구상과 평가\n",
        "---"
      ],
      "metadata": {
        "id": "oz72dz7QZXub"
      }
    },
    {
      "cell_type": "markdown",
      "source": [
        "### **| 모델 파이프라인 제작**\n",
        "\n",
        "```\n",
        "sklearn.pipeline.make_pipeline(*steps, \n",
        "                               memory=None, \n",
        "                               verbose=False)\n",
        "\n",
        "```"
      ],
      "metadata": {
        "id": "0lSjpmR1xuPD"
      }
    },
    {
      "cell_type": "markdown",
      "source": [
        "* z-score 스케일링 -> 로지스틱 회귀"
      ],
      "metadata": {
        "id": "0Rb7a6PmZoLi"
      }
    },
    {
      "cell_type": "code",
      "source": [
        ""
      ],
      "metadata": {
        "id": "grcfaQDIxx1i"
      },
      "execution_count": null,
      "outputs": []
    },
    {
      "cell_type": "markdown",
      "source": [
        "* z-score 스케일링 -> SVC"
      ],
      "metadata": {
        "id": "ER2pHNXQZucC"
      }
    },
    {
      "cell_type": "code",
      "source": [
        ""
      ],
      "metadata": {
        "id": "eO1NQBHUzAM5"
      },
      "execution_count": null,
      "outputs": []
    },
    {
      "cell_type": "markdown",
      "source": [
        "* z-score 스케일링 -> PCA -> SVC"
      ],
      "metadata": {
        "id": "-a5GbBiQZ0GT"
      }
    },
    {
      "cell_type": "code",
      "source": [
        ""
      ],
      "metadata": {
        "id": "eSAbw1Sy0j0W"
      },
      "execution_count": null,
      "outputs": []
    },
    {
      "cell_type": "markdown",
      "source": [
        "### **| k-겹 교차 검증을 사용한 모델 성능 평가**"
      ],
      "metadata": {
        "id": "8mVKy1E8UlPP"
      }
    },
    {
      "cell_type": "markdown",
      "source": [
        "#### **홀드아웃(holdout cross-validation)**\n",
        "\n",
        "<p align='center'>\n",
        "<img src=https://git.io/JtsTo?raw=true width=600>\n",
        "</p>\n",
        "\n",
        "* 초기 데이터셋을 별도의 훈련 데이터셋과 테스트 데이터셋으로 분리\n",
        "* 성능 향상을 위해 하이퍼파라미터를 튜닝하고 비교하는 과정을 모델 선택이라고 한다.\n",
        "* 하이퍼파라미터 튜닝의 기준은 테스트셋이고 따라서 하이퍼파라미터를 튜닝하는 과정에서 테스트셋도 모델 선택의 일부가 되버린다.\n",
        "* 홀드아웃 방법은 데이터를 훈련 데이터, 검증 데이터, 테스트 데이터셋 세가지로 나누는 것. \n",
        "* 훈련 데이터셋 : 학습 파라미터 조정\n",
        "* 검증 데이터셋 : 하이퍼 파라미터 조정\n",
        "* 테스트 데이터셋 : 최종 성능 평가"
      ],
      "metadata": {
        "id": "5ricSHxSUxM2"
      }
    },
    {
      "cell_type": "markdown",
      "source": [
        "#### **k-겹 교차검증(k-fold cross-validation)**\n",
        "\n",
        "<p align='center'>\n",
        "<img src=https://git.io/JtsT6?raw=true width=600>\n",
        "</p>\n",
        "\n",
        "\n",
        "* 중복을 허용하지 않고 훈련 데이터셋을 k개의 폴드로 랜덤하게 나눈다.\n",
        "* k-1개의 폴드로 모델 훈련을 k번 하여 k개의 모델 확보\n",
        "* k개 모델에 대한 k번의 성능 평가 진행\n",
        "* 일반적으로 최적의 하이퍼파라미터 값을 찾기 위해 사용\n",
        "* 최적의 하이퍼파라미터를 찾은 후에는 전체 훈련 데이터셋을 사용해 모델을 재훈련\n",
        "* 최종 성능 추정은 독립적인 테스트셋(이제껏 사용하지 않은 데이터)을 사용하여 추정.\n"
      ],
      "metadata": {
        "id": "ymoHxEVYVruW"
      }
    },
    {
      "cell_type": "markdown",
      "source": [
        "```\n",
        "sklearn.model_selection.cross_validate(estimator, \n",
        "                                       X, y=None, \n",
        "                                       groups=None,\n",
        "                                       scoring=None, \n",
        "                                       cv=None, \n",
        "                                       n_jobs=None,\n",
        "                                       verbose=0,\n",
        "                                       fit_params=None,\n",
        "                                       pre_dispatch='2*n_jobs', \n",
        "                                       return_train_score=False, \n",
        "                                       return_estimator=False, \n",
        "                                       error_score=nan)\n",
        "```"
      ],
      "metadata": {
        "id": "uskpiAzQ1hgh"
      }
    },
    {
      "cell_type": "code",
      "source": [
        ""
      ],
      "metadata": {
        "id": "ov_LrXWZ3iZW"
      },
      "execution_count": null,
      "outputs": []
    },
    {
      "cell_type": "code",
      "source": [
        ""
      ],
      "metadata": {
        "id": "b58_hb5D-xq7"
      },
      "execution_count": null,
      "outputs": []
    },
    {
      "cell_type": "markdown",
      "source": [
        "## 머신러닝 성능향상을 위한 디버깅과 튜닝\n",
        "---"
      ],
      "metadata": {
        "id": "t0rPOASjgsSA"
      }
    },
    {
      "cell_type": "markdown",
      "source": [
        "### **| 알고리즘 디버깅**\n",
        "\n"
      ],
      "metadata": {
        "id": "Qu1b38gU0mQ7"
      }
    },
    {
      "cell_type": "markdown",
      "source": [
        "#### **학습 곡선**\n",
        "\n",
        "    - 주어진 훈련 데이터셋에 비해 모델이 너무 복잡하면 모델이 과대적합되고 처음 본 데이터에 잘 일반화 되지 못하는 경향이 생긴다.\n",
        "    - 이를 해결하는 가장 효과적인 방법은 훈련 샘플을 더 모으기\n",
        "    - 하지만 데이터를 모으는 비용과 시간이 소요되기 때문에 훈련 정확도와 검증 정확도를 훈련 데이터 셋 크기 함수로 그래프를 그린다.\n",
        "\n",
        "\n",
        "\n",
        "<p align='center'>\n",
        "<img src=https://git.io/JtsTi?=true width=600>\n",
        "</p>\n",
        "\n",
        "\n",
        "    과소 적합 \n",
        "      - 훈련 정확도와 테스트 정확도가 모두 낮다\n",
        "      - 일반적으로 모델이 훈련 데이터에 대해서도 학습을 못한 상태\n",
        "      - 이를 해결하기 위한 일반적인 방법\n",
        "\n",
        "\n",
        "    과대 적합\n",
        "      - 훈련 정확도와 테스트 정확도의 차이가 큼\n",
        "      - 모델이 테스트 데이터에 대해 일반화(generaliztion)을 하지 못하는 상태\n",
        "      - 이를 해결하기 위한 일반적인 방법\n",
        "\n",
        "\n",
        "\n",
        "\n",
        "\n",
        "```\n",
        "sklearn.model_selection.learning_curve(estimator, \n",
        "                                      X, y, \n",
        "                                      groups=None\n",
        "                                      train_sizes=array([0.1, 0.33, 0.55, 0.78, 1.]), \n",
        "                                      cv=None, \n",
        "                                      scoring=None,\n",
        "                                      exploit_incremental_learning=False, \n",
        "                                      n_jobs=None, pre_dispatch='all', \n",
        "                                      verbose=0, \n",
        "                                      shuffle=False, \n",
        "                                      random_state=None, \n",
        "                                      error_score=nan, \n",
        "                                      return_times=False, \n",
        "                                      fit_params=None)[source]\n",
        "```"
      ],
      "metadata": {
        "id": "g-kf_SRABCvi"
      }
    },
    {
      "cell_type": "code",
      "source": [
        ""
      ],
      "metadata": {
        "id": "a-kJLsRfA9C6"
      },
      "execution_count": null,
      "outputs": []
    },
    {
      "cell_type": "markdown",
      "source": [
        "* 시각화"
      ],
      "metadata": {
        "id": "Wk4u3xNmIItn"
      }
    },
    {
      "cell_type": "code",
      "source": [
        ""
      ],
      "metadata": {
        "id": "QvUDlb4Z1SMZ"
      },
      "execution_count": null,
      "outputs": []
    },
    {
      "cell_type": "markdown",
      "source": [
        "* 생성한 파이프라인에 대한 학습 곡선 시각화"
      ],
      "metadata": {
        "id": "ByxO9njX0V8M"
      }
    },
    {
      "cell_type": "code",
      "source": [
        ""
      ],
      "metadata": {
        "id": "bHBcFTbkaStz"
      },
      "execution_count": null,
      "outputs": []
    },
    {
      "cell_type": "markdown",
      "source": [
        "#### **검증 곡선**\n",
        "\n",
        "\n",
        "* x축 : \n",
        "* y축 :\n",
        "\n",
        "\n",
        "```\n",
        "sklearn.model_selection.validation_curve(estimator, \n",
        "                                        X, y, *, \n",
        "                                        param_name, \n",
        "                                        param_range,\n",
        "                                        groups=None, \n",
        "                                        cv=None, \n",
        "                                        scoring=None,\n",
        "                                        n_jobs=None,\n",
        "                                        pre_dispatch='all', \n",
        "                                        verbose=0, \n",
        "                                        error_score=nan, \n",
        "                                        fit_params=None)[source]\n",
        "```"
      ],
      "metadata": {
        "id": "ID6Kfj7sJW4V"
      }
    },
    {
      "cell_type": "code",
      "source": [
        ""
      ],
      "metadata": {
        "id": "nO6FbPQOJcWk"
      },
      "execution_count": null,
      "outputs": []
    },
    {
      "cell_type": "markdown",
      "source": [
        "* 시각화\n"
      ],
      "metadata": {
        "id": "FZC55CWzL1qU"
      }
    },
    {
      "cell_type": "code",
      "source": [
        ""
      ],
      "metadata": {
        "id": "wihgarxu2kdh"
      },
      "execution_count": null,
      "outputs": []
    },
    {
      "cell_type": "code",
      "source": [
        ""
      ],
      "metadata": {
        "id": "ZFXgdZieavSM"
      },
      "execution_count": null,
      "outputs": []
    },
    {
      "cell_type": "markdown",
      "source": [
        "### **| 하이퍼파라미터 튜닝**\n",
        "\n",
        "\n",
        "    - 머신 러닝에는 두가지 파라미터가 존재\n",
        "    * 학습 파라미터 \n",
        "      * 훈련 데이터를 통해 모델 알고리즘이 자동으로 학습되는 데이터\n",
        "      * 로지스틱 회귀의 가중치 \n",
        "\n",
        "    * 하이퍼파라미터 \n",
        "      * 로지스틱 회귀의 규제 매개변수\n",
        "      * 결정트리의 깊이\n"
      ],
      "metadata": {
        "id": "3bJgSIIw4aFR"
      }
    },
    {
      "cell_type": "markdown",
      "source": [
        "#### **그리드 서치를 사용한 하이퍼파라미터 튜닝**\n",
        "\n",
        "```\n",
        "class sklearn.model_selection.GridSearchCV(estimator,\n",
        "                                           param_grid,\n",
        "                                           scoring=None,\n",
        "                                           n_jobs=None,\n",
        "                                           refit=True,\n",
        "                                           cv=None, \n",
        "                                           verbose=0,\n",
        "                                           pre_dispatch='2*n_jobs', \n",
        "                                           error_score=nan, \n",
        "                                           return_train_score=False)\n",
        "```"
      ],
      "metadata": {
        "id": "vuh69TPJvAb_"
      }
    },
    {
      "cell_type": "markdown",
      "source": [
        "* pipe_pcasvc 그리드 서치 진행하기"
      ],
      "metadata": {
        "id": "nHXdAIVTWJW1"
      }
    },
    {
      "cell_type": "code",
      "source": [
        ""
      ],
      "metadata": {
        "id": "DrPL8V79MrRr"
      },
      "execution_count": null,
      "outputs": []
    },
    {
      "cell_type": "markdown",
      "source": [
        "## 여러가지 성능 평가 지표\n",
        "---\n"
      ],
      "metadata": {
        "id": "cH8EMf98wWf9"
      }
    },
    {
      "cell_type": "markdown",
      "source": [
        "### | 오차행렬 (confusion matrix)\n",
        "\n",
        "<p align='center'>\n",
        "<img src=https://git.io/JtsT1?=true width=400>\n",
        "</p>"
      ],
      "metadata": {
        "id": "oc2vVBLTwls_"
      }
    },
    {
      "cell_type": "markdown",
      "source": [
        "* 함수구현"
      ],
      "metadata": {
        "id": "-I69M31SRvyw"
      }
    },
    {
      "cell_type": "code",
      "source": [
        ""
      ],
      "metadata": {
        "id": "geRbJPUkwoMw"
      },
      "execution_count": null,
      "outputs": []
    },
    {
      "cell_type": "markdown",
      "source": [
        "* 시각화"
      ],
      "metadata": {
        "id": "EDQ39LbhRwul"
      }
    },
    {
      "cell_type": "code",
      "source": [
        ""
      ],
      "metadata": {
        "id": "JrT0QdXHw8xN"
      },
      "execution_count": null,
      "outputs": []
    },
    {
      "cell_type": "markdown",
      "source": [
        "#### **예측 오차와 예측 정확도**\n",
        "\n",
        "* 예측 오차\n",
        "\\begin{split}\n",
        "ERR = \\frac{잘못된 예측 개수}{전체 샘플 개수}\n",
        "\\end{split}\n",
        "\n",
        "* 예측 정확도\n",
        "\n",
        "\\begin{split}\n",
        "ACC = \\frac{잘된 예측 개수}{전체 샘플 개수} = 1-ERR\n",
        "\\end{split}"
      ],
      "metadata": {
        "id": "qJODnUJswXCJ"
      }
    },
    {
      "cell_type": "code",
      "source": [
        ""
      ],
      "metadata": {
        "id": "0yAMmB4v0Wnh"
      },
      "execution_count": null,
      "outputs": []
    },
    {
      "cell_type": "markdown",
      "source": [
        "### **| 분류 모델의 성능 최적화**"
      ],
      "metadata": {
        "id": "P2L6OOYyWnLU"
      }
    },
    {
      "cell_type": "markdown",
      "source": [
        "\n",
        "#### **TPR (True Positive Rate), FPR (False Positive Rate)**\n",
        "\n",
        "* TPR\n",
        "\n",
        "\\begin{split}\n",
        "TPR = \\frac{TP}{P} = \\frac{TP}{FN+TP} = \\frac{모델이 True로 예측한 샘플}{실제 True인 샘플}\n",
        "\\end{split}\n",
        "\n",
        "* FPR\n",
        "\n",
        "\\begin{split}\n",
        "FPR = \\frac{FP}{N} = \\frac{FP}{FP+TN} = \\frac{모델이 True로 예측한 샘플}{실제 False인 샘플}\n",
        "\\end{split}\n",
        "\n",
        "\\begin{split}\n",
        "\\end{split}\n",
        "\n",
        "    - TPR과 FPR은 클래스 비율이 다른 경우 유용한 성능 지표\n",
        "    - 종양진단 문제에서 환자가 적절한 치료를 받을 수 있도록 악성 종양을 감지하는데 관심이 있다.(악성을 악성으로 구분, TN)\n",
        "    - 불필요하게 환자에게 걱정을 끼치지 않도록 양성 샘플을 악성 샘플로 분류되는 경우(FP)를 줄이는것이 중요\n"
      ],
      "metadata": {
        "id": "IgmEh4pyyxm8"
      }
    },
    {
      "cell_type": "code",
      "source": [
        ""
      ],
      "metadata": {
        "id": "csb093Elyxm8"
      },
      "execution_count": null,
      "outputs": []
    },
    {
      "cell_type": "markdown",
      "source": [
        "#### **정밀도 (Precisison)와 재현율(Recall)**\n",
        "\n",
        "* 정밀도\n",
        "\n",
        "\\begin{split}\n",
        "PRE =  \\frac{TP}{TP+FP} = \\frac{실제로  True인 샘플}{모델이 True로 예측한 샘플}\n",
        "\\end{split}\n",
        "\n",
        "* 재현율\n",
        "\n",
        "\\begin{split}\n",
        "REC = TPR = \\frac{모델이 True로 예측한 샘플}{실제 False인 샘플}\n",
        "\\end{split}\n",
        "\n",
        "\\begin{split}\n",
        "\\end{split}\n",
        "\n",
        "\n",
        "    - 정밀도로 모델을 최적화 하면 생기는 일\n",
        "      * 모델이 정상군을 정상이라고 판단하도록 한다.\n",
        "      * 정상군을 감지하는데 효과적\n",
        "      * 악성 종양을 정상으로 잘못 판단 할 수 있다. \n",
        "\n",
        "    - 재현율로 모델을 최적화 하면 생기는 일\n",
        "      * 모델이 악성 종양을 정상이라고 판단하는 경우를 최소화 하게 된다. \n",
        "      * 악성 종양을 감지하는데 효과적\n",
        "      * 정상군도 악성 종양으로 잘못 판단 할 수 있다. \n",
        "\n"
      ],
      "metadata": {
        "id": "cGmcAlJm1GCM"
      }
    },
    {
      "cell_type": "code",
      "source": [
        ""
      ],
      "metadata": {
        "id": "Cyv4SlbGPizB"
      },
      "execution_count": null,
      "outputs": []
    },
    {
      "cell_type": "markdown",
      "source": [
        "#### **F1-score**\n",
        "\n",
        "\\begin{split}\n",
        "F1 = 2\\frac{PRE \\times REC}{PRE+REC}\n",
        "\\end{split}\n"
      ],
      "metadata": {
        "id": "XShhbRwo3zpF"
      }
    },
    {
      "cell_type": "code",
      "source": [
        ""
      ],
      "metadata": {
        "id": "Be58lAgY4sHc"
      },
      "execution_count": null,
      "outputs": []
    },
    {
      "cell_type": "markdown",
      "source": [
        "#### **AUC**"
      ],
      "metadata": {
        "id": "drwN42K_AsI7"
      }
    },
    {
      "cell_type": "code",
      "source": [
        ""
      ],
      "metadata": {
        "id": "0UXuXDx4AsI7"
      },
      "execution_count": null,
      "outputs": []
    },
    {
      "cell_type": "markdown",
      "source": [
        "### **| 성능 평가 기준 바꿔서 검증하기**"
      ],
      "metadata": {
        "id": "soPAPsaHXCPV"
      }
    },
    {
      "cell_type": "markdown",
      "source": [
        "* pipe_pcasvc 그리드 서치 진행하기, 성능은 AUC"
      ],
      "metadata": {
        "id": "gNij21ieXBmc"
      }
    },
    {
      "cell_type": "code",
      "source": [
        ""
      ],
      "metadata": {
        "id": "0oWR9XTzXBmc"
      },
      "execution_count": null,
      "outputs": []
    },
    {
      "cell_type": "markdown",
      "source": [
        "### | ROC (Receiver Operating Characteristic)\n",
        "\n",
        "    - 분류기의 임계값을 바꾸어 가며 계산된 fPR과 TPR 점수를 시각화한 플롯\n",
        "\n",
        "    - ROC그래프의 대각선은 랜덤 추측인 경우이며 완벽한 분류기라면 왼쪽 위를 향하는 그래프가 그려진다.\n",
        "\n",
        "    - ROC곡선의 아래 면적을 ROC AUC (ROC Area Under the Curve) 라 하며 성능 지표로 사용된다.\n",
        "\n"
      ],
      "metadata": {
        "id": "w4RWpL3kAMqt"
      }
    },
    {
      "cell_type": "code",
      "source": [
        ""
      ],
      "metadata": {
        "id": "dqGFjAqd8_gg"
      },
      "execution_count": null,
      "outputs": []
    },
    {
      "cell_type": "markdown",
      "source": [
        "### **| 다중 분류의 성능 지표**\n",
        "\n",
        "\n",
        "\\begin{split}\n",
        "\\end{split}\n",
        "\n",
        "* 마크로 평균 \n",
        "\n",
        "\\begin{split}\n",
        "PRE_{macro} = \\frac{PRE_1 + ... PRE_k}{k}\n",
        "\\end{split}\n",
        "\n",
        "\n",
        "* 마이크로 평균 \n",
        "\n",
        "\\begin{split}\n",
        "PRE_{micro} = \\frac{TP_1 + ... TP_k}{TP_1 + ...+ TP_k + FP_1 +  ... + FP_k}\n",
        "\\end{split}\n",
        "\n",
        "\\begin{split}\n",
        "\\end{split}\n",
        "\n",
        "\n",
        "    - 마크로 평균 방식에서는 가장 빈도 높은 클래스 레이블의 성능이 영향을 미치게 된다.\n",
        "\n",
        "    - 마이크로 평균은 각 샘플이나 예측에 동일한 가중치를 부여\n",
        "\n",
        "    - 사이킷런에서 다중 분류 모델을 평가하면 정규화 또는 가중치가 적용된 마크로 평균이 기본적으로 적용된다.\n",
        "\n",
        "    - 마크로 평균은 샘플 개수에 가중치가 부여되므로 레이블마다 샘플 개수가 다른 불균형한 클래스를 다룰 때 유용\n"
      ],
      "metadata": {
        "id": "nFurBOdnC3Am"
      }
    },
    {
      "cell_type": "code",
      "source": [
        ""
      ],
      "metadata": {
        "id": "vUs-aXDrE0JU"
      },
      "execution_count": null,
      "outputs": []
    }
  ]
}