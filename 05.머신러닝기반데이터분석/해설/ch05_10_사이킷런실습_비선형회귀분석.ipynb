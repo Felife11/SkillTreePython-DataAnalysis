{
  "nbformat": 4,
  "nbformat_minor": 0,
  "metadata": {
    "colab": {
      "name": "ch05_10_사이킷런실습-비선형회귀분석.ipynb",
      "provenance": [],
      "collapsed_sections": [],
      "mount_file_id": "1pg9tXcbXoH2adOPU2pdbP6d9bVYrc-AP",
      "authorship_tag": "ABX9TyNc9QsuJsdAqBfCdkDCoLV5",
      "include_colab_link": true
    },
    "kernelspec": {
      "name": "python3",
      "display_name": "Python 3"
    },
    "language_info": {
      "name": "python"
    }
  },
  "cells": [
    {
      "cell_type": "markdown",
      "metadata": {
        "id": "view-in-github",
        "colab_type": "text"
      },
      "source": [
        "<a href=\"https://colab.research.google.com/github/yebiny/SkillTreePython-DataAnalysis/blob/main/05.%EB%A8%B8%EC%8B%A0%EB%9F%AC%EB%8B%9D%EA%B8%B0%EB%B0%98%EB%8D%B0%EC%9D%B4%ED%84%B0%EB%B6%84%EC%84%9D/%ED%95%B4%EC%84%A4/ch05_10_%EC%82%AC%EC%9D%B4%ED%82%B7%EB%9F%B0%EC%8B%A4%EC%8A%B5_%EB%B9%84%EC%84%A0%ED%98%95%ED%9A%8C%EA%B7%80%EB%B6%84%EC%84%9D.ipynb\" target=\"_parent\"><img src=\"https://colab.research.google.com/assets/colab-badge.svg\" alt=\"Open In Colab\"/></a>"
      ]
    },
    {
      "cell_type": "markdown",
      "metadata": {
        "id": "wWpXZc2fi39U"
      },
      "source": [
        "# ch05.10. 사이킷런 실습 - 비선형회귀분석\n",
        "\n",
        "---\n",
        "* 날짜:\n",
        "* 이름:\n",
        "\n",
        "## 학습내용\n",
        "    - 다항식을 이용한 회귀 분석을 진행한다.\n",
        "    - 랜덤 포레스트를 이용해 비선형 회귀를 진행한다.\n",
        "    - 앙상블 학습에 대해 이해한다."
      ]
    },
    {
      "cell_type": "markdown",
      "metadata": {
        "id": "kByKdJPApy6P"
      },
      "source": [
        "```\n",
        "import numpy as np\n",
        "import pandas as pd\n",
        "import seaborn as sns\n",
        "import matplotlib.pyplot as plt\n",
        "```"
      ]
    },
    {
      "cell_type": "code",
      "source": [
        "import numpy as np\n",
        "import pandas as pd\n",
        "import seaborn as sns\n",
        "import matplotlib.pyplot as plt"
      ],
      "metadata": {
        "id": "YW4q7CsxPlQh"
      },
      "execution_count": 2,
      "outputs": []
    },
    {
      "cell_type": "code",
      "source": [
        "import sys\n",
        "sys.path.append('/content/drive/MyDrive/scripts')\n",
        "from score_dict import *"
      ],
      "metadata": {
        "id": "YIUkCYsGEVIh"
      },
      "execution_count": 1,
      "outputs": []
    },
    {
      "cell_type": "markdown",
      "source": [
        "## **선형 회귀 모델을 다항 회귀로 변환**\n",
        "---"
      ],
      "metadata": {
        "id": "GYfR9QxDOEIy"
      }
    },
    {
      "cell_type": "markdown",
      "source": [
        "### **| 간단한 데이터에 대한 다항 회귀**"
      ],
      "metadata": {
        "id": "_dvcAIL3C3vE"
      }
    },
    {
      "cell_type": "markdown",
      "source": [
        "#### **데이터**\n",
        "```\n",
        "X = np.array([258.0, 270.0, 294.0, \n",
        "              320.0, 342.0, 368.0, \n",
        "              396.0, 446.0, 480.0, 586.0]).reshape(-1, 1)\n",
        "\n",
        "y = np.array([236.4, 234.4, 252.8, \n",
        "              298.6, 314.2, 342.2, \n",
        "              360.8, 368.0, 391.2,\n",
        "              390.8])\n",
        "```"
      ],
      "metadata": {
        "id": "OhR4fxMkCt-3"
      }
    },
    {
      "cell_type": "markdown",
      "source": [
        "* 데이터 생성"
      ],
      "metadata": {
        "id": "GMZTe-AcDRFw"
      }
    },
    {
      "cell_type": "code",
      "source": [
        "X = np.array([258.0, 270.0, 294.0, \n",
        "              320.0, 342.0, 368.0, \n",
        "              396.0, 446.0, 480.0, 586.0]).reshape(-1, 1)\n",
        "\n",
        "y = np.array([236.4, 234.4, 252.8, \n",
        "              298.6, 314.2, 342.2, \n",
        "              360.8, 368.0, 391.2,\n",
        "              390.8])\n",
        "X.shape, y.shape"
      ],
      "metadata": {
        "colab": {
          "base_uri": "https://localhost:8080/"
        },
        "id": "3Ycs4pI60zPo",
        "outputId": "b44d0d51-af29-48af-e6e2-6a1dbf89ef25"
      },
      "execution_count": null,
      "outputs": [
        {
          "output_type": "execute_result",
          "data": {
            "text/plain": [
              "((10, 1), (10,))"
            ]
          },
          "metadata": {},
          "execution_count": 3
        }
      ]
    },
    {
      "cell_type": "markdown",
      "source": [
        "* 시각화"
      ],
      "metadata": {
        "id": "kJKrGZF0C1du"
      }
    },
    {
      "cell_type": "code",
      "source": [
        "plt.scatter(X, y)"
      ],
      "metadata": {
        "colab": {
          "base_uri": "https://localhost:8080/",
          "height": 283
        },
        "id": "TaZLcFNu3gRm",
        "outputId": "44a33137-5ca2-42b8-f22c-e7f98a865127"
      },
      "execution_count": null,
      "outputs": [
        {
          "output_type": "execute_result",
          "data": {
            "text/plain": [
              "<matplotlib.collections.PathCollection at 0x7fc19845cb50>"
            ]
          },
          "metadata": {},
          "execution_count": 4
        },
        {
          "output_type": "display_data",
          "data": {
            "text/plain": [
              "<Figure size 432x288 with 1 Axes>"
            ],
            "image/png": "[encoded data removed]"
          },
          "metadata": {
            "needs_background": "light"
          }
        }
      ]
    },
    {
      "cell_type": "markdown",
      "source": [
        "#### **선형 특성 학습**"
      ],
      "metadata": {
        "id": "sjMo6aNaDCIU"
      }
    },
    {
      "cell_type": "code",
      "source": [
        "from sklearn.linear_model import *\n",
        "lr1 = LinearRegression()\n",
        "lr1.fit(X, y)"
      ],
      "metadata": {
        "colab": {
          "base_uri": "https://localhost:8080/"
        },
        "id": "QK57ELPT0-9M",
        "outputId": "91248409-cb8c-4c93-faa9-3d4f2ce52dfb"
      },
      "execution_count": null,
      "outputs": [
        {
          "output_type": "execute_result",
          "data": {
            "text/plain": [
              "LinearRegression()"
            ]
          },
          "metadata": {},
          "execution_count": 5
        }
      ]
    },
    {
      "cell_type": "markdown",
      "source": [
        "#### **이차항 특성 학습**\n"
      ],
      "metadata": {
        "id": "rvuZSvRvzmhT"
      }
    },
    {
      "cell_type": "code",
      "source": [
        "from sklearn.preprocessing import PolynomialFeatures\n",
        "quad = PolynomialFeatures(degree=2)\n",
        "X_quad = quad.fit_transform(X)\n",
        "X.shape, X_quad.shape"
      ],
      "metadata": {
        "colab": {
          "base_uri": "https://localhost:8080/"
        },
        "id": "zaVfSiPW1DyA",
        "outputId": "d4cdbb48-0061-4fdb-db9b-b2a11bc25f01"
      },
      "execution_count": null,
      "outputs": [
        {
          "output_type": "execute_result",
          "data": {
            "text/plain": [
              "((10, 1), (10, 3))"
            ]
          },
          "metadata": {},
          "execution_count": 6
        }
      ]
    },
    {
      "cell_type": "markdown",
      "source": [
        "* X 데이터 변환"
      ],
      "metadata": {
        "id": "Tlyc4sYWH3Zg"
      }
    },
    {
      "cell_type": "code",
      "source": [
        "quad.get_feature_names()\n",
        "pd.DataFrame(X_quad, columns=quad.get_feature_names())"
      ],
      "metadata": {
        "colab": {
          "base_uri": "https://localhost:8080/",
          "height": 420
        },
        "id": "7TE8lUHfz86X",
        "outputId": "ba347cb6-c377-4c63-afd6-d859d11f7b03"
      },
      "execution_count": null,
      "outputs": [
        {
          "output_type": "stream",
          "name": "stderr",
          "text": [
            "/usr/local/lib/python3.7/dist-packages/sklearn/utils/deprecation.py:87: FutureWarning: Function get_feature_names is deprecated; get_feature_names is deprecated in 1.0 and will be removed in 1.2. Please use get_feature_names_out instead.\n",
            "  warnings.warn(msg, category=FutureWarning)\n"
          ]
        },
        {
          "output_type": "execute_result",
          "data": {
            "text/plain": [
              "     1     x0      x0^2\n",
              "0  1.0  258.0   66564.0\n",
              "1  1.0  270.0   72900.0\n",
              "2  1.0  294.0   86436.0\n",
              "3  1.0  320.0  102400.0\n",
              "4  1.0  342.0  116964.0\n",
              "5  1.0  368.0  135424.0\n",
              "6  1.0  396.0  156816.0\n",
              "7  1.0  446.0  198916.0\n",
              "8  1.0  480.0  230400.0\n",
              "9  1.0  586.0  343396.0"
            ],
            "text/html": [
              "\n",
              "  <div id=\"df-a1754f4f-5445-428f-8089-7b45a14b160d\">\n",
              "    <div class=\"colab-df-container\">\n",
              "      <div>\n",
              "<style scoped>\n",
              "    .dataframe tbody tr th:only-of-type {\n",
              "        vertical-align: middle;\n",
              "    }\n",
              "\n",
              "    .dataframe tbody tr th {\n",
              "        vertical-align: top;\n",
              "    }\n",
              "\n",
              "    .dataframe thead th {\n",
              "        text-align: right;\n",
              "    }\n",
              "</style>\n",
              "<table border=\"1\" class=\"dataframe\">\n",
              "  <thead>\n",
              "    <tr style=\"text-align: right;\">\n",
              "      <th></th>\n",
              "      <th>1</th>\n",
              "      <th>x0</th>\n",
              "      <th>x0^2</th>\n",
              "    </tr>\n",
              "  </thead>\n",
              "  <tbody>\n",
              "    <tr>\n",
              "      <th>0</th>\n",
              "      <td>1.0</td>\n",
              "      <td>258.0</td>\n",
              "      <td>66564.0</td>\n",
              "    </tr>\n",
              "    <tr>\n",
              "      <th>1</th>\n",
              "      <td>1.0</td>\n",
              "      <td>270.0</td>\n",
              "      <td>72900.0</td>\n",
              "    </tr>\n",
              "    <tr>\n",
              "      <th>2</th>\n",
              "      <td>1.0</td>\n",
              "      <td>294.0</td>\n",
              "      <td>86436.0</td>\n",
              "    </tr>\n",
              "    <tr>\n",
              "      <th>3</th>\n",
              "      <td>1.0</td>\n",
              "      <td>320.0</td>\n",
              "      <td>102400.0</td>\n",
              "    </tr>\n",
              "    <tr>\n",
              "      <th>4</th>\n",
              "      <td>1.0</td>\n",
              "      <td>342.0</td>\n",
              "      <td>116964.0</td>\n",
              "    </tr>\n",
              "    <tr>\n",
              "      <th>5</th>\n",
              "      <td>1.0</td>\n",
              "      <td>368.0</td>\n",
              "      <td>135424.0</td>\n",
              "    </tr>\n",
              "    <tr>\n",
              "      <th>6</th>\n",
              "      <td>1.0</td>\n",
              "      <td>396.0</td>\n",
              "      <td>156816.0</td>\n",
              "    </tr>\n",
              "    <tr>\n",
              "      <th>7</th>\n",
              "      <td>1.0</td>\n",
              "      <td>446.0</td>\n",
              "      <td>198916.0</td>\n",
              "    </tr>\n",
              "    <tr>\n",
              "      <th>8</th>\n",
              "      <td>1.0</td>\n",
              "      <td>480.0</td>\n",
              "      <td>230400.0</td>\n",
              "    </tr>\n",
              "    <tr>\n",
              "      <th>9</th>\n",
              "      <td>1.0</td>\n",
              "      <td>586.0</td>\n",
              "      <td>343396.0</td>\n",
              "    </tr>\n",
              "  </tbody>\n",
              "</table>\n",
              "</div>\n",
              "      <button class=\"colab-df-convert\" onclick=\"convertToInteractive('df-a1754f4f-5445-428f-8089-7b45a14b160d')\"\n",
              "              title=\"Convert this dataframe to an interactive table.\"\n",
              "              style=\"display:none;\">\n",
              "        \n",
              "  <svg xmlns=\"http://www.w3.org/2000/svg\" height=\"24px\"viewBox=\"0 0 24 24\"\n",
              "       width=\"24px\">\n",
              "    <path d=\"M0 0h24v24H0V0z\" fill=\"none\"/>\n",
              "    <path d=\"M18.56 5.44l.94 2.06.94-2.06 2.06-.94-2.06-.94-.94-2.06-.94 2.06-2.06.94zm-11 1L8.5 8.5l.94-2.06 2.06-.94-2.06-.94L8.5 2.5l-.94 2.06-2.06.94zm10 10l.94 2.06.94-2.06 2.06-.94-2.06-.94-.94-2.06-.94 2.06-2.06.94z\"/><path d=\"M17.41 7.96l-1.37-1.37c-.4-.4-.92-.59-1.43-.59-.52 0-1.04.2-1.43.59L10.3 9.45l-7.72 7.72c-.78.78-.78 2.05 0 2.83L4 21.41c.39.39.9.59 1.41.59.51 0 1.02-.2 1.41-.59l7.78-7.78 2.81-2.81c.8-.78.8-2.07 0-2.86zM5.41 20L4 18.59l7.72-7.72 1.47 1.35L5.41 20z\"/>\n",
              "  </svg>\n",
              "      </button>\n",
              "      \n",
              "  <style>\n",
              "    .colab-df-container {\n",
              "      display:flex;\n",
              "      flex-wrap:wrap;\n",
              "      gap: 12px;\n",
              "    }\n",
              "\n",
              "    .colab-df-convert {\n",
              "      background-color: #E8F0FE;\n",
              "      border: none;\n",
              "      border-radius: 50%;\n",
              "      cursor: pointer;\n",
              "      display: none;\n",
              "      fill: #1967D2;\n",
              "      height: 32px;\n",
              "      padding: 0 0 0 0;\n",
              "      width: 32px;\n",
              "    }\n",
              "\n",
              "    .colab-df-convert:hover {\n",
              "      background-color: #E2EBFA;\n",
              "      box-shadow: 0px 1px 2px rgba(60, 64, 67, 0.3), 0px 1px 3px 1px rgba(60, 64, 67, 0.15);\n",
              "      fill: #174EA6;\n",
              "    }\n",
              "\n",
              "    [theme=dark] .colab-df-convert {\n",
              "      background-color: #3B4455;\n",
              "      fill: #D2E3FC;\n",
              "    }\n",
              "\n",
              "    [theme=dark] .colab-df-convert:hover {\n",
              "      background-color: #434B5C;\n",
              "      box-shadow: 0px 1px 3px 1px rgba(0, 0, 0, 0.15);\n",
              "      filter: drop-shadow(0px 1px 2px rgba(0, 0, 0, 0.3));\n",
              "      fill: #FFFFFF;\n",
              "    }\n",
              "  </style>\n",
              "\n",
              "      <script>\n",
              "        const buttonEl =\n",
              "          document.querySelector('#df-a1754f4f-5445-428f-8089-7b45a14b160d button.colab-df-convert');\n",
              "        buttonEl.style.display =\n",
              "          google.colab.kernel.accessAllowed ? 'block' : 'none';\n",
              "\n",
              "        async function convertToInteractive(key) {\n",
              "          const element = document.querySelector('#df-a1754f4f-5445-428f-8089-7b45a14b160d');\n",
              "          const dataTable =\n",
              "            await google.colab.kernel.invokeFunction('convertToInteractive',\n",
              "                                                     [key], {});\n",
              "          if (!dataTable) return;\n",
              "\n",
              "          const docLinkHtml = 'Like what you see? Visit the ' +\n",
              "            '<a target=\"_blank\" href=https://colab.research.google.com/notebooks/data_table.ipynb>data table notebook</a>'\n",
              "            + ' to learn more about interactive tables.';\n",
              "          element.innerHTML = '';\n",
              "          dataTable['output_type'] = 'display_data';\n",
              "          await google.colab.output.renderOutput(dataTable, element);\n",
              "          const docLink = document.createElement('div');\n",
              "          docLink.innerHTML = docLinkHtml;\n",
              "          element.appendChild(docLink);\n",
              "        }\n",
              "      </script>\n",
              "    </div>\n",
              "  </div>\n",
              "  "
            ]
          },
          "metadata": {},
          "execution_count": 7
        }
      ]
    },
    {
      "cell_type": "markdown",
      "source": [
        "* 학습"
      ],
      "metadata": {
        "id": "DR79eUEsH8gM"
      }
    },
    {
      "cell_type": "code",
      "source": [
        "lr2 = LinearRegression()\n",
        "lr2.fit(X_quad, y)"
      ],
      "metadata": {
        "id": "831zjGBc6kGX",
        "colab": {
          "base_uri": "https://localhost:8080/"
        },
        "outputId": "933e1881-677a-471b-c378-6b7794d3b26b"
      },
      "execution_count": null,
      "outputs": [
        {
          "output_type": "execute_result",
          "data": {
            "text/plain": [
              "LinearRegression()"
            ]
          },
          "metadata": {},
          "execution_count": 8
        }
      ]
    },
    {
      "cell_type": "markdown",
      "source": [
        "#### **테스트셋 성능 비교**"
      ],
      "metadata": {
        "id": "tyHcbw-9HzF8"
      }
    },
    {
      "cell_type": "code",
      "source": [
        "y_pred1 = lr1.predict(X)\n",
        "y_pred2 = lr2.predict(X_quad)\n",
        "\n",
        "l1_scores = regression_scores(y, y_pred1)\n",
        "l2_scores = regression_scores(y, y_pred2)\n",
        "pd.DataFrame([l1_scores,l2_scores], index=['linear', 'quadratic'])"
      ],
      "metadata": {
        "colab": {
          "base_uri": "https://localhost:8080/",
          "height": 112
        },
        "id": "pKQsac_KAQz0",
        "outputId": "b7316875-f1f3-4b21-d16d-8a33e0fd058a"
      },
      "execution_count": null,
      "outputs": [
        {
          "output_type": "execute_result",
          "data": {
            "text/plain": [
              "              mse    rmse     mae   nmae   mape     r2\n",
              "linear     569.78  23.870  21.898  0.069  7.035  0.832\n",
              "quadratic   61.33   7.831   6.379  0.020  2.213  0.982"
            ],
            "text/html": [
              "\n",
              "  <div id=\"df-f52b3c91-9725-4f8f-bb10-da9e56a6a4f0\">\n",
              "    <div class=\"colab-df-container\">\n",
              "      <div>\n",
              "<style scoped>\n",
              "    .dataframe tbody tr th:only-of-type {\n",
              "        vertical-align: middle;\n",
              "    }\n",
              "\n",
              "    .dataframe tbody tr th {\n",
              "        vertical-align: top;\n",
              "    }\n",
              "\n",
              "    .dataframe thead th {\n",
              "        text-align: right;\n",
              "    }\n",
              "</style>\n",
              "<table border=\"1\" class=\"dataframe\">\n",
              "  <thead>\n",
              "    <tr style=\"text-align: right;\">\n",
              "      <th></th>\n",
              "      <th>mse</th>\n",
              "      <th>rmse</th>\n",
              "      <th>mae</th>\n",
              "      <th>nmae</th>\n",
              "      <th>mape</th>\n",
              "      <th>r2</th>\n",
              "    </tr>\n",
              "  </thead>\n",
              "  <tbody>\n",
              "    <tr>\n",
              "      <th>linear</th>\n",
              "      <td>569.78</td>\n",
              "      <td>23.870</td>\n",
              "      <td>21.898</td>\n",
              "      <td>0.069</td>\n",
              "      <td>7.035</td>\n",
              "      <td>0.832</td>\n",
              "    </tr>\n",
              "    <tr>\n",
              "      <th>quadratic</th>\n",
              "      <td>61.33</td>\n",
              "      <td>7.831</td>\n",
              "      <td>6.379</td>\n",
              "      <td>0.020</td>\n",
              "      <td>2.213</td>\n",
              "      <td>0.982</td>\n",
              "    </tr>\n",
              "  </tbody>\n",
              "</table>\n",
              "</div>\n",
              "      <button class=\"colab-df-convert\" onclick=\"convertToInteractive('df-f52b3c91-9725-4f8f-bb10-da9e56a6a4f0')\"\n",
              "              title=\"Convert this dataframe to an interactive table.\"\n",
              "              style=\"display:none;\">\n",
              "        \n",
              "  <svg xmlns=\"http://www.w3.org/2000/svg\" height=\"24px\"viewBox=\"0 0 24 24\"\n",
              "       width=\"24px\">\n",
              "    <path d=\"M0 0h24v24H0V0z\" fill=\"none\"/>\n",
              "    <path d=\"M18.56 5.44l.94 2.06.94-2.06 2.06-.94-2.06-.94-.94-2.06-.94 2.06-2.06.94zm-11 1L8.5 8.5l.94-2.06 2.06-.94-2.06-.94L8.5 2.5l-.94 2.06-2.06.94zm10 10l.94 2.06.94-2.06 2.06-.94-2.06-.94-.94-2.06-.94 2.06-2.06.94z\"/><path d=\"M17.41 7.96l-1.37-1.37c-.4-.4-.92-.59-1.43-.59-.52 0-1.04.2-1.43.59L10.3 9.45l-7.72 7.72c-.78.78-.78 2.05 0 2.83L4 21.41c.39.39.9.59 1.41.59.51 0 1.02-.2 1.41-.59l7.78-7.78 2.81-2.81c.8-.78.8-2.07 0-2.86zM5.41 20L4 18.59l7.72-7.72 1.47 1.35L5.41 20z\"/>\n",
              "  </svg>\n",
              "      </button>\n",
              "      \n",
              "  <style>\n",
              "    .colab-df-container {\n",
              "      display:flex;\n",
              "      flex-wrap:wrap;\n",
              "      gap: 12px;\n",
              "    }\n",
              "\n",
              "    .colab-df-convert {\n",
              "      background-color: #E8F0FE;\n",
              "      border: none;\n",
              "      border-radius: 50%;\n",
              "      cursor: pointer;\n",
              "      display: none;\n",
              "      fill: #1967D2;\n",
              "      height: 32px;\n",
              "      padding: 0 0 0 0;\n",
              "      width: 32px;\n",
              "    }\n",
              "\n",
              "    .colab-df-convert:hover {\n",
              "      background-color: #E2EBFA;\n",
              "      box-shadow: 0px 1px 2px rgba(60, 64, 67, 0.3), 0px 1px 3px 1px rgba(60, 64, 67, 0.15);\n",
              "      fill: #174EA6;\n",
              "    }\n",
              "\n",
              "    [theme=dark] .colab-df-convert {\n",
              "      background-color: #3B4455;\n",
              "      fill: #D2E3FC;\n",
              "    }\n",
              "\n",
              "    [theme=dark] .colab-df-convert:hover {\n",
              "      background-color: #434B5C;\n",
              "      box-shadow: 0px 1px 3px 1px rgba(0, 0, 0, 0.15);\n",
              "      filter: drop-shadow(0px 1px 2px rgba(0, 0, 0, 0.3));\n",
              "      fill: #FFFFFF;\n",
              "    }\n",
              "  </style>\n",
              "\n",
              "      <script>\n",
              "        const buttonEl =\n",
              "          document.querySelector('#df-f52b3c91-9725-4f8f-bb10-da9e56a6a4f0 button.colab-df-convert');\n",
              "        buttonEl.style.display =\n",
              "          google.colab.kernel.accessAllowed ? 'block' : 'none';\n",
              "\n",
              "        async function convertToInteractive(key) {\n",
              "          const element = document.querySelector('#df-f52b3c91-9725-4f8f-bb10-da9e56a6a4f0');\n",
              "          const dataTable =\n",
              "            await google.colab.kernel.invokeFunction('convertToInteractive',\n",
              "                                                     [key], {});\n",
              "          if (!dataTable) return;\n",
              "\n",
              "          const docLinkHtml = 'Like what you see? Visit the ' +\n",
              "            '<a target=\"_blank\" href=https://colab.research.google.com/notebooks/data_table.ipynb>data table notebook</a>'\n",
              "            + ' to learn more about interactive tables.';\n",
              "          element.innerHTML = '';\n",
              "          dataTable['output_type'] = 'display_data';\n",
              "          await google.colab.output.renderOutput(dataTable, element);\n",
              "          const docLink = document.createElement('div');\n",
              "          docLink.innerHTML = docLinkHtml;\n",
              "          element.appendChild(docLink);\n",
              "        }\n",
              "      </script>\n",
              "    </div>\n",
              "  </div>\n",
              "  "
            ]
          },
          "metadata": {},
          "execution_count": 9
        }
      ]
    },
    {
      "cell_type": "markdown",
      "source": [
        "#### **그래프 시각화**"
      ],
      "metadata": {
        "id": "4Ef6kxh6H1hs"
      }
    },
    {
      "cell_type": "code",
      "source": [
        "X_every = np.arange(250, 600, 0.1).reshape(-1,1)\n",
        "\n",
        "plt.scatter(X, y, label='trainset', c='k')\n",
        "plt.plot(X_every, lr1.predict(X_every), label='linear')\n",
        "plt.plot(X_every, lr2.predict(quad.fit_transform(X_every)), label='quadratic')\n",
        "plt.legend()\n",
        "plt.show()"
      ],
      "metadata": {
        "colab": {
          "base_uri": "https://localhost:8080/",
          "height": 268
        },
        "id": "p4WIs-nQ1VKG",
        "outputId": "2ba14436-b3a9-4bdb-97a4-b13cfaec63c8"
      },
      "execution_count": null,
      "outputs": [
        {
          "output_type": "display_data",
          "data": {
            "text/plain": [
              "<Figure size 432x288 with 1 Axes>"
            ],
            "image/png": "[encoded data removed]"
          },
          "metadata": {
            "needs_background": "light"
          }
        }
      ]
    },
    {
      "cell_type": "markdown",
      "source": [
        "### **| 주택 데이터를 이용한 비선형 회귀 분석**\n"
      ],
      "metadata": {
        "id": "B4BejB3gxzqR"
      }
    },
    {
      "cell_type": "markdown",
      "source": [
        "\n",
        "#### **주택 데이터셋**\n",
        "\n",
        "[https://archive.ics.uci.edu/ml/datasets/Housing](https://archive.ics.uci.edu/ml/datasets/Housing)\n",
        "\n",
        "    \n",
        "<pre>\n",
        "01. CRIM     도시의 인당 범죄율\n",
        "02. ZN       2만 5,0000평방 피트가 넘는 주택 비율\n",
        "03. INDUS    도시에서 소매 업종이 아닌 지역 비율\n",
        "04. CHAS     찰스 강 인접 여부(강 주변=1, 그외=0)\n",
        "05. NOX      일산화질소 농도(10ppm당)\n",
        "06. RM       주택의 평균 방 개수\n",
        "07. AGE      1940년 이전에 지어진 자가 주택 비율\n",
        "08. DIS      다섯 개의 보스턴 고용 센터까지 가중치가 적용된 거리\n",
        "09. RAD      방사형으로 뻗은 고속도로까지 접근성 지수\n",
        "10. TAX      10만 달러당 재산세율\n",
        "11. PTRATIO  도시의 학생-교사 비율\n",
        "12. B        1000(Bk - 0.63)^2 도시의 아프리카계 미국인 비율\n",
        "13. LSTAT    저소득층 비율\n",
        "14. MEDV     자가 주택의 중간가격 (단위 $1000s)\n",
        "</pre>\n",
        "\n"
      ],
      "metadata": {
        "id": "SwHpIs02xtKM"
      }
    },
    {
      "cell_type": "markdown",
      "source": [
        "* 데이터 불러오기\n"
      ],
      "metadata": {
        "id": "an_F7hczTA6u"
      }
    },
    {
      "cell_type": "code",
      "source": [
        "from data_loader import *\n",
        "\n",
        "X_train, X_test, y_train, y_test = housing_loader(['LSTAT'])\n",
        "X_train.shape, X_test.shape, y_train.shape, y_test.shape"
      ],
      "metadata": {
        "colab": {
          "base_uri": "https://localhost:8080/"
        },
        "id": "hyZDJJVdJ9--",
        "outputId": "7cff402c-425f-47f2-c1ad-cafa21e12a6e"
      },
      "execution_count": null,
      "outputs": [
        {
          "output_type": "stream",
          "name": "stdout",
          "text": [
            "(506, 14)\n"
          ]
        },
        {
          "output_type": "execute_result",
          "data": {
            "text/plain": [
              "((404, 1), (102, 1), (404,), (102,))"
            ]
          },
          "metadata": {},
          "execution_count": 11
        }
      ]
    },
    {
      "cell_type": "markdown",
      "source": [
        "* 시각화"
      ],
      "metadata": {
        "id": "Edjyi6Ba-t5F"
      }
    },
    {
      "cell_type": "code",
      "source": [
        "def draw_data():\n",
        "  plt.scatter(X_train, y_train, label='Trainset', color='lightgray')\n",
        "  plt.scatter(X_test, y_test, label='Testset', color='lightgreen')\n",
        "  plt.xlabel('% lower status of the population [LSTAT]')\n",
        "  plt.ylabel('Price in $1000s [MEDV]')\n",
        "  plt.legend()\n",
        "draw_data()"
      ],
      "metadata": {
        "colab": {
          "base_uri": "https://localhost:8080/",
          "height": 279
        },
        "id": "VTkitF4MNXWp",
        "outputId": "2c0f908f-a3b8-4ac7-9ae6-5c41a4d53649"
      },
      "execution_count": null,
      "outputs": [
        {
          "output_type": "display_data",
          "data": {
            "text/plain": [
              "<Figure size 432x288 with 1 Axes>"
            ],
            "image/png": "[encoded data removed]"
          },
          "metadata": {
            "needs_background": "light"
          }
        }
      ]
    },
    {
      "cell_type": "markdown",
      "source": [
        "#### **선형 모델 학습**"
      ],
      "metadata": {
        "id": "-lSaVrzH-0fd"
      }
    },
    {
      "cell_type": "code",
      "source": [
        "lr1 = LinearRegression()\n",
        "lr1.fit(X_train, y_train)"
      ],
      "metadata": {
        "colab": {
          "base_uri": "https://localhost:8080/"
        },
        "id": "TgFDjdHP-yBz",
        "outputId": "f2c67964-773e-47b8-a997-92f1e9fd5270"
      },
      "execution_count": null,
      "outputs": [
        {
          "output_type": "execute_result",
          "data": {
            "text/plain": [
              "LinearRegression()"
            ]
          },
          "metadata": {},
          "execution_count": 13
        }
      ]
    },
    {
      "cell_type": "markdown",
      "source": [
        "#### **이차 다항 모델 학습**"
      ],
      "metadata": {
        "id": "1RTFnTJE-29P"
      }
    },
    {
      "cell_type": "code",
      "source": [
        "lr2 = LinearRegression()\n",
        "quad =  PolynomialFeatures(degree=2)\n",
        "X_quad = quad.fit_transform(X_train)\n",
        "lr2.fit(X_quad, y_train)"
      ],
      "metadata": {
        "colab": {
          "base_uri": "https://localhost:8080/"
        },
        "id": "XGz31zmn-yD9",
        "outputId": "26cb8cc0-8355-4d68-8af6-a6dd034304b6"
      },
      "execution_count": null,
      "outputs": [
        {
          "output_type": "execute_result",
          "data": {
            "text/plain": [
              "LinearRegression()"
            ]
          },
          "metadata": {},
          "execution_count": 14
        }
      ]
    },
    {
      "cell_type": "markdown",
      "source": [
        "#### **삼차 다항 모델 학습**"
      ],
      "metadata": {
        "id": "sUOLczvE-9vM"
      }
    },
    {
      "cell_type": "code",
      "source": [
        "lr3 = LinearRegression()\n",
        "cubic = PolynomialFeatures(degree=3)\n",
        "X_cubic = cubic.fit_transform(X_train)\n",
        "lr3.fit(X_cubic, y_train)"
      ],
      "metadata": {
        "colab": {
          "base_uri": "https://localhost:8080/"
        },
        "id": "69sIWqRt-yF8",
        "outputId": "90857727-c9b5-4c32-ebb2-d5e005cb7938"
      },
      "execution_count": null,
      "outputs": [
        {
          "output_type": "execute_result",
          "data": {
            "text/plain": [
              "LinearRegression()"
            ]
          },
          "metadata": {},
          "execution_count": 15
        }
      ]
    },
    {
      "cell_type": "markdown",
      "source": [
        "#### **테스트셋 성능 비교**"
      ],
      "metadata": {
        "id": "V3fvA5AZCci0"
      }
    },
    {
      "cell_type": "code",
      "source": [
        "y_pred1 = lr1.predict(X_test)\n",
        "y_pred2 = lr2.predict(quad.fit_transform(X_test))\n",
        "y_pred3 = lr3.predict(cubic.fit_transform(X_test))\n",
        "\n",
        "l1_scores = regression_scores(y_test, y_pred1)\n",
        "l2_scores = regression_scores(y_test, y_pred2)\n",
        "l3_scores = regression_scores(y_test, y_pred3)\n",
        "\n",
        "df_score = pd.DataFrame([l1_scores,l2_scores,l3_scores], index=['linear', 'quadratic', 'cubic'])\n",
        "df_score.style.background_gradient()"
      ],
      "metadata": {
        "colab": {
          "base_uri": "https://localhost:8080/",
          "height": 143
        },
        "id": "ljOPV5DGRBoR",
        "outputId": "7a0f785a-7554-496a-d2f7-ed0b15621b5b"
      },
      "execution_count": null,
      "outputs": [
        {
          "output_type": "execute_result",
          "data": {
            "text/plain": [
              "<pandas.io.formats.style.Styler at 0x7fc192da9750>"
            ],
            "text/html": [
              "<style type=\"text/css\">\n",
              "#T_50034_row0_col0, #T_50034_row0_col1, #T_50034_row0_col2, #T_50034_row0_col3, #T_50034_row0_col4, #T_50034_row2_col5 {\n",
              "  background-color: #023858;\n",
              "  color: #f1f1f1;\n",
              "}\n",
              "#T_50034_row0_col5, #T_50034_row2_col0, #T_50034_row2_col1, #T_50034_row2_col2, #T_50034_row2_col3, #T_50034_row2_col4 {\n",
              "  background-color: #fff7fb;\n",
              "  color: #000000;\n",
              "}\n",
              "#T_50034_row1_col0 {\n",
              "  background-color: #dedcec;\n",
              "  color: #000000;\n",
              "}\n",
              "#T_50034_row1_col1 {\n",
              "  background-color: #dad9ea;\n",
              "  color: #000000;\n",
              "}\n",
              "#T_50034_row1_col2 {\n",
              "  background-color: #c2cbe2;\n",
              "  color: #000000;\n",
              "}\n",
              "#T_50034_row1_col3 {\n",
              "  background-color: #c1cae2;\n",
              "  color: #000000;\n",
              "}\n",
              "#T_50034_row1_col4, #T_50034_row1_col5 {\n",
              "  background-color: #05659f;\n",
              "  color: #f1f1f1;\n",
              "}\n",
              "</style>\n",
              "<table id=\"T_50034_\" class=\"dataframe\">\n",
              "  <thead>\n",
              "    <tr>\n",
              "      <th class=\"blank level0\" >&nbsp;</th>\n",
              "      <th class=\"col_heading level0 col0\" >mse</th>\n",
              "      <th class=\"col_heading level0 col1\" >rmse</th>\n",
              "      <th class=\"col_heading level0 col2\" >mae</th>\n",
              "      <th class=\"col_heading level0 col3\" >nmae</th>\n",
              "      <th class=\"col_heading level0 col4\" >mape</th>\n",
              "      <th class=\"col_heading level0 col5\" >r2</th>\n",
              "    </tr>\n",
              "  </thead>\n",
              "  <tbody>\n",
              "    <tr>\n",
              "      <th id=\"T_50034_level0_row0\" class=\"row_heading level0 row0\" >linear</th>\n",
              "      <td id=\"T_50034_row0_col0\" class=\"data row0 col0\" >0.463000</td>\n",
              "      <td id=\"T_50034_row0_col1\" class=\"data row0 col1\" >0.680000</td>\n",
              "      <td id=\"T_50034_row0_col2\" class=\"data row0 col2\" >0.501000</td>\n",
              "      <td id=\"T_50034_row0_col3\" class=\"data row0 col3\" >0.721000</td>\n",
              "      <td id=\"T_50034_row0_col4\" class=\"data row0 col4\" >239.529000</td>\n",
              "      <td id=\"T_50034_row0_col5\" class=\"data row0 col5\" >0.537000</td>\n",
              "    </tr>\n",
              "    <tr>\n",
              "      <th id=\"T_50034_level0_row1\" class=\"row_heading level0 row1\" >quadratic</th>\n",
              "      <td id=\"T_50034_row1_col0\" class=\"data row1 col0\" >0.343000</td>\n",
              "      <td id=\"T_50034_row1_col1\" class=\"data row1 col1\" >0.586000</td>\n",
              "      <td id=\"T_50034_row1_col2\" class=\"data row1 col2\" >0.445000</td>\n",
              "      <td id=\"T_50034_row1_col3\" class=\"data row1 col3\" >0.640000</td>\n",
              "      <td id=\"T_50034_row1_col4\" class=\"data row1 col4\" >228.354000</td>\n",
              "      <td id=\"T_50034_row1_col5\" class=\"data row1 col5\" >0.657000</td>\n",
              "    </tr>\n",
              "    <tr>\n",
              "      <th id=\"T_50034_level0_row2\" class=\"row_heading level0 row2\" >cubic</th>\n",
              "      <td id=\"T_50034_row2_col0\" class=\"data row2 col0\" >0.315000</td>\n",
              "      <td id=\"T_50034_row2_col1\" class=\"data row2 col1\" >0.562000</td>\n",
              "      <td id=\"T_50034_row2_col2\" class=\"data row2 col2\" >0.422000</td>\n",
              "      <td id=\"T_50034_row2_col3\" class=\"data row2 col3\" >0.606000</td>\n",
              "      <td id=\"T_50034_row2_col4\" class=\"data row2 col4\" >180.717000</td>\n",
              "      <td id=\"T_50034_row2_col5\" class=\"data row2 col5\" >0.685000</td>\n",
              "    </tr>\n",
              "  </tbody>\n",
              "</table>\n"
            ]
          },
          "metadata": {},
          "execution_count": 16
        }
      ]
    },
    {
      "cell_type": "markdown",
      "source": [
        "#### **그래프 시각화**"
      ],
      "metadata": {
        "id": "aNIjJ9smCf9F"
      }
    },
    {
      "cell_type": "code",
      "source": [
        "draw_data()\n",
        "\n",
        "X_every = np.arange(-2, 3, 0.1).reshape(-1,1)\n",
        "plt.plot(X_every, lr1.predict(X_every), \n",
        "         label='Linear',\n",
        "         linewidth=3, linestyle=':')\n",
        "plt.plot(X_every, lr2.predict(quad.fit_transform(X_every)), \n",
        "         label='Quadratic',\n",
        "         linewidth=3)\n",
        "plt.plot(X_every, lr3.predict(cubic.fit_transform(X_every)), \n",
        "         label='Cubic',\n",
        "         linewidth=3, linestyle='--')\n",
        "plt.show()"
      ],
      "metadata": {
        "colab": {
          "base_uri": "https://localhost:8080/",
          "height": 279
        },
        "id": "irw_FWuHRPra",
        "outputId": "0c300793-7a91-4389-c2c9-9acfb8811eaa"
      },
      "execution_count": null,
      "outputs": [
        {
          "output_type": "display_data",
          "data": {
            "text/plain": [
              "<Figure size 432x288 with 1 Axes>"
            ],
            "image/png": "[encoded data removed]"
          },
          "metadata": {
            "needs_background": "light"
          }
        }
      ]
    },
    {
      "cell_type": "markdown",
      "source": [
        "## **랜덤 포레스트를 사용하여 비선형 관계 다루기**\n",
        "---\n",
        "\n",
        "![](https://img1.daumcdn.net/thumb/R1280x0/?scode=mtistory2&fname=https%3A%2F%2Fblog.kakaocdn.net%2Fdn%2F96F6N%2FbtqwVglgV2S%2FYTCytd7Z2egbnbJM29MJv1%2Fimg.png)\n",
        "\n",
        "*출처:  ratsgo's blog"
      ],
      "metadata": {
        "id": "o_Z_UJB-bM6R"
      }
    },
    {
      "cell_type": "markdown",
      "source": [
        "### **| 결정트리 회귀**"
      ],
      "metadata": {
        "id": "JmqniPTaf0sE"
      }
    },
    {
      "cell_type": "markdown",
      "source": [
        "#### **모델 학습**"
      ],
      "metadata": {
        "id": "U9AXb-Z5EV9C"
      }
    },
    {
      "cell_type": "code",
      "source": [
        "from sklearn.tree import DecisionTreeRegressor\n",
        "\n",
        "tree = DecisionTreeRegressor(max_depth=3, random_state=1)\n",
        "tree.fit(X_train, y_train)\n",
        "y_pred = tree.predict(X_test)"
      ],
      "metadata": {
        "id": "jBKTe-_bgNDi"
      },
      "execution_count": null,
      "outputs": []
    },
    {
      "cell_type": "markdown",
      "source": [
        "#### **테스트셋 성능비교**"
      ],
      "metadata": {
        "id": "p0j-4TSyEY0a"
      }
    },
    {
      "cell_type": "code",
      "source": [
        "df_score.loc['tree']=regression_scores(y_test, y_pred)\n",
        "df_score.style.background_gradient(cmap='Greens_r')"
      ],
      "metadata": {
        "colab": {
          "base_uri": "https://localhost:8080/",
          "height": 175
        },
        "id": "22aKQ3OJ9v8n",
        "outputId": "217a1bf2-c8d5-41e6-e5d3-f2a4e8ccd9f3"
      },
      "execution_count": null,
      "outputs": [
        {
          "output_type": "execute_result",
          "data": {
            "text/plain": [
              "<pandas.io.formats.style.Styler at 0x7fc192a6a650>"
            ],
            "text/html": [
              "<style type=\"text/css\">\n",
              "#T_a6104_row0_col0, #T_a6104_row0_col1, #T_a6104_row0_col2, #T_a6104_row0_col3, #T_a6104_row3_col4, #T_a6104_row3_col5 {\n",
              "  background-color: #f7fcf5;\n",
              "  color: #000000;\n",
              "}\n",
              "#T_a6104_row0_col4 {\n",
              "  background-color: #73c476;\n",
              "  color: #000000;\n",
              "}\n",
              "#T_a6104_row0_col5, #T_a6104_row2_col4, #T_a6104_row3_col0, #T_a6104_row3_col1, #T_a6104_row3_col2, #T_a6104_row3_col3 {\n",
              "  background-color: #00441b;\n",
              "  color: #f1f1f1;\n",
              "}\n",
              "#T_a6104_row1_col0 {\n",
              "  background-color: #1e8741;\n",
              "  color: #f1f1f1;\n",
              "}\n",
              "#T_a6104_row1_col1 {\n",
              "  background-color: #248c46;\n",
              "  color: #f1f1f1;\n",
              "}\n",
              "#T_a6104_row1_col2 {\n",
              "  background-color: #5ab769;\n",
              "  color: #f1f1f1;\n",
              "}\n",
              "#T_a6104_row1_col3 {\n",
              "  background-color: #58b668;\n",
              "  color: #f1f1f1;\n",
              "}\n",
              "#T_a6104_row1_col4 {\n",
              "  background-color: #4db163;\n",
              "  color: #f1f1f1;\n",
              "}\n",
              "#T_a6104_row1_col5 {\n",
              "  background-color: #cbebc5;\n",
              "  color: #000000;\n",
              "}\n",
              "#T_a6104_row2_col0 {\n",
              "  background-color: #005522;\n",
              "  color: #f1f1f1;\n",
              "}\n",
              "#T_a6104_row2_col1 {\n",
              "  background-color: #005924;\n",
              "  color: #f1f1f1;\n",
              "}\n",
              "#T_a6104_row2_col2 {\n",
              "  background-color: #157f3b;\n",
              "  color: #f1f1f1;\n",
              "}\n",
              "#T_a6104_row2_col3 {\n",
              "  background-color: #147e3a;\n",
              "  color: #f1f1f1;\n",
              "}\n",
              "#T_a6104_row2_col5 {\n",
              "  background-color: #f0f9ec;\n",
              "  color: #000000;\n",
              "}\n",
              "</style>\n",
              "<table id=\"T_a6104_\" class=\"dataframe\">\n",
              "  <thead>\n",
              "    <tr>\n",
              "      <th class=\"blank level0\" >&nbsp;</th>\n",
              "      <th class=\"col_heading level0 col0\" >mse</th>\n",
              "      <th class=\"col_heading level0 col1\" >rmse</th>\n",
              "      <th class=\"col_heading level0 col2\" >mae</th>\n",
              "      <th class=\"col_heading level0 col3\" >nmae</th>\n",
              "      <th class=\"col_heading level0 col4\" >mape</th>\n",
              "      <th class=\"col_heading level0 col5\" >r2</th>\n",
              "    </tr>\n",
              "  </thead>\n",
              "  <tbody>\n",
              "    <tr>\n",
              "      <th id=\"T_a6104_level0_row0\" class=\"row_heading level0 row0\" >linear</th>\n",
              "      <td id=\"T_a6104_row0_col0\" class=\"data row0 col0\" >0.463000</td>\n",
              "      <td id=\"T_a6104_row0_col1\" class=\"data row0 col1\" >0.680000</td>\n",
              "      <td id=\"T_a6104_row0_col2\" class=\"data row0 col2\" >0.501000</td>\n",
              "      <td id=\"T_a6104_row0_col3\" class=\"data row0 col3\" >0.721000</td>\n",
              "      <td id=\"T_a6104_row0_col4\" class=\"data row0 col4\" >239.529000</td>\n",
              "      <td id=\"T_a6104_row0_col5\" class=\"data row0 col5\" >0.537000</td>\n",
              "    </tr>\n",
              "    <tr>\n",
              "      <th id=\"T_a6104_level0_row1\" class=\"row_heading level0 row1\" >quadratic</th>\n",
              "      <td id=\"T_a6104_row1_col0\" class=\"data row1 col0\" >0.343000</td>\n",
              "      <td id=\"T_a6104_row1_col1\" class=\"data row1 col1\" >0.586000</td>\n",
              "      <td id=\"T_a6104_row1_col2\" class=\"data row1 col2\" >0.445000</td>\n",
              "      <td id=\"T_a6104_row1_col3\" class=\"data row1 col3\" >0.640000</td>\n",
              "      <td id=\"T_a6104_row1_col4\" class=\"data row1 col4\" >228.354000</td>\n",
              "      <td id=\"T_a6104_row1_col5\" class=\"data row1 col5\" >0.657000</td>\n",
              "    </tr>\n",
              "    <tr>\n",
              "      <th id=\"T_a6104_level0_row2\" class=\"row_heading level0 row2\" >cubic</th>\n",
              "      <td id=\"T_a6104_row2_col0\" class=\"data row2 col0\" >0.315000</td>\n",
              "      <td id=\"T_a6104_row2_col1\" class=\"data row2 col1\" >0.562000</td>\n",
              "      <td id=\"T_a6104_row2_col2\" class=\"data row2 col2\" >0.422000</td>\n",
              "      <td id=\"T_a6104_row2_col3\" class=\"data row2 col3\" >0.606000</td>\n",
              "      <td id=\"T_a6104_row2_col4\" class=\"data row2 col4\" >180.717000</td>\n",
              "      <td id=\"T_a6104_row2_col5\" class=\"data row2 col5\" >0.685000</td>\n",
              "    </tr>\n",
              "    <tr>\n",
              "      <th id=\"T_a6104_level0_row3\" class=\"row_heading level0 row3\" >tree</th>\n",
              "      <td id=\"T_a6104_row3_col0\" class=\"data row3 col0\" >0.307000</td>\n",
              "      <td id=\"T_a6104_row3_col1\" class=\"data row3 col1\" >0.554000</td>\n",
              "      <td id=\"T_a6104_row3_col2\" class=\"data row3 col2\" >0.402000</td>\n",
              "      <td id=\"T_a6104_row3_col3\" class=\"data row3 col3\" >0.578000</td>\n",
              "      <td id=\"T_a6104_row3_col4\" class=\"data row3 col4\" >298.471000</td>\n",
              "      <td id=\"T_a6104_row3_col5\" class=\"data row3 col5\" >0.693000</td>\n",
              "    </tr>\n",
              "  </tbody>\n",
              "</table>\n"
            ]
          },
          "metadata": {},
          "execution_count": 19
        }
      ]
    },
    {
      "cell_type": "markdown",
      "source": [
        "#### **그래프 시각화**"
      ],
      "metadata": {
        "id": "J1EfnMS-Eb0T"
      }
    },
    {
      "cell_type": "code",
      "source": [
        "draw_data()\n",
        "plt.plot(X_every, tree.predict(X_every), lw=3)    \n",
        "plt.show()"
      ],
      "metadata": {
        "colab": {
          "base_uri": "https://localhost:8080/",
          "height": 279
        },
        "id": "wefFK6Ivatq5",
        "outputId": "b07621f2-220e-4a8d-d03e-e62985028854"
      },
      "execution_count": null,
      "outputs": [
        {
          "output_type": "display_data",
          "data": {
            "text/plain": [
              "<Figure size 432x288 with 1 Axes>"
            ],
            "image/png": "[encoded data removed]"
          },
          "metadata": {
            "needs_background": "light"
          }
        }
      ]
    },
    {
      "cell_type": "markdown",
      "source": [
        "### **| 랜덤 포레스트 회귀 (Random Forest Regressor)**"
      ],
      "metadata": {
        "id": "l1XVbkXFD7Rm"
      }
    },
    {
      "cell_type": "markdown",
      "source": [
        "#### **모델 학습**"
      ],
      "metadata": {
        "id": "vPA4opI3EAza"
      }
    },
    {
      "cell_type": "code",
      "source": [
        "from sklearn.ensemble import RandomForestRegressor\n",
        "\n",
        "forest = RandomForestRegressor(random_state=1)\n",
        "forest.fit(X_train, y_train)"
      ],
      "metadata": {
        "colab": {
          "base_uri": "https://localhost:8080/"
        },
        "id": "M_wdfRw0bQhp",
        "outputId": "78df050e-dfe5-402a-fec8-23c678ee956c"
      },
      "execution_count": null,
      "outputs": [
        {
          "output_type": "execute_result",
          "data": {
            "text/plain": [
              "RandomForestRegressor(n_estimators=1000, n_jobs=-1, random_state=1)"
            ]
          },
          "metadata": {},
          "execution_count": 21
        }
      ]
    },
    {
      "cell_type": "markdown",
      "source": [
        "#### **테스트셋 성능 비교**"
      ],
      "metadata": {
        "id": "uLPJ4OV6EFyT"
      }
    },
    {
      "cell_type": "code",
      "source": [
        "y_pred = forest.predict(X_test)\n",
        "df_score.loc['forest']=regression_scores(y_test, y_pred)\n",
        "df_score.style.background_gradient(cmap='Greens_r')"
      ],
      "metadata": {
        "colab": {
          "base_uri": "https://localhost:8080/",
          "height": 206
        },
        "id": "thihkhhg91d0",
        "outputId": "67a13898-15bf-4bef-bb51-d7198f3170b2"
      },
      "execution_count": null,
      "outputs": [
        {
          "output_type": "execute_result",
          "data": {
            "text/plain": [
              "<pandas.io.formats.style.Styler at 0x7fc1995971d0>"
            ],
            "text/html": [
              "<style type=\"text/css\">\n",
              "#T_41c4d_row0_col0, #T_41c4d_row0_col1, #T_41c4d_row0_col2, #T_41c4d_row0_col3, #T_41c4d_row3_col4, #T_41c4d_row3_col5 {\n",
              "  background-color: #f7fcf5;\n",
              "  color: #000000;\n",
              "}\n",
              "#T_41c4d_row0_col4 {\n",
              "  background-color: #91d28e;\n",
              "  color: #000000;\n",
              "}\n",
              "#T_41c4d_row0_col5, #T_41c4d_row3_col0, #T_41c4d_row3_col1, #T_41c4d_row3_col2, #T_41c4d_row3_col3, #T_41c4d_row4_col4 {\n",
              "  background-color: #00441b;\n",
              "  color: #f1f1f1;\n",
              "}\n",
              "#T_41c4d_row1_col0 {\n",
              "  background-color: #1e8741;\n",
              "  color: #f1f1f1;\n",
              "}\n",
              "#T_41c4d_row1_col1 {\n",
              "  background-color: #248c46;\n",
              "  color: #f1f1f1;\n",
              "}\n",
              "#T_41c4d_row1_col2 {\n",
              "  background-color: #5ab769;\n",
              "  color: #f1f1f1;\n",
              "}\n",
              "#T_41c4d_row1_col3 {\n",
              "  background-color: #58b668;\n",
              "  color: #f1f1f1;\n",
              "}\n",
              "#T_41c4d_row1_col4 {\n",
              "  background-color: #75c477;\n",
              "  color: #000000;\n",
              "}\n",
              "#T_41c4d_row1_col5 {\n",
              "  background-color: #cbebc5;\n",
              "  color: #000000;\n",
              "}\n",
              "#T_41c4d_row2_col0 {\n",
              "  background-color: #005522;\n",
              "  color: #f1f1f1;\n",
              "}\n",
              "#T_41c4d_row2_col1 {\n",
              "  background-color: #005924;\n",
              "  color: #f1f1f1;\n",
              "}\n",
              "#T_41c4d_row2_col2 {\n",
              "  background-color: #157f3b;\n",
              "  color: #f1f1f1;\n",
              "}\n",
              "#T_41c4d_row2_col3 {\n",
              "  background-color: #147e3a;\n",
              "  color: #f1f1f1;\n",
              "}\n",
              "#T_41c4d_row2_col4 {\n",
              "  background-color: #0a7633;\n",
              "  color: #f1f1f1;\n",
              "}\n",
              "#T_41c4d_row2_col5 {\n",
              "  background-color: #f0f9ec;\n",
              "  color: #000000;\n",
              "}\n",
              "#T_41c4d_row4_col0 {\n",
              "  background-color: #c3e7bc;\n",
              "  color: #000000;\n",
              "}\n",
              "#T_41c4d_row4_col1 {\n",
              "  background-color: #cbeac4;\n",
              "  color: #000000;\n",
              "}\n",
              "#T_41c4d_row4_col2, #T_41c4d_row4_col3 {\n",
              "  background-color: #b4e1ad;\n",
              "  color: #000000;\n",
              "}\n",
              "#T_41c4d_row4_col5 {\n",
              "  background-color: #268e47;\n",
              "  color: #f1f1f1;\n",
              "}\n",
              "</style>\n",
              "<table id=\"T_41c4d_\" class=\"dataframe\">\n",
              "  <thead>\n",
              "    <tr>\n",
              "      <th class=\"blank level0\" >&nbsp;</th>\n",
              "      <th class=\"col_heading level0 col0\" >mse</th>\n",
              "      <th class=\"col_heading level0 col1\" >rmse</th>\n",
              "      <th class=\"col_heading level0 col2\" >mae</th>\n",
              "      <th class=\"col_heading level0 col3\" >nmae</th>\n",
              "      <th class=\"col_heading level0 col4\" >mape</th>\n",
              "      <th class=\"col_heading level0 col5\" >r2</th>\n",
              "    </tr>\n",
              "  </thead>\n",
              "  <tbody>\n",
              "    <tr>\n",
              "      <th id=\"T_41c4d_level0_row0\" class=\"row_heading level0 row0\" >linear</th>\n",
              "      <td id=\"T_41c4d_row0_col0\" class=\"data row0 col0\" >0.463000</td>\n",
              "      <td id=\"T_41c4d_row0_col1\" class=\"data row0 col1\" >0.680000</td>\n",
              "      <td id=\"T_41c4d_row0_col2\" class=\"data row0 col2\" >0.501000</td>\n",
              "      <td id=\"T_41c4d_row0_col3\" class=\"data row0 col3\" >0.721000</td>\n",
              "      <td id=\"T_41c4d_row0_col4\" class=\"data row0 col4\" >239.529000</td>\n",
              "      <td id=\"T_41c4d_row0_col5\" class=\"data row0 col5\" >0.537000</td>\n",
              "    </tr>\n",
              "    <tr>\n",
              "      <th id=\"T_41c4d_level0_row1\" class=\"row_heading level0 row1\" >quadratic</th>\n",
              "      <td id=\"T_41c4d_row1_col0\" class=\"data row1 col0\" >0.343000</td>\n",
              "      <td id=\"T_41c4d_row1_col1\" class=\"data row1 col1\" >0.586000</td>\n",
              "      <td id=\"T_41c4d_row1_col2\" class=\"data row1 col2\" >0.445000</td>\n",
              "      <td id=\"T_41c4d_row1_col3\" class=\"data row1 col3\" >0.640000</td>\n",
              "      <td id=\"T_41c4d_row1_col4\" class=\"data row1 col4\" >228.354000</td>\n",
              "      <td id=\"T_41c4d_row1_col5\" class=\"data row1 col5\" >0.657000</td>\n",
              "    </tr>\n",
              "    <tr>\n",
              "      <th id=\"T_41c4d_level0_row2\" class=\"row_heading level0 row2\" >cubic</th>\n",
              "      <td id=\"T_41c4d_row2_col0\" class=\"data row2 col0\" >0.315000</td>\n",
              "      <td id=\"T_41c4d_row2_col1\" class=\"data row2 col1\" >0.562000</td>\n",
              "      <td id=\"T_41c4d_row2_col2\" class=\"data row2 col2\" >0.422000</td>\n",
              "      <td id=\"T_41c4d_row2_col3\" class=\"data row2 col3\" >0.606000</td>\n",
              "      <td id=\"T_41c4d_row2_col4\" class=\"data row2 col4\" >180.717000</td>\n",
              "      <td id=\"T_41c4d_row2_col5\" class=\"data row2 col5\" >0.685000</td>\n",
              "    </tr>\n",
              "    <tr>\n",
              "      <th id=\"T_41c4d_level0_row3\" class=\"row_heading level0 row3\" >tree</th>\n",
              "      <td id=\"T_41c4d_row3_col0\" class=\"data row3 col0\" >0.307000</td>\n",
              "      <td id=\"T_41c4d_row3_col1\" class=\"data row3 col1\" >0.554000</td>\n",
              "      <td id=\"T_41c4d_row3_col2\" class=\"data row3 col2\" >0.402000</td>\n",
              "      <td id=\"T_41c4d_row3_col3\" class=\"data row3 col3\" >0.578000</td>\n",
              "      <td id=\"T_41c4d_row3_col4\" class=\"data row3 col4\" >298.471000</td>\n",
              "      <td id=\"T_41c4d_row3_col5\" class=\"data row3 col5\" >0.693000</td>\n",
              "    </tr>\n",
              "    <tr>\n",
              "      <th id=\"T_41c4d_level0_row4\" class=\"row_heading level0 row4\" >forest</th>\n",
              "      <td id=\"T_41c4d_row4_col0\" class=\"data row4 col0\" >0.422000</td>\n",
              "      <td id=\"T_41c4d_row4_col1\" class=\"data row4 col1\" >0.650000</td>\n",
              "      <td id=\"T_41c4d_row4_col2\" class=\"data row4 col2\" >0.470000</td>\n",
              "      <td id=\"T_41c4d_row4_col3\" class=\"data row4 col3\" >0.676000</td>\n",
              "      <td id=\"T_41c4d_row4_col4\" class=\"data row4 col4\" >158.176000</td>\n",
              "      <td id=\"T_41c4d_row4_col5\" class=\"data row4 col5\" >0.578000</td>\n",
              "    </tr>\n",
              "  </tbody>\n",
              "</table>\n"
            ]
          },
          "metadata": {},
          "execution_count": 22
        }
      ]
    },
    {
      "cell_type": "markdown",
      "source": [
        "#### **그래프 시각화**"
      ],
      "metadata": {
        "id": "9yj-SJ85ESGc"
      }
    },
    {
      "cell_type": "code",
      "source": [
        "draw_data()\n",
        "plt.plot(X_every, forest.predict(X_every), lw=3)    \n",
        "plt.show()"
      ],
      "metadata": {
        "colab": {
          "base_uri": "https://localhost:8080/",
          "height": 279
        },
        "id": "Zipzp2MBf400",
        "outputId": "013fee05-58c9-47d9-f919-0e205e99102b"
      },
      "execution_count": null,
      "outputs": [
        {
          "output_type": "display_data",
          "data": {
            "text/plain": [
              "<Figure size 432x288 with 1 Axes>"
            ],
            "image/png": "[encoded data removed]"
          },
          "metadata": {
            "needs_background": "light"
          }
        }
      ]
    },
    {
      "cell_type": "markdown",
      "source": [
        "### **| 엑스트라 트리 (Extra Tree Regressor)**"
      ],
      "metadata": {
        "id": "J6xmuPP6LZjz"
      }
    },
    {
      "cell_type": "markdown",
      "source": [
        "#### **모델 학습**"
      ],
      "metadata": {
        "id": "hC2KVu-XLZj5"
      }
    },
    {
      "cell_type": "code",
      "source": [
        "from sklearn.ensemble import ExtraTreesRegressor\n",
        "\n",
        "et = ExtraTreesRegressor(random_state=1)\n",
        "et.fit(X_train, y_train)"
      ],
      "metadata": {
        "colab": {
          "base_uri": "https://localhost:8080/"
        },
        "outputId": "c21cde5b-652d-463a-c070-4d440730e8be",
        "id": "w63LEOBVLZj5"
      },
      "execution_count": null,
      "outputs": [
        {
          "output_type": "execute_result",
          "data": {
            "text/plain": [
              "ExtraTreesRegressor(n_estimators=1000, n_jobs=-1, random_state=1)"
            ]
          },
          "metadata": {},
          "execution_count": 25
        }
      ]
    },
    {
      "cell_type": "markdown",
      "source": [
        "#### **테스트셋 성능 비교**"
      ],
      "metadata": {
        "id": "exSV_oihLZj5"
      }
    },
    {
      "cell_type": "code",
      "source": [
        "y_pred = et.predict(X_test)\n",
        "df_score.loc['et']=regression_scores(y_test, y_pred)\n",
        "df_score.style.background_gradient(cmap='Greens_r')"
      ],
      "metadata": {
        "colab": {
          "base_uri": "https://localhost:8080/",
          "height": 237
        },
        "outputId": "610e2213-5721-400f-a1ec-075aa0ff8fd3",
        "id": "iF7cDoxQLZj5"
      },
      "execution_count": null,
      "outputs": [
        {
          "output_type": "execute_result",
          "data": {
            "text/plain": [
              "<pandas.io.formats.style.Styler at 0x7fc1914f8990>"
            ],
            "text/html": [
              "<style type=\"text/css\">\n",
              "#T_6e90c_row0_col0, #T_6e90c_row0_col1, #T_6e90c_row0_col2, #T_6e90c_row0_col3, #T_6e90c_row3_col4, #T_6e90c_row3_col5 {\n",
              "  background-color: #f7fcf5;\n",
              "  color: #000000;\n",
              "}\n",
              "#T_6e90c_row0_col4 {\n",
              "  background-color: #afdfa8;\n",
              "  color: #000000;\n",
              "}\n",
              "#T_6e90c_row0_col5, #T_6e90c_row3_col0, #T_6e90c_row3_col1, #T_6e90c_row3_col2, #T_6e90c_row3_col3, #T_6e90c_row5_col4 {\n",
              "  background-color: #00441b;\n",
              "  color: #f1f1f1;\n",
              "}\n",
              "#T_6e90c_row1_col0 {\n",
              "  background-color: #1e8741;\n",
              "  color: #f1f1f1;\n",
              "}\n",
              "#T_6e90c_row1_col1 {\n",
              "  background-color: #248c46;\n",
              "  color: #f1f1f1;\n",
              "}\n",
              "#T_6e90c_row1_col2 {\n",
              "  background-color: #5ab769;\n",
              "  color: #f1f1f1;\n",
              "}\n",
              "#T_6e90c_row1_col3 {\n",
              "  background-color: #58b668;\n",
              "  color: #f1f1f1;\n",
              "}\n",
              "#T_6e90c_row1_col4 {\n",
              "  background-color: #99d595;\n",
              "  color: #000000;\n",
              "}\n",
              "#T_6e90c_row1_col5 {\n",
              "  background-color: #cbebc5;\n",
              "  color: #000000;\n",
              "}\n",
              "#T_6e90c_row2_col0 {\n",
              "  background-color: #005522;\n",
              "  color: #f1f1f1;\n",
              "}\n",
              "#T_6e90c_row2_col1 {\n",
              "  background-color: #005924;\n",
              "  color: #f1f1f1;\n",
              "}\n",
              "#T_6e90c_row2_col2 {\n",
              "  background-color: #157f3b;\n",
              "  color: #f1f1f1;\n",
              "}\n",
              "#T_6e90c_row2_col3 {\n",
              "  background-color: #147e3a;\n",
              "  color: #f1f1f1;\n",
              "}\n",
              "#T_6e90c_row2_col4 {\n",
              "  background-color: #38a156;\n",
              "  color: #f1f1f1;\n",
              "}\n",
              "#T_6e90c_row2_col5 {\n",
              "  background-color: #f0f9ec;\n",
              "  color: #000000;\n",
              "}\n",
              "#T_6e90c_row4_col0 {\n",
              "  background-color: #c3e7bc;\n",
              "  color: #000000;\n",
              "}\n",
              "#T_6e90c_row4_col1 {\n",
              "  background-color: #cbeac4;\n",
              "  color: #000000;\n",
              "}\n",
              "#T_6e90c_row4_col2, #T_6e90c_row4_col3 {\n",
              "  background-color: #b4e1ad;\n",
              "  color: #000000;\n",
              "}\n",
              "#T_6e90c_row4_col4 {\n",
              "  background-color: #17813d;\n",
              "  color: #f1f1f1;\n",
              "}\n",
              "#T_6e90c_row4_col5 {\n",
              "  background-color: #268e47;\n",
              "  color: #f1f1f1;\n",
              "}\n",
              "#T_6e90c_row5_col0 {\n",
              "  background-color: #dcf2d7;\n",
              "  color: #000000;\n",
              "}\n",
              "#T_6e90c_row5_col1 {\n",
              "  background-color: #e1f3dc;\n",
              "  color: #000000;\n",
              "}\n",
              "#T_6e90c_row5_col2, #T_6e90c_row5_col3 {\n",
              "  background-color: #c9eac2;\n",
              "  color: #000000;\n",
              "}\n",
              "#T_6e90c_row5_col5 {\n",
              "  background-color: #0a7633;\n",
              "  color: #f1f1f1;\n",
              "}\n",
              "</style>\n",
              "<table id=\"T_6e90c_\" class=\"dataframe\">\n",
              "  <thead>\n",
              "    <tr>\n",
              "      <th class=\"blank level0\" >&nbsp;</th>\n",
              "      <th class=\"col_heading level0 col0\" >mse</th>\n",
              "      <th class=\"col_heading level0 col1\" >rmse</th>\n",
              "      <th class=\"col_heading level0 col2\" >mae</th>\n",
              "      <th class=\"col_heading level0 col3\" >nmae</th>\n",
              "      <th class=\"col_heading level0 col4\" >mape</th>\n",
              "      <th class=\"col_heading level0 col5\" >r2</th>\n",
              "    </tr>\n",
              "  </thead>\n",
              "  <tbody>\n",
              "    <tr>\n",
              "      <th id=\"T_6e90c_level0_row0\" class=\"row_heading level0 row0\" >linear</th>\n",
              "      <td id=\"T_6e90c_row0_col0\" class=\"data row0 col0\" >0.463000</td>\n",
              "      <td id=\"T_6e90c_row0_col1\" class=\"data row0 col1\" >0.680000</td>\n",
              "      <td id=\"T_6e90c_row0_col2\" class=\"data row0 col2\" >0.501000</td>\n",
              "      <td id=\"T_6e90c_row0_col3\" class=\"data row0 col3\" >0.721000</td>\n",
              "      <td id=\"T_6e90c_row0_col4\" class=\"data row0 col4\" >239.529000</td>\n",
              "      <td id=\"T_6e90c_row0_col5\" class=\"data row0 col5\" >0.537000</td>\n",
              "    </tr>\n",
              "    <tr>\n",
              "      <th id=\"T_6e90c_level0_row1\" class=\"row_heading level0 row1\" >quadratic</th>\n",
              "      <td id=\"T_6e90c_row1_col0\" class=\"data row1 col0\" >0.343000</td>\n",
              "      <td id=\"T_6e90c_row1_col1\" class=\"data row1 col1\" >0.586000</td>\n",
              "      <td id=\"T_6e90c_row1_col2\" class=\"data row1 col2\" >0.445000</td>\n",
              "      <td id=\"T_6e90c_row1_col3\" class=\"data row1 col3\" >0.640000</td>\n",
              "      <td id=\"T_6e90c_row1_col4\" class=\"data row1 col4\" >228.354000</td>\n",
              "      <td id=\"T_6e90c_row1_col5\" class=\"data row1 col5\" >0.657000</td>\n",
              "    </tr>\n",
              "    <tr>\n",
              "      <th id=\"T_6e90c_level0_row2\" class=\"row_heading level0 row2\" >cubic</th>\n",
              "      <td id=\"T_6e90c_row2_col0\" class=\"data row2 col0\" >0.315000</td>\n",
              "      <td id=\"T_6e90c_row2_col1\" class=\"data row2 col1\" >0.562000</td>\n",
              "      <td id=\"T_6e90c_row2_col2\" class=\"data row2 col2\" >0.422000</td>\n",
              "      <td id=\"T_6e90c_row2_col3\" class=\"data row2 col3\" >0.606000</td>\n",
              "      <td id=\"T_6e90c_row2_col4\" class=\"data row2 col4\" >180.717000</td>\n",
              "      <td id=\"T_6e90c_row2_col5\" class=\"data row2 col5\" >0.685000</td>\n",
              "    </tr>\n",
              "    <tr>\n",
              "      <th id=\"T_6e90c_level0_row3\" class=\"row_heading level0 row3\" >tree</th>\n",
              "      <td id=\"T_6e90c_row3_col0\" class=\"data row3 col0\" >0.307000</td>\n",
              "      <td id=\"T_6e90c_row3_col1\" class=\"data row3 col1\" >0.554000</td>\n",
              "      <td id=\"T_6e90c_row3_col2\" class=\"data row3 col2\" >0.402000</td>\n",
              "      <td id=\"T_6e90c_row3_col3\" class=\"data row3 col3\" >0.578000</td>\n",
              "      <td id=\"T_6e90c_row3_col4\" class=\"data row3 col4\" >298.471000</td>\n",
              "      <td id=\"T_6e90c_row3_col5\" class=\"data row3 col5\" >0.693000</td>\n",
              "    </tr>\n",
              "    <tr>\n",
              "      <th id=\"T_6e90c_level0_row4\" class=\"row_heading level0 row4\" >forest</th>\n",
              "      <td id=\"T_6e90c_row4_col0\" class=\"data row4 col0\" >0.422000</td>\n",
              "      <td id=\"T_6e90c_row4_col1\" class=\"data row4 col1\" >0.650000</td>\n",
              "      <td id=\"T_6e90c_row4_col2\" class=\"data row4 col2\" >0.470000</td>\n",
              "      <td id=\"T_6e90c_row4_col3\" class=\"data row4 col3\" >0.676000</td>\n",
              "      <td id=\"T_6e90c_row4_col4\" class=\"data row4 col4\" >158.176000</td>\n",
              "      <td id=\"T_6e90c_row4_col5\" class=\"data row4 col5\" >0.578000</td>\n",
              "    </tr>\n",
              "    <tr>\n",
              "      <th id=\"T_6e90c_level0_row5\" class=\"row_heading level0 row5\" >et</th>\n",
              "      <td id=\"T_6e90c_row5_col0\" class=\"data row5 col0\" >0.438000</td>\n",
              "      <td id=\"T_6e90c_row5_col1\" class=\"data row5 col1\" >0.662000</td>\n",
              "      <td id=\"T_6e90c_row5_col2\" class=\"data row5 col2\" >0.477000</td>\n",
              "      <td id=\"T_6e90c_row5_col3\" class=\"data row5 col3\" >0.686000</td>\n",
              "      <td id=\"T_6e90c_row5_col4\" class=\"data row5 col4\" >120.755000</td>\n",
              "      <td id=\"T_6e90c_row5_col5\" class=\"data row5 col5\" >0.562000</td>\n",
              "    </tr>\n",
              "  </tbody>\n",
              "</table>\n"
            ]
          },
          "metadata": {},
          "execution_count": 26
        }
      ]
    },
    {
      "cell_type": "markdown",
      "source": [
        "#### **그래프 시각화**"
      ],
      "metadata": {
        "id": "RWMOqMszLZj5"
      }
    },
    {
      "cell_type": "code",
      "source": [
        "draw_data()\n",
        "plt.plot(X_every, et.predict(X_every), lw=3)    \n",
        "plt.show()"
      ],
      "metadata": {
        "colab": {
          "base_uri": "https://localhost:8080/",
          "height": 279
        },
        "outputId": "9a5a8cb7-b733-4bce-ae5f-0e69edde327a",
        "id": "SAm2hvuYLZj5"
      },
      "execution_count": null,
      "outputs": [
        {
          "output_type": "display_data",
          "data": {
            "text/plain": [
              "<Figure size 432x288 with 1 Axes>"
            ],
            "image/png": "[encoded data removed]"
          },
          "metadata": {
            "needs_background": "light"
          }
        }
      ]
    },
    {
      "cell_type": "markdown",
      "source": [
        "### **| Gradient Boosting Regressor**"
      ],
      "metadata": {
        "id": "k8XiGE3NMED_"
      }
    },
    {
      "cell_type": "markdown",
      "source": [
        "#### **모델 학습**"
      ],
      "metadata": {
        "id": "OuQDDlYoMEEE"
      }
    },
    {
      "cell_type": "code",
      "source": [
        "from sklearn.ensemble import GradientBoostingRegressor\n",
        "\n",
        "gb = GradientBoostingRegressor(random_state=1)\n",
        "gb.fit(X_train, y_train)"
      ],
      "metadata": {
        "colab": {
          "base_uri": "https://localhost:8080/"
        },
        "outputId": "c85029da-530a-4741-8c67-9b4baffee74c",
        "id": "JuqxOkcjMEEF"
      },
      "execution_count": null,
      "outputs": [
        {
          "output_type": "execute_result",
          "data": {
            "text/plain": [
              "GradientBoostingRegressor(criterion='squared_error', n_estimators=1000,\n",
              "                          random_state=1)"
            ]
          },
          "metadata": {},
          "execution_count": 28
        }
      ]
    },
    {
      "cell_type": "markdown",
      "source": [
        "#### **테스트셋 성능 비교**"
      ],
      "metadata": {
        "id": "gCjS_nhuMEEF"
      }
    },
    {
      "cell_type": "code",
      "source": [
        "y_pred = gb.predict(X_test)\n",
        "df_score.loc['gb']=regression_scores(y_test, y_pred)\n",
        "df_score.style.background_gradient(cmap='Greens_r')"
      ],
      "metadata": {
        "colab": {
          "base_uri": "https://localhost:8080/",
          "height": 269
        },
        "outputId": "2d0929e1-bc5b-46c9-f826-2a025a966346",
        "id": "m2EaO6yuMEEF"
      },
      "execution_count": null,
      "outputs": [
        {
          "output_type": "execute_result",
          "data": {
            "text/plain": [
              "<pandas.io.formats.style.Styler at 0x7fc191cccd90>"
            ],
            "text/html": [
              "<style type=\"text/css\">\n",
              "#T_744f1_row0_col0 {\n",
              "  background-color: #b0dfaa;\n",
              "  color: #000000;\n",
              "}\n",
              "#T_744f1_row0_col1 {\n",
              "  background-color: #b8e3b2;\n",
              "  color: #000000;\n",
              "}\n",
              "#T_744f1_row0_col2 {\n",
              "  background-color: #f2faef;\n",
              "  color: #000000;\n",
              "}\n",
              "#T_744f1_row0_col3, #T_744f1_row2_col5 {\n",
              "  background-color: #f2faf0;\n",
              "  color: #000000;\n",
              "}\n",
              "#T_744f1_row0_col4 {\n",
              "  background-color: #afdfa8;\n",
              "  color: #000000;\n",
              "}\n",
              "#T_744f1_row0_col5 {\n",
              "  background-color: #359e53;\n",
              "  color: #f1f1f1;\n",
              "}\n",
              "#T_744f1_row1_col0 {\n",
              "  background-color: #087432;\n",
              "  color: #f1f1f1;\n",
              "}\n",
              "#T_744f1_row1_col1 {\n",
              "  background-color: #0e7936;\n",
              "  color: #f1f1f1;\n",
              "}\n",
              "#T_744f1_row1_col2 {\n",
              "  background-color: #52b365;\n",
              "  color: #f1f1f1;\n",
              "}\n",
              "#T_744f1_row1_col3 {\n",
              "  background-color: #53b466;\n",
              "  color: #f1f1f1;\n",
              "}\n",
              "#T_744f1_row1_col4 {\n",
              "  background-color: #99d595;\n",
              "  color: #000000;\n",
              "}\n",
              "#T_744f1_row1_col5 {\n",
              "  background-color: #def2d9;\n",
              "  color: #000000;\n",
              "}\n",
              "#T_744f1_row2_col0 {\n",
              "  background-color: #004e1f;\n",
              "  color: #f1f1f1;\n",
              "}\n",
              "#T_744f1_row2_col1 {\n",
              "  background-color: #005221;\n",
              "  color: #f1f1f1;\n",
              "}\n",
              "#T_744f1_row2_col2 {\n",
              "  background-color: #137d39;\n",
              "  color: #f1f1f1;\n",
              "}\n",
              "#T_744f1_row2_col3 {\n",
              "  background-color: #127c39;\n",
              "  color: #f1f1f1;\n",
              "}\n",
              "#T_744f1_row2_col4 {\n",
              "  background-color: #38a156;\n",
              "  color: #f1f1f1;\n",
              "}\n",
              "#T_744f1_row3_col0, #T_744f1_row3_col1, #T_744f1_row3_col2, #T_744f1_row3_col3, #T_744f1_row5_col4, #T_744f1_row6_col5 {\n",
              "  background-color: #00441b;\n",
              "  color: #f1f1f1;\n",
              "}\n",
              "#T_744f1_row3_col4, #T_744f1_row3_col5, #T_744f1_row6_col0, #T_744f1_row6_col1, #T_744f1_row6_col2, #T_744f1_row6_col3 {\n",
              "  background-color: #f7fcf5;\n",
              "  color: #000000;\n",
              "}\n",
              "#T_744f1_row4_col0 {\n",
              "  background-color: #73c476;\n",
              "  color: #000000;\n",
              "}\n",
              "#T_744f1_row4_col1 {\n",
              "  background-color: #80ca80;\n",
              "  color: #000000;\n",
              "}\n",
              "#T_744f1_row4_col2, #T_744f1_row4_col3 {\n",
              "  background-color: #acdea6;\n",
              "  color: #000000;\n",
              "}\n",
              "#T_744f1_row4_col4 {\n",
              "  background-color: #17813d;\n",
              "  color: #f1f1f1;\n",
              "}\n",
              "#T_744f1_row4_col5 {\n",
              "  background-color: #75c477;\n",
              "  color: #000000;\n",
              "}\n",
              "#T_744f1_row5_col0 {\n",
              "  background-color: #8dd08a;\n",
              "  color: #000000;\n",
              "}\n",
              "#T_744f1_row5_col1 {\n",
              "  background-color: #98d594;\n",
              "  color: #000000;\n",
              "}\n",
              "#T_744f1_row5_col2, #T_744f1_row5_col3 {\n",
              "  background-color: #c1e6ba;\n",
              "  color: #000000;\n",
              "}\n",
              "#T_744f1_row5_col5 {\n",
              "  background-color: #58b668;\n",
              "  color: #f1f1f1;\n",
              "}\n",
              "#T_744f1_row6_col4 {\n",
              "  background-color: #abdda5;\n",
              "  color: #000000;\n",
              "}\n",
              "</style>\n",
              "<table id=\"T_744f1_\" class=\"dataframe\">\n",
              "  <thead>\n",
              "    <tr>\n",
              "      <th class=\"blank level0\" >&nbsp;</th>\n",
              "      <th class=\"col_heading level0 col0\" >mse</th>\n",
              "      <th class=\"col_heading level0 col1\" >rmse</th>\n",
              "      <th class=\"col_heading level0 col2\" >mae</th>\n",
              "      <th class=\"col_heading level0 col3\" >nmae</th>\n",
              "      <th class=\"col_heading level0 col4\" >mape</th>\n",
              "      <th class=\"col_heading level0 col5\" >r2</th>\n",
              "    </tr>\n",
              "  </thead>\n",
              "  <tbody>\n",
              "    <tr>\n",
              "      <th id=\"T_744f1_level0_row0\" class=\"row_heading level0 row0\" >linear</th>\n",
              "      <td id=\"T_744f1_row0_col0\" class=\"data row0 col0\" >0.463000</td>\n",
              "      <td id=\"T_744f1_row0_col1\" class=\"data row0 col1\" >0.680000</td>\n",
              "      <td id=\"T_744f1_row0_col2\" class=\"data row0 col2\" >0.501000</td>\n",
              "      <td id=\"T_744f1_row0_col3\" class=\"data row0 col3\" >0.721000</td>\n",
              "      <td id=\"T_744f1_row0_col4\" class=\"data row0 col4\" >239.529000</td>\n",
              "      <td id=\"T_744f1_row0_col5\" class=\"data row0 col5\" >0.537000</td>\n",
              "    </tr>\n",
              "    <tr>\n",
              "      <th id=\"T_744f1_level0_row1\" class=\"row_heading level0 row1\" >quadratic</th>\n",
              "      <td id=\"T_744f1_row1_col0\" class=\"data row1 col0\" >0.343000</td>\n",
              "      <td id=\"T_744f1_row1_col1\" class=\"data row1 col1\" >0.586000</td>\n",
              "      <td id=\"T_744f1_row1_col2\" class=\"data row1 col2\" >0.445000</td>\n",
              "      <td id=\"T_744f1_row1_col3\" class=\"data row1 col3\" >0.640000</td>\n",
              "      <td id=\"T_744f1_row1_col4\" class=\"data row1 col4\" >228.354000</td>\n",
              "      <td id=\"T_744f1_row1_col5\" class=\"data row1 col5\" >0.657000</td>\n",
              "    </tr>\n",
              "    <tr>\n",
              "      <th id=\"T_744f1_level0_row2\" class=\"row_heading level0 row2\" >cubic</th>\n",
              "      <td id=\"T_744f1_row2_col0\" class=\"data row2 col0\" >0.315000</td>\n",
              "      <td id=\"T_744f1_row2_col1\" class=\"data row2 col1\" >0.562000</td>\n",
              "      <td id=\"T_744f1_row2_col2\" class=\"data row2 col2\" >0.422000</td>\n",
              "      <td id=\"T_744f1_row2_col3\" class=\"data row2 col3\" >0.606000</td>\n",
              "      <td id=\"T_744f1_row2_col4\" class=\"data row2 col4\" >180.717000</td>\n",
              "      <td id=\"T_744f1_row2_col5\" class=\"data row2 col5\" >0.685000</td>\n",
              "    </tr>\n",
              "    <tr>\n",
              "      <th id=\"T_744f1_level0_row3\" class=\"row_heading level0 row3\" >tree</th>\n",
              "      <td id=\"T_744f1_row3_col0\" class=\"data row3 col0\" >0.307000</td>\n",
              "      <td id=\"T_744f1_row3_col1\" class=\"data row3 col1\" >0.554000</td>\n",
              "      <td id=\"T_744f1_row3_col2\" class=\"data row3 col2\" >0.402000</td>\n",
              "      <td id=\"T_744f1_row3_col3\" class=\"data row3 col3\" >0.578000</td>\n",
              "      <td id=\"T_744f1_row3_col4\" class=\"data row3 col4\" >298.471000</td>\n",
              "      <td id=\"T_744f1_row3_col5\" class=\"data row3 col5\" >0.693000</td>\n",
              "    </tr>\n",
              "    <tr>\n",
              "      <th id=\"T_744f1_level0_row4\" class=\"row_heading level0 row4\" >forest</th>\n",
              "      <td id=\"T_744f1_row4_col0\" class=\"data row4 col0\" >0.422000</td>\n",
              "      <td id=\"T_744f1_row4_col1\" class=\"data row4 col1\" >0.650000</td>\n",
              "      <td id=\"T_744f1_row4_col2\" class=\"data row4 col2\" >0.470000</td>\n",
              "      <td id=\"T_744f1_row4_col3\" class=\"data row4 col3\" >0.676000</td>\n",
              "      <td id=\"T_744f1_row4_col4\" class=\"data row4 col4\" >158.176000</td>\n",
              "      <td id=\"T_744f1_row4_col5\" class=\"data row4 col5\" >0.578000</td>\n",
              "    </tr>\n",
              "    <tr>\n",
              "      <th id=\"T_744f1_level0_row5\" class=\"row_heading level0 row5\" >et</th>\n",
              "      <td id=\"T_744f1_row5_col0\" class=\"data row5 col0\" >0.438000</td>\n",
              "      <td id=\"T_744f1_row5_col1\" class=\"data row5 col1\" >0.662000</td>\n",
              "      <td id=\"T_744f1_row5_col2\" class=\"data row5 col2\" >0.477000</td>\n",
              "      <td id=\"T_744f1_row5_col3\" class=\"data row5 col3\" >0.686000</td>\n",
              "      <td id=\"T_744f1_row5_col4\" class=\"data row5 col4\" >120.755000</td>\n",
              "      <td id=\"T_744f1_row5_col5\" class=\"data row5 col5\" >0.562000</td>\n",
              "    </tr>\n",
              "    <tr>\n",
              "      <th id=\"T_744f1_level0_row6\" class=\"row_heading level0 row6\" >gb</th>\n",
              "      <td id=\"T_744f1_row6_col0\" class=\"data row6 col0\" >0.538000</td>\n",
              "      <td id=\"T_744f1_row6_col1\" class=\"data row6 col1\" >0.734000</td>\n",
              "      <td id=\"T_744f1_row6_col2\" class=\"data row6 col2\" >0.505000</td>\n",
              "      <td id=\"T_744f1_row6_col3\" class=\"data row6 col3\" >0.726000</td>\n",
              "      <td id=\"T_744f1_row6_col4\" class=\"data row6 col4\" >237.426000</td>\n",
              "      <td id=\"T_744f1_row6_col5\" class=\"data row6 col5\" >0.462000</td>\n",
              "    </tr>\n",
              "  </tbody>\n",
              "</table>\n"
            ]
          },
          "metadata": {},
          "execution_count": 29
        }
      ]
    },
    {
      "cell_type": "markdown",
      "source": [
        "#### **그래프 시각화**"
      ],
      "metadata": {
        "id": "VizJqzEyMEEF"
      }
    },
    {
      "cell_type": "code",
      "source": [
        "draw_data()\n",
        "plt.plot(X_every, gb.predict(X_every), lw=3)    \n",
        "plt.show()"
      ],
      "metadata": {
        "colab": {
          "base_uri": "https://localhost:8080/",
          "height": 279
        },
        "outputId": "d0ad04c5-17cc-4692-96f1-a4f1d01cdbdc",
        "id": "HT2r-hT9MEEF"
      },
      "execution_count": null,
      "outputs": [
        {
          "output_type": "display_data",
          "data": {
            "text/plain": [
              "<Figure size 432x288 with 1 Axes>"
            ],
            "image/png": "[encoded data removed]"
          },
          "metadata": {
            "needs_background": "light"
          }
        }
      ]
    },
    {
      "cell_type": "markdown",
      "source": [
        "### **| XGBoost Regressor**"
      ],
      "metadata": {
        "id": "kNc2FzbdMbBX"
      }
    },
    {
      "cell_type": "markdown",
      "source": [
        "#### **모델 학습**"
      ],
      "metadata": {
        "id": "o4GP5G89MbBX"
      }
    },
    {
      "cell_type": "code",
      "source": [
        "from xgboost import XGBRegressor\n",
        "\n",
        "xgb = XGBRegressor(random_state=1)\n",
        "xgb.fit(X_train, y_train)"
      ],
      "metadata": {
        "colab": {
          "base_uri": "https://localhost:8080/"
        },
        "outputId": "dce46325-6d26-4db6-b4a0-6ad9db3ae677",
        "id": "e-Z4OxoFMbBX"
      },
      "execution_count": null,
      "outputs": [
        {
          "output_type": "stream",
          "name": "stdout",
          "text": [
            "[06:11:44] WARNING: /workspace/src/objective/regression_obj.cu:152: reg:linear is now deprecated in favor of reg:squarederror.\n"
          ]
        },
        {
          "output_type": "execute_result",
          "data": {
            "text/plain": [
              "XGBRegressor(random_state=1)"
            ]
          },
          "metadata": {},
          "execution_count": 31
        }
      ]
    },
    {
      "cell_type": "markdown",
      "source": [
        "#### **테스트셋 성능 비교**"
      ],
      "metadata": {
        "id": "JlCj1bdxMbBY"
      }
    },
    {
      "cell_type": "code",
      "source": [
        "y_pred = xgb.predict(X_test)\n",
        "df_score.loc['xgb']=regression_scores(y_test, y_pred)\n",
        "df_score.style.background_gradient(cmap='Greens_r')"
      ],
      "metadata": {
        "colab": {
          "base_uri": "https://localhost:8080/",
          "height": 300
        },
        "outputId": "a97dea96-90ef-42ed-fe9b-060bcb97155d",
        "id": "dJDy8n18MbBY"
      },
      "execution_count": null,
      "outputs": [
        {
          "output_type": "execute_result",
          "data": {
            "text/plain": [
              "<pandas.io.formats.style.Styler at 0x7fc191bc8ed0>"
            ],
            "text/html": [
              "<style type=\"text/css\">\n",
              "#T_d8d1c_row0_col0 {\n",
              "  background-color: #b0dfaa;\n",
              "  color: #000000;\n",
              "}\n",
              "#T_d8d1c_row0_col1 {\n",
              "  background-color: #b8e3b2;\n",
              "  color: #000000;\n",
              "}\n",
              "#T_d8d1c_row0_col2 {\n",
              "  background-color: #f2faef;\n",
              "  color: #000000;\n",
              "}\n",
              "#T_d8d1c_row0_col3, #T_d8d1c_row2_col5 {\n",
              "  background-color: #f2faf0;\n",
              "  color: #000000;\n",
              "}\n",
              "#T_d8d1c_row0_col4 {\n",
              "  background-color: #c0e6b9;\n",
              "  color: #000000;\n",
              "}\n",
              "#T_d8d1c_row0_col5 {\n",
              "  background-color: #359e53;\n",
              "  color: #f1f1f1;\n",
              "}\n",
              "#T_d8d1c_row1_col0 {\n",
              "  background-color: #087432;\n",
              "  color: #f1f1f1;\n",
              "}\n",
              "#T_d8d1c_row1_col1 {\n",
              "  background-color: #0e7936;\n",
              "  color: #f1f1f1;\n",
              "}\n",
              "#T_d8d1c_row1_col2 {\n",
              "  background-color: #56b567;\n",
              "  color: #f1f1f1;\n",
              "}\n",
              "#T_d8d1c_row1_col3 {\n",
              "  background-color: #5ab769;\n",
              "  color: #f1f1f1;\n",
              "}\n",
              "#T_d8d1c_row1_col4, #T_d8d1c_row4_col3 {\n",
              "  background-color: #afdfa8;\n",
              "  color: #000000;\n",
              "}\n",
              "#T_d8d1c_row1_col5 {\n",
              "  background-color: #def2d9;\n",
              "  color: #000000;\n",
              "}\n",
              "#T_d8d1c_row2_col0 {\n",
              "  background-color: #004e1f;\n",
              "  color: #f1f1f1;\n",
              "}\n",
              "#T_d8d1c_row2_col1 {\n",
              "  background-color: #005221;\n",
              "  color: #f1f1f1;\n",
              "}\n",
              "#T_d8d1c_row2_col2, #T_d8d1c_row2_col3 {\n",
              "  background-color: #17813d;\n",
              "  color: #f1f1f1;\n",
              "}\n",
              "#T_d8d1c_row2_col4 {\n",
              "  background-color: #5eb96b;\n",
              "  color: #f1f1f1;\n",
              "}\n",
              "#T_d8d1c_row3_col0, #T_d8d1c_row3_col1, #T_d8d1c_row6_col5, #T_d8d1c_row7_col2, #T_d8d1c_row7_col3, #T_d8d1c_row7_col4 {\n",
              "  background-color: #00441b;\n",
              "  color: #f1f1f1;\n",
              "}\n",
              "#T_d8d1c_row3_col2 {\n",
              "  background-color: #00491d;\n",
              "  color: #f1f1f1;\n",
              "}\n",
              "#T_d8d1c_row3_col3 {\n",
              "  background-color: #004c1e;\n",
              "  color: #f1f1f1;\n",
              "}\n",
              "#T_d8d1c_row3_col4, #T_d8d1c_row3_col5, #T_d8d1c_row6_col0, #T_d8d1c_row6_col1, #T_d8d1c_row6_col2, #T_d8d1c_row6_col3 {\n",
              "  background-color: #f7fcf5;\n",
              "  color: #000000;\n",
              "}\n",
              "#T_d8d1c_row4_col0 {\n",
              "  background-color: #73c476;\n",
              "  color: #000000;\n",
              "}\n",
              "#T_d8d1c_row4_col1 {\n",
              "  background-color: #80ca80;\n",
              "  color: #000000;\n",
              "}\n",
              "#T_d8d1c_row4_col2 {\n",
              "  background-color: #aedea7;\n",
              "  color: #000000;\n",
              "}\n",
              "#T_d8d1c_row4_col4 {\n",
              "  background-color: #39a257;\n",
              "  color: #f1f1f1;\n",
              "}\n",
              "#T_d8d1c_row4_col5 {\n",
              "  background-color: #75c477;\n",
              "  color: #000000;\n",
              "}\n",
              "#T_d8d1c_row5_col0 {\n",
              "  background-color: #8dd08a;\n",
              "  color: #000000;\n",
              "}\n",
              "#T_d8d1c_row5_col1 {\n",
              "  background-color: #98d594;\n",
              "  color: #000000;\n",
              "}\n",
              "#T_d8d1c_row5_col2 {\n",
              "  background-color: #c2e7bb;\n",
              "  color: #000000;\n",
              "}\n",
              "#T_d8d1c_row5_col3 {\n",
              "  background-color: #c3e7bc;\n",
              "  color: #000000;\n",
              "}\n",
              "#T_d8d1c_row5_col4 {\n",
              "  background-color: #0b7734;\n",
              "  color: #f1f1f1;\n",
              "}\n",
              "#T_d8d1c_row5_col5 {\n",
              "  background-color: #58b668;\n",
              "  color: #f1f1f1;\n",
              "}\n",
              "#T_d8d1c_row6_col4 {\n",
              "  background-color: #bce4b5;\n",
              "  color: #000000;\n",
              "}\n",
              "#T_d8d1c_row7_col0 {\n",
              "  background-color: #005924;\n",
              "  color: #f1f1f1;\n",
              "}\n",
              "#T_d8d1c_row7_col1 {\n",
              "  background-color: #005b25;\n",
              "  color: #f1f1f1;\n",
              "}\n",
              "#T_d8d1c_row7_col5 {\n",
              "  background-color: #eef8ea;\n",
              "  color: #000000;\n",
              "}\n",
              "</style>\n",
              "<table id=\"T_d8d1c_\" class=\"dataframe\">\n",
              "  <thead>\n",
              "    <tr>\n",
              "      <th class=\"blank level0\" >&nbsp;</th>\n",
              "      <th class=\"col_heading level0 col0\" >mse</th>\n",
              "      <th class=\"col_heading level0 col1\" >rmse</th>\n",
              "      <th class=\"col_heading level0 col2\" >mae</th>\n",
              "      <th class=\"col_heading level0 col3\" >nmae</th>\n",
              "      <th class=\"col_heading level0 col4\" >mape</th>\n",
              "      <th class=\"col_heading level0 col5\" >r2</th>\n",
              "    </tr>\n",
              "  </thead>\n",
              "  <tbody>\n",
              "    <tr>\n",
              "      <th id=\"T_d8d1c_level0_row0\" class=\"row_heading level0 row0\" >linear</th>\n",
              "      <td id=\"T_d8d1c_row0_col0\" class=\"data row0 col0\" >0.463000</td>\n",
              "      <td id=\"T_d8d1c_row0_col1\" class=\"data row0 col1\" >0.680000</td>\n",
              "      <td id=\"T_d8d1c_row0_col2\" class=\"data row0 col2\" >0.501000</td>\n",
              "      <td id=\"T_d8d1c_row0_col3\" class=\"data row0 col3\" >0.721000</td>\n",
              "      <td id=\"T_d8d1c_row0_col4\" class=\"data row0 col4\" >239.529000</td>\n",
              "      <td id=\"T_d8d1c_row0_col5\" class=\"data row0 col5\" >0.537000</td>\n",
              "    </tr>\n",
              "    <tr>\n",
              "      <th id=\"T_d8d1c_level0_row1\" class=\"row_heading level0 row1\" >quadratic</th>\n",
              "      <td id=\"T_d8d1c_row1_col0\" class=\"data row1 col0\" >0.343000</td>\n",
              "      <td id=\"T_d8d1c_row1_col1\" class=\"data row1 col1\" >0.586000</td>\n",
              "      <td id=\"T_d8d1c_row1_col2\" class=\"data row1 col2\" >0.445000</td>\n",
              "      <td id=\"T_d8d1c_row1_col3\" class=\"data row1 col3\" >0.640000</td>\n",
              "      <td id=\"T_d8d1c_row1_col4\" class=\"data row1 col4\" >228.354000</td>\n",
              "      <td id=\"T_d8d1c_row1_col5\" class=\"data row1 col5\" >0.657000</td>\n",
              "    </tr>\n",
              "    <tr>\n",
              "      <th id=\"T_d8d1c_level0_row2\" class=\"row_heading level0 row2\" >cubic</th>\n",
              "      <td id=\"T_d8d1c_row2_col0\" class=\"data row2 col0\" >0.315000</td>\n",
              "      <td id=\"T_d8d1c_row2_col1\" class=\"data row2 col1\" >0.562000</td>\n",
              "      <td id=\"T_d8d1c_row2_col2\" class=\"data row2 col2\" >0.422000</td>\n",
              "      <td id=\"T_d8d1c_row2_col3\" class=\"data row2 col3\" >0.606000</td>\n",
              "      <td id=\"T_d8d1c_row2_col4\" class=\"data row2 col4\" >180.717000</td>\n",
              "      <td id=\"T_d8d1c_row2_col5\" class=\"data row2 col5\" >0.685000</td>\n",
              "    </tr>\n",
              "    <tr>\n",
              "      <th id=\"T_d8d1c_level0_row3\" class=\"row_heading level0 row3\" >tree</th>\n",
              "      <td id=\"T_d8d1c_row3_col0\" class=\"data row3 col0\" >0.307000</td>\n",
              "      <td id=\"T_d8d1c_row3_col1\" class=\"data row3 col1\" >0.554000</td>\n",
              "      <td id=\"T_d8d1c_row3_col2\" class=\"data row3 col2\" >0.402000</td>\n",
              "      <td id=\"T_d8d1c_row3_col3\" class=\"data row3 col3\" >0.578000</td>\n",
              "      <td id=\"T_d8d1c_row3_col4\" class=\"data row3 col4\" >298.471000</td>\n",
              "      <td id=\"T_d8d1c_row3_col5\" class=\"data row3 col5\" >0.693000</td>\n",
              "    </tr>\n",
              "    <tr>\n",
              "      <th id=\"T_d8d1c_level0_row4\" class=\"row_heading level0 row4\" >forest</th>\n",
              "      <td id=\"T_d8d1c_row4_col0\" class=\"data row4 col0\" >0.422000</td>\n",
              "      <td id=\"T_d8d1c_row4_col1\" class=\"data row4 col1\" >0.650000</td>\n",
              "      <td id=\"T_d8d1c_row4_col2\" class=\"data row4 col2\" >0.470000</td>\n",
              "      <td id=\"T_d8d1c_row4_col3\" class=\"data row4 col3\" >0.676000</td>\n",
              "      <td id=\"T_d8d1c_row4_col4\" class=\"data row4 col4\" >158.176000</td>\n",
              "      <td id=\"T_d8d1c_row4_col5\" class=\"data row4 col5\" >0.578000</td>\n",
              "    </tr>\n",
              "    <tr>\n",
              "      <th id=\"T_d8d1c_level0_row5\" class=\"row_heading level0 row5\" >et</th>\n",
              "      <td id=\"T_d8d1c_row5_col0\" class=\"data row5 col0\" >0.438000</td>\n",
              "      <td id=\"T_d8d1c_row5_col1\" class=\"data row5 col1\" >0.662000</td>\n",
              "      <td id=\"T_d8d1c_row5_col2\" class=\"data row5 col2\" >0.477000</td>\n",
              "      <td id=\"T_d8d1c_row5_col3\" class=\"data row5 col3\" >0.686000</td>\n",
              "      <td id=\"T_d8d1c_row5_col4\" class=\"data row5 col4\" >120.755000</td>\n",
              "      <td id=\"T_d8d1c_row5_col5\" class=\"data row5 col5\" >0.562000</td>\n",
              "    </tr>\n",
              "    <tr>\n",
              "      <th id=\"T_d8d1c_level0_row6\" class=\"row_heading level0 row6\" >gb</th>\n",
              "      <td id=\"T_d8d1c_row6_col0\" class=\"data row6 col0\" >0.538000</td>\n",
              "      <td id=\"T_d8d1c_row6_col1\" class=\"data row6 col1\" >0.734000</td>\n",
              "      <td id=\"T_d8d1c_row6_col2\" class=\"data row6 col2\" >0.505000</td>\n",
              "      <td id=\"T_d8d1c_row6_col3\" class=\"data row6 col3\" >0.726000</td>\n",
              "      <td id=\"T_d8d1c_row6_col4\" class=\"data row6 col4\" >237.426000</td>\n",
              "      <td id=\"T_d8d1c_row6_col5\" class=\"data row6 col5\" >0.462000</td>\n",
              "    </tr>\n",
              "    <tr>\n",
              "      <th id=\"T_d8d1c_level0_row7\" class=\"row_heading level0 row7\" >xgb</th>\n",
              "      <td id=\"T_d8d1c_row7_col0\" class=\"data row7 col0\" >0.322000</td>\n",
              "      <td id=\"T_d8d1c_row7_col1\" class=\"data row7 col1\" >0.567000</td>\n",
              "      <td id=\"T_d8d1c_row7_col2\" class=\"data row7 col2\" >0.400000</td>\n",
              "      <td id=\"T_d8d1c_row7_col3\" class=\"data row7 col3\" >0.574000</td>\n",
              "      <td id=\"T_d8d1c_row7_col4\" class=\"data row7 col4\" >85.381000</td>\n",
              "      <td id=\"T_d8d1c_row7_col5\" class=\"data row7 col5\" >0.678000</td>\n",
              "    </tr>\n",
              "  </tbody>\n",
              "</table>\n"
            ]
          },
          "metadata": {},
          "execution_count": 32
        }
      ]
    },
    {
      "cell_type": "markdown",
      "source": [
        "#### **그래프 시각화**"
      ],
      "metadata": {
        "id": "YFFUEVtXMbBY"
      }
    },
    {
      "cell_type": "code",
      "source": [
        "draw_data()\n",
        "plt.plot(X_every, xgb.predict(X_every), lw=3)    \n",
        "plt.show()"
      ],
      "metadata": {
        "colab": {
          "base_uri": "https://localhost:8080/",
          "height": 279
        },
        "outputId": "eb9abd6d-e9e9-4735-f80e-5339f0bd7639",
        "id": "ChvPJh-nMbBY"
      },
      "execution_count": null,
      "outputs": [
        {
          "output_type": "display_data",
          "data": {
            "text/plain": [
              "<Figure size 432x288 with 1 Axes>"
            ],
            "image/png": "[encoded data removed]"
          },
          "metadata": {
            "needs_background": "light"
          }
        }
      ]
    },
    {
      "cell_type": "markdown",
      "source": [
        "## **과제1: 주택 데이터셋 다중 회귀 분석**\n",
        "---\n",
        "\n",
        "* 주택 데이터셋의 X의 모든 속성을 이용해 y를 예측합니다.\n",
        "* 지난시간과 이번시간에 배운 회귀 분석 모델을 모두 사용해보고, 성능을 비교해 봅니다.\n",
        "* 단, 다항회귀는 사용하지 마세요.\n",
        "* 사용 모델 : \n",
        "```\n",
        "'linear', 'ridge', 'lasso', 'elastic', 'bayes_ridge', 'tree', 'forest', 'et', 'gb', 'xgb'\n",
        "```"
      ],
      "metadata": {
        "id": "5JWTBCG-EkR1"
      }
    },
    {
      "cell_type": "markdown",
      "source": [
        "#### **데이터 불러오기**"
      ],
      "metadata": {
        "id": "hc-YysUvFJWS"
      }
    },
    {
      "cell_type": "code",
      "source": [
        "X_train, X_test, y_train, y_test = housing_loader()\n",
        "X_train.shape, X_test.shape, y_train.shape, y_test.shape"
      ],
      "metadata": {
        "colab": {
          "base_uri": "https://localhost:8080/"
        },
        "id": "qpeyED8xf9gT",
        "outputId": "ff0443d1-137d-40e2-f71f-180919ad23e2"
      },
      "execution_count": null,
      "outputs": [
        {
          "output_type": "stream",
          "name": "stdout",
          "text": [
            "(506, 14)\n"
          ]
        },
        {
          "output_type": "execute_result",
          "data": {
            "text/plain": [
              "((404, 13), (102, 13), (404,), (102,))"
            ]
          },
          "metadata": {},
          "execution_count": 34
        }
      ]
    },
    {
      "cell_type": "markdown",
      "source": [
        "* 분석 예시"
      ],
      "metadata": {
        "id": "bOGoI8O3GieY"
      }
    },
    {
      "cell_type": "code",
      "source": [
        "linear = LinearRegression()\n",
        "ridge = Ridge(alpha=0.1, random_state=1)\n",
        "lasso = Lasso(alpha=0.1, random_state=1)\n",
        "elastic = ElasticNet(alpha=0.1, random_state=1)\n",
        "bayes_ridge = BayesianRidge()\n",
        "tree = DecisionTreeRegressor(max_depth=3, random_state=1)\n",
        "forest = RandomForestRegressor(random_state=1)\n",
        "et = ExtraTreesRegressor(random_state=1)\n",
        "gb = GradientBoostingRegressor(random_state=1)\n",
        "xgb = XGBRegressor(random_state=1)\n",
        "\n",
        "df_score = pd.DataFrame()\n",
        "plt.figure(figsize=(20,9))\n",
        "for idx, model in enumerate(['linear', 'ridge', 'lasso', 'elastic', 'bayes_ridge', \n",
        "                             'tree', 'forest', 'et', 'gb', 'xgb']):\n",
        "  # 모델별 학습 및 예측\n",
        "  eval(model).fit(X_train, y_train)\n",
        "  y_pred = eval(model).predict(X_test)\n",
        "  \n",
        "  # 실제-예측 산점도\n",
        "  plt.subplot(2,5,idx+1)\n",
        "  plt.title(model)\n",
        "  plt.scatter(y_test, y_pred, marker='.')\n",
        "  plt.plot([-2,3],[-2,3], c='r')\n",
        "  plt.xlabel('y_true')\n",
        "  plt.ylabel('y_pred')\n",
        "  \n",
        "  # 성능 평가\n",
        "  df_score = pd.concat([df_score, pd.DataFrame(regression_scores(y_test, y_pred) ,index=[model]) ])\n",
        "\n",
        "plt.show()\n",
        "df_score.style.background_gradient(cmap='Greens_r')"
      ],
      "metadata": {
        "id": "T0rcVkSyoQWp",
        "colab": {
          "base_uri": "https://localhost:8080/",
          "height": 863
        },
        "outputId": "8e017cb9-89f1-4ed8-da3e-b533ee296d01"
      },
      "execution_count": null,
      "outputs": [
        {
          "output_type": "stream",
          "name": "stdout",
          "text": [
            "[06:11:47] WARNING: /workspace/src/objective/regression_obj.cu:152: reg:linear is now deprecated in favor of reg:squarederror.\n"
          ]
        },
        {
          "output_type": "display_data",
          "data": {
            "text/plain": [
              "<Figure size 1440x648 with 10 Axes>"
            ],
            "image/png": "[encoded data removed]"
          },
          "metadata": {
            "needs_background": "light"
          }
        },
        {
          "output_type": "execute_result",
          "data": {
            "text/plain": [
              "<pandas.io.formats.style.Styler at 0x7fc1918c08d0>"
            ],
            "text/html": [
              "<style type=\"text/css\">\n",
              "#T_1e5aa_row0_col0, #T_1e5aa_row1_col0 {\n",
              "  background-color: #9bd696;\n",
              "  color: #000000;\n",
              "}\n",
              "#T_1e5aa_row0_col1, #T_1e5aa_row1_col1 {\n",
              "  background-color: #b1e0ab;\n",
              "  color: #000000;\n",
              "}\n",
              "#T_1e5aa_row0_col2, #T_1e5aa_row0_col3, #T_1e5aa_row1_col2 {\n",
              "  background-color: #c0e6b9;\n",
              "  color: #000000;\n",
              "}\n",
              "#T_1e5aa_row0_col4, #T_1e5aa_row1_col4 {\n",
              "  background-color: #7dc87e;\n",
              "  color: #000000;\n",
              "}\n",
              "#T_1e5aa_row0_col5, #T_1e5aa_row1_col5 {\n",
              "  background-color: #48ae60;\n",
              "  color: #f1f1f1;\n",
              "}\n",
              "#T_1e5aa_row1_col3 {\n",
              "  background-color: #bee5b8;\n",
              "  color: #000000;\n",
              "}\n",
              "#T_1e5aa_row2_col0, #T_1e5aa_row2_col1, #T_1e5aa_row2_col2, #T_1e5aa_row2_col3, #T_1e5aa_row5_col4, #T_1e5aa_row7_col5 {\n",
              "  background-color: #f7fcf5;\n",
              "  color: #000000;\n",
              "}\n",
              "#T_1e5aa_row2_col4 {\n",
              "  background-color: #6ec173;\n",
              "  color: #000000;\n",
              "}\n",
              "#T_1e5aa_row2_col5, #T_1e5aa_row7_col0, #T_1e5aa_row7_col1, #T_1e5aa_row7_col2, #T_1e5aa_row7_col3, #T_1e5aa_row8_col4 {\n",
              "  background-color: #00441b;\n",
              "  color: #f1f1f1;\n",
              "}\n",
              "#T_1e5aa_row3_col0 {\n",
              "  background-color: #e0f3db;\n",
              "  color: #000000;\n",
              "}\n",
              "#T_1e5aa_row3_col1 {\n",
              "  background-color: #e7f6e2;\n",
              "  color: #000000;\n",
              "}\n",
              "#T_1e5aa_row3_col2 {\n",
              "  background-color: #e8f6e4;\n",
              "  color: #000000;\n",
              "}\n",
              "#T_1e5aa_row3_col3 {\n",
              "  background-color: #e8f6e3;\n",
              "  color: #000000;\n",
              "}\n",
              "#T_1e5aa_row3_col4 {\n",
              "  background-color: #90d18d;\n",
              "  color: #000000;\n",
              "}\n",
              "#T_1e5aa_row3_col5 {\n",
              "  background-color: #067230;\n",
              "  color: #f1f1f1;\n",
              "}\n",
              "#T_1e5aa_row4_col0 {\n",
              "  background-color: #97d492;\n",
              "  color: #000000;\n",
              "}\n",
              "#T_1e5aa_row4_col1 {\n",
              "  background-color: #afdfa8;\n",
              "  color: #000000;\n",
              "}\n",
              "#T_1e5aa_row4_col2 {\n",
              "  background-color: #bce4b5;\n",
              "  color: #000000;\n",
              "}\n",
              "#T_1e5aa_row4_col3 {\n",
              "  background-color: #bbe4b4;\n",
              "  color: #000000;\n",
              "}\n",
              "#T_1e5aa_row4_col4 {\n",
              "  background-color: #91d28e;\n",
              "  color: #000000;\n",
              "}\n",
              "#T_1e5aa_row4_col5 {\n",
              "  background-color: #4db163;\n",
              "  color: #f1f1f1;\n",
              "}\n",
              "#T_1e5aa_row5_col0 {\n",
              "  background-color: #94d390;\n",
              "  color: #000000;\n",
              "}\n",
              "#T_1e5aa_row5_col1 {\n",
              "  background-color: #acdea6;\n",
              "  color: #000000;\n",
              "}\n",
              "#T_1e5aa_row5_col2 {\n",
              "  background-color: #d3eecd;\n",
              "  color: #000000;\n",
              "}\n",
              "#T_1e5aa_row5_col3 {\n",
              "  background-color: #d2edcc;\n",
              "  color: #000000;\n",
              "}\n",
              "#T_1e5aa_row5_col5 {\n",
              "  background-color: #50b264;\n",
              "  color: #f1f1f1;\n",
              "}\n",
              "#T_1e5aa_row6_col0, #T_1e5aa_row9_col1 {\n",
              "  background-color: #005a24;\n",
              "  color: #f1f1f1;\n",
              "}\n",
              "#T_1e5aa_row6_col1 {\n",
              "  background-color: #006227;\n",
              "  color: #f1f1f1;\n",
              "}\n",
              "#T_1e5aa_row6_col2 {\n",
              "  background-color: #016e2d;\n",
              "  color: #f1f1f1;\n",
              "}\n",
              "#T_1e5aa_row6_col3, #T_1e5aa_row6_col4 {\n",
              "  background-color: #006d2c;\n",
              "  color: #f1f1f1;\n",
              "}\n",
              "#T_1e5aa_row6_col5 {\n",
              "  background-color: #edf8ea;\n",
              "  color: #000000;\n",
              "}\n",
              "#T_1e5aa_row7_col4 {\n",
              "  background-color: #006328;\n",
              "  color: #f1f1f1;\n",
              "}\n",
              "#T_1e5aa_row8_col0 {\n",
              "  background-color: #00682a;\n",
              "  color: #f1f1f1;\n",
              "}\n",
              "#T_1e5aa_row8_col1 {\n",
              "  background-color: #077331;\n",
              "  color: #f1f1f1;\n",
              "}\n",
              "#T_1e5aa_row8_col2 {\n",
              "  background-color: #117b38;\n",
              "  color: #f1f1f1;\n",
              "}\n",
              "#T_1e5aa_row8_col3 {\n",
              "  background-color: #107a37;\n",
              "  color: #f1f1f1;\n",
              "}\n",
              "#T_1e5aa_row8_col5 {\n",
              "  background-color: #e7f6e3;\n",
              "  color: #000000;\n",
              "}\n",
              "#T_1e5aa_row9_col0 {\n",
              "  background-color: #005522;\n",
              "  color: #f1f1f1;\n",
              "}\n",
              "#T_1e5aa_row9_col2 {\n",
              "  background-color: #03702e;\n",
              "  color: #f1f1f1;\n",
              "}\n",
              "#T_1e5aa_row9_col3 {\n",
              "  background-color: #026f2e;\n",
              "  color: #f1f1f1;\n",
              "}\n",
              "#T_1e5aa_row9_col4 {\n",
              "  background-color: #38a156;\n",
              "  color: #f1f1f1;\n",
              "}\n",
              "#T_1e5aa_row9_col5 {\n",
              "  background-color: #f0f9ec;\n",
              "  color: #000000;\n",
              "}\n",
              "</style>\n",
              "<table id=\"T_1e5aa_\" class=\"dataframe\">\n",
              "  <thead>\n",
              "    <tr>\n",
              "      <th class=\"blank level0\" >&nbsp;</th>\n",
              "      <th class=\"col_heading level0 col0\" >mse</th>\n",
              "      <th class=\"col_heading level0 col1\" >rmse</th>\n",
              "      <th class=\"col_heading level0 col2\" >mae</th>\n",
              "      <th class=\"col_heading level0 col3\" >nmae</th>\n",
              "      <th class=\"col_heading level0 col4\" >mape</th>\n",
              "      <th class=\"col_heading level0 col5\" >r2</th>\n",
              "    </tr>\n",
              "  </thead>\n",
              "  <tbody>\n",
              "    <tr>\n",
              "      <th id=\"T_1e5aa_level0_row0\" class=\"row_heading level0 row0\" >linear</th>\n",
              "      <td id=\"T_1e5aa_row0_col0\" class=\"data row0 col0\" >0.222000</td>\n",
              "      <td id=\"T_1e5aa_row0_col1\" class=\"data row0 col1\" >0.471000</td>\n",
              "      <td id=\"T_1e5aa_row0_col2\" class=\"data row0 col2\" >0.362000</td>\n",
              "      <td id=\"T_1e5aa_row0_col3\" class=\"data row0 col3\" >0.521000</td>\n",
              "      <td id=\"T_1e5aa_row0_col4\" class=\"data row0 col4\" >198.397000</td>\n",
              "      <td id=\"T_1e5aa_row0_col5\" class=\"data row0 col5\" >0.778000</td>\n",
              "    </tr>\n",
              "    <tr>\n",
              "      <th id=\"T_1e5aa_level0_row1\" class=\"row_heading level0 row1\" >ridge</th>\n",
              "      <td id=\"T_1e5aa_row1_col0\" class=\"data row1 col0\" >0.222000</td>\n",
              "      <td id=\"T_1e5aa_row1_col1\" class=\"data row1 col1\" >0.471000</td>\n",
              "      <td id=\"T_1e5aa_row1_col2\" class=\"data row1 col2\" >0.362000</td>\n",
              "      <td id=\"T_1e5aa_row1_col3\" class=\"data row1 col3\" >0.520000</td>\n",
              "      <td id=\"T_1e5aa_row1_col4\" class=\"data row1 col4\" >198.722000</td>\n",
              "      <td id=\"T_1e5aa_row1_col5\" class=\"data row1 col5\" >0.778000</td>\n",
              "    </tr>\n",
              "    <tr>\n",
              "      <th id=\"T_1e5aa_level0_row2\" class=\"row_heading level0 row2\" >lasso</th>\n",
              "      <td id=\"T_1e5aa_row2_col0\" class=\"data row2 col0\" >0.315000</td>\n",
              "      <td id=\"T_1e5aa_row2_col1\" class=\"data row2 col1\" >0.561000</td>\n",
              "      <td id=\"T_1e5aa_row2_col2\" class=\"data row2 col2\" >0.421000</td>\n",
              "      <td id=\"T_1e5aa_row2_col3\" class=\"data row2 col3\" >0.606000</td>\n",
              "      <td id=\"T_1e5aa_row2_col4\" class=\"data row2 col4\" >188.638000</td>\n",
              "      <td id=\"T_1e5aa_row2_col5\" class=\"data row2 col5\" >0.685000</td>\n",
              "    </tr>\n",
              "    <tr>\n",
              "      <th id=\"T_1e5aa_level0_row3\" class=\"row_heading level0 row3\" >elastic</th>\n",
              "      <td id=\"T_1e5aa_row3_col0\" class=\"data row3 col0\" >0.280000</td>\n",
              "      <td id=\"T_1e5aa_row3_col1\" class=\"data row3 col1\" >0.529000</td>\n",
              "      <td id=\"T_1e5aa_row3_col2\" class=\"data row3 col2\" >0.399000</td>\n",
              "      <td id=\"T_1e5aa_row3_col3\" class=\"data row3 col3\" >0.573000</td>\n",
              "      <td id=\"T_1e5aa_row3_col4\" class=\"data row3 col4\" >211.990000</td>\n",
              "      <td id=\"T_1e5aa_row3_col5\" class=\"data row3 col5\" >0.720000</td>\n",
              "    </tr>\n",
              "    <tr>\n",
              "      <th id=\"T_1e5aa_level0_row4\" class=\"row_heading level0 row4\" >bayes_ridge</th>\n",
              "      <td id=\"T_1e5aa_row4_col0\" class=\"data row4 col0\" >0.220000</td>\n",
              "      <td id=\"T_1e5aa_row4_col1\" class=\"data row4 col1\" >0.469000</td>\n",
              "      <td id=\"T_1e5aa_row4_col2\" class=\"data row4 col2\" >0.359000</td>\n",
              "      <td id=\"T_1e5aa_row4_col3\" class=\"data row4 col3\" >0.516000</td>\n",
              "      <td id=\"T_1e5aa_row4_col4\" class=\"data row4 col4\" >212.854000</td>\n",
              "      <td id=\"T_1e5aa_row4_col5\" class=\"data row4 col5\" >0.780000</td>\n",
              "    </tr>\n",
              "    <tr>\n",
              "      <th id=\"T_1e5aa_level0_row5\" class=\"row_heading level0 row5\" >tree</th>\n",
              "      <td id=\"T_1e5aa_row5_col0\" class=\"data row5 col0\" >0.218000</td>\n",
              "      <td id=\"T_1e5aa_row5_col1\" class=\"data row5 col1\" >0.467000</td>\n",
              "      <td id=\"T_1e5aa_row5_col2\" class=\"data row5 col2\" >0.378000</td>\n",
              "      <td id=\"T_1e5aa_row5_col3\" class=\"data row5 col3\" >0.543000</td>\n",
              "      <td id=\"T_1e5aa_row5_col4\" class=\"data row5 col4\" >323.084000</td>\n",
              "      <td id=\"T_1e5aa_row5_col5\" class=\"data row5 col5\" >0.782000</td>\n",
              "    </tr>\n",
              "    <tr>\n",
              "      <th id=\"T_1e5aa_level0_row6\" class=\"row_heading level0 row6\" >forest</th>\n",
              "      <td id=\"T_1e5aa_row6_col0\" class=\"data row6 col0\" >0.095000</td>\n",
              "      <td id=\"T_1e5aa_row6_col1\" class=\"data row6 col1\" >0.308000</td>\n",
              "      <td id=\"T_1e5aa_row6_col2\" class=\"data row6 col2\" >0.234000</td>\n",
              "      <td id=\"T_1e5aa_row6_col3\" class=\"data row6 col3\" >0.336000</td>\n",
              "      <td id=\"T_1e5aa_row6_col4\" class=\"data row6 col4\" >93.510000</td>\n",
              "      <td id=\"T_1e5aa_row6_col5\" class=\"data row6 col5\" >0.905000</td>\n",
              "    </tr>\n",
              "    <tr>\n",
              "      <th id=\"T_1e5aa_level0_row7\" class=\"row_heading level0 row7\" >et</th>\n",
              "      <td id=\"T_1e5aa_row7_col0\" class=\"data row7 col0\" >0.079000</td>\n",
              "      <td id=\"T_1e5aa_row7_col1\" class=\"data row7 col1\" >0.282000</td>\n",
              "      <td id=\"T_1e5aa_row7_col2\" class=\"data row7 col2\" >0.206000</td>\n",
              "      <td id=\"T_1e5aa_row7_col3\" class=\"data row7 col3\" >0.297000</td>\n",
              "      <td id=\"T_1e5aa_row7_col4\" class=\"data row7 col4\" >85.360000</td>\n",
              "      <td id=\"T_1e5aa_row7_col5\" class=\"data row7 col5\" >0.921000</td>\n",
              "    </tr>\n",
              "    <tr>\n",
              "      <th id=\"T_1e5aa_level0_row8\" class=\"row_heading level0 row8\" >gb</th>\n",
              "      <td id=\"T_1e5aa_row8_col0\" class=\"data row8 col0\" >0.105000</td>\n",
              "      <td id=\"T_1e5aa_row8_col1\" class=\"data row8 col1\" >0.324000</td>\n",
              "      <td id=\"T_1e5aa_row8_col2\" class=\"data row8 col2\" >0.246000</td>\n",
              "      <td id=\"T_1e5aa_row8_col3\" class=\"data row8 col3\" >0.353000</td>\n",
              "      <td id=\"T_1e5aa_row8_col4\" class=\"data row8 col4\" >60.484000</td>\n",
              "      <td id=\"T_1e5aa_row8_col5\" class=\"data row8 col5\" >0.895000</td>\n",
              "    </tr>\n",
              "    <tr>\n",
              "      <th id=\"T_1e5aa_level0_row9\" class=\"row_heading level0 row9\" >xgb</th>\n",
              "      <td id=\"T_1e5aa_row9_col0\" class=\"data row9 col0\" >0.091000</td>\n",
              "      <td id=\"T_1e5aa_row9_col1\" class=\"data row9 col1\" >0.301000</td>\n",
              "      <td id=\"T_1e5aa_row9_col2\" class=\"data row9 col2\" >0.236000</td>\n",
              "      <td id=\"T_1e5aa_row9_col3\" class=\"data row9 col3\" >0.339000</td>\n",
              "      <td id=\"T_1e5aa_row9_col4\" class=\"data row9 col4\" >149.109000</td>\n",
              "      <td id=\"T_1e5aa_row9_col5\" class=\"data row9 col5\" >0.909000</td>\n",
              "    </tr>\n",
              "  </tbody>\n",
              "</table>\n"
            ]
          },
          "metadata": {},
          "execution_count": 35
        }
      ]
    },
    {
      "cell_type": "markdown",
      "source": [
        "## **과제2: 해외 축구 선수 이적료 예측 미션**\n",
        "---\n",
        "\n",
        "* https://dacon.io/competitions/open/235538/overview/description\n",
        "* 수업 시간에 배운 내용들을 적용하여 이적료 예측을 진행하고 리더보드에 결과를 제출합니다."
      ],
      "metadata": {
        "id": "ZFUD38WPFP4Y"
      }
    },
    {
      "cell_type": "code",
      "source": [
        "train = pd.read_csv('FIFA_train.csv')\n",
        "print(train.shape)\n",
        "train.head()"
      ],
      "metadata": {
        "id": "KKEbLngkFdwk",
        "colab": {
          "base_uri": "https://localhost:8080/",
          "height": 225
        },
        "outputId": "4f3cd28c-7c09-4c68-8144-4a66ef62ca09"
      },
      "execution_count": 75,
      "outputs": [
        {
          "output_type": "stream",
          "name": "stdout",
          "text": [
            "(8932, 12)\n"
          ]
        },
        {
          "output_type": "execute_result",
          "data": {
            "text/plain": [
              "   id          name  age      continent contract_until position prefer_foot  \\\n",
              "0   0      L. Messi   31  south america           2021       ST        left   \n",
              "1   3        De Gea   27         europe           2020       GK       right   \n",
              "2   7     L. Suárez   31  south america           2021       ST       right   \n",
              "3   8  Sergio Ramos   32         europe           2020       DF       right   \n",
              "4   9      J. Oblak   25         europe           2021       GK       right   \n",
              "\n",
              "   reputation  stat_overall  stat_potential  stat_skill_moves        value  \n",
              "0         5.0            94              94               4.0  110500000.0  \n",
              "1         4.0            91              93               1.0   72000000.0  \n",
              "2         5.0            91              91               3.0   80000000.0  \n",
              "3         4.0            91              91               3.0   51000000.0  \n",
              "4         3.0            90              93               1.0   68000000.0  "
            ],
            "text/html": [
              "\n",
              "  <div id=\"df-edd1b5ef-3b65-4c9e-9d8f-e7bd583f4a05\">\n",
              "    <div class=\"colab-df-container\">\n",
              "      <div>\n",
              "<style scoped>\n",
              "    .dataframe tbody tr th:only-of-type {\n",
              "        vertical-align: middle;\n",
              "    }\n",
              "\n",
              "    .dataframe tbody tr th {\n",
              "        vertical-align: top;\n",
              "    }\n",
              "\n",
              "    .dataframe thead th {\n",
              "        text-align: right;\n",
              "    }\n",
              "</style>\n",
              "<table border=\"1\" class=\"dataframe\">\n",
              "  <thead>\n",
              "    <tr style=\"text-align: right;\">\n",
              "      <th></th>\n",
              "      <th>id</th>\n",
              "      <th>name</th>\n",
              "      <th>age</th>\n",
              "      <th>continent</th>\n",
              "      <th>contract_until</th>\n",
              "      <th>position</th>\n",
              "      <th>prefer_foot</th>\n",
              "      <th>reputation</th>\n",
              "      <th>stat_overall</th>\n",
              "      <th>stat_potential</th>\n",
              "      <th>stat_skill_moves</th>\n",
              "      <th>value</th>\n",
              "    </tr>\n",
              "  </thead>\n",
              "  <tbody>\n",
              "    <tr>\n",
              "      <th>0</th>\n",
              "      <td>0</td>\n",
              "      <td>L. Messi</td>\n",
              "      <td>31</td>\n",
              "      <td>south america</td>\n",
              "      <td>2021</td>\n",
              "      <td>ST</td>\n",
              "      <td>left</td>\n",
              "      <td>5.0</td>\n",
              "      <td>94</td>\n",
              "      <td>94</td>\n",
              "      <td>4.0</td>\n",
              "      <td>110500000.0</td>\n",
              "    </tr>\n",
              "    <tr>\n",
              "      <th>1</th>\n",
              "      <td>3</td>\n",
              "      <td>De Gea</td>\n",
              "      <td>27</td>\n",
              "      <td>europe</td>\n",
              "      <td>2020</td>\n",
              "      <td>GK</td>\n",
              "      <td>right</td>\n",
              "      <td>4.0</td>\n",
              "      <td>91</td>\n",
              "      <td>93</td>\n",
              "      <td>1.0</td>\n",
              "      <td>72000000.0</td>\n",
              "    </tr>\n",
              "    <tr>\n",
              "      <th>2</th>\n",
              "      <td>7</td>\n",
              "      <td>L. Suárez</td>\n",
              "      <td>31</td>\n",
              "      <td>south america</td>\n",
              "      <td>2021</td>\n",
              "      <td>ST</td>\n",
              "      <td>right</td>\n",
              "      <td>5.0</td>\n",
              "      <td>91</td>\n",
              "      <td>91</td>\n",
              "      <td>3.0</td>\n",
              "      <td>80000000.0</td>\n",
              "    </tr>\n",
              "    <tr>\n",
              "      <th>3</th>\n",
              "      <td>8</td>\n",
              "      <td>Sergio Ramos</td>\n",
              "      <td>32</td>\n",
              "      <td>europe</td>\n",
              "      <td>2020</td>\n",
              "      <td>DF</td>\n",
              "      <td>right</td>\n",
              "      <td>4.0</td>\n",
              "      <td>91</td>\n",
              "      <td>91</td>\n",
              "      <td>3.0</td>\n",
              "      <td>51000000.0</td>\n",
              "    </tr>\n",
              "    <tr>\n",
              "      <th>4</th>\n",
              "      <td>9</td>\n",
              "      <td>J. Oblak</td>\n",
              "      <td>25</td>\n",
              "      <td>europe</td>\n",
              "      <td>2021</td>\n",
              "      <td>GK</td>\n",
              "      <td>right</td>\n",
              "      <td>3.0</td>\n",
              "      <td>90</td>\n",
              "      <td>93</td>\n",
              "      <td>1.0</td>\n",
              "      <td>68000000.0</td>\n",
              "    </tr>\n",
              "  </tbody>\n",
              "</table>\n",
              "</div>\n",
              "      <button class=\"colab-df-convert\" onclick=\"convertToInteractive('df-edd1b5ef-3b65-4c9e-9d8f-e7bd583f4a05')\"\n",
              "              title=\"Convert this dataframe to an interactive table.\"\n",
              "              style=\"display:none;\">\n",
              "        \n",
              "  <svg xmlns=\"http://www.w3.org/2000/svg\" height=\"24px\"viewBox=\"0 0 24 24\"\n",
              "       width=\"24px\">\n",
              "    <path d=\"M0 0h24v24H0V0z\" fill=\"none\"/>\n",
              "    <path d=\"M18.56 5.44l.94 2.06.94-2.06 2.06-.94-2.06-.94-.94-2.06-.94 2.06-2.06.94zm-11 1L8.5 8.5l.94-2.06 2.06-.94-2.06-.94L8.5 2.5l-.94 2.06-2.06.94zm10 10l.94 2.06.94-2.06 2.06-.94-2.06-.94-.94-2.06-.94 2.06-2.06.94z\"/><path d=\"M17.41 7.96l-1.37-1.37c-.4-.4-.92-.59-1.43-.59-.52 0-1.04.2-1.43.59L10.3 9.45l-7.72 7.72c-.78.78-.78 2.05 0 2.83L4 21.41c.39.39.9.59 1.41.59.51 0 1.02-.2 1.41-.59l7.78-7.78 2.81-2.81c.8-.78.8-2.07 0-2.86zM5.41 20L4 18.59l7.72-7.72 1.47 1.35L5.41 20z\"/>\n",
              "  </svg>\n",
              "      </button>\n",
              "      \n",
              "  <style>\n",
              "    .colab-df-container {\n",
              "      display:flex;\n",
              "      flex-wrap:wrap;\n",
              "      gap: 12px;\n",
              "    }\n",
              "\n",
              "    .colab-df-convert {\n",
              "      background-color: #E8F0FE;\n",
              "      border: none;\n",
              "      border-radius: 50%;\n",
              "      cursor: pointer;\n",
              "      display: none;\n",
              "      fill: #1967D2;\n",
              "      height: 32px;\n",
              "      padding: 0 0 0 0;\n",
              "      width: 32px;\n",
              "    }\n",
              "\n",
              "    .colab-df-convert:hover {\n",
              "      background-color: #E2EBFA;\n",
              "      box-shadow: 0px 1px 2px rgba(60, 64, 67, 0.3), 0px 1px 3px 1px rgba(60, 64, 67, 0.15);\n",
              "      fill: #174EA6;\n",
              "    }\n",
              "\n",
              "    [theme=dark] .colab-df-convert {\n",
              "      background-color: #3B4455;\n",
              "      fill: #D2E3FC;\n",
              "    }\n",
              "\n",
              "    [theme=dark] .colab-df-convert:hover {\n",
              "      background-color: #434B5C;\n",
              "      box-shadow: 0px 1px 3px 1px rgba(0, 0, 0, 0.15);\n",
              "      filter: drop-shadow(0px 1px 2px rgba(0, 0, 0, 0.3));\n",
              "      fill: #FFFFFF;\n",
              "    }\n",
              "  </style>\n",
              "\n",
              "      <script>\n",
              "        const buttonEl =\n",
              "          document.querySelector('#df-edd1b5ef-3b65-4c9e-9d8f-e7bd583f4a05 button.colab-df-convert');\n",
              "        buttonEl.style.display =\n",
              "          google.colab.kernel.accessAllowed ? 'block' : 'none';\n",
              "\n",
              "        async function convertToInteractive(key) {\n",
              "          const element = document.querySelector('#df-edd1b5ef-3b65-4c9e-9d8f-e7bd583f4a05');\n",
              "          const dataTable =\n",
              "            await google.colab.kernel.invokeFunction('convertToInteractive',\n",
              "                                                     [key], {});\n",
              "          if (!dataTable) return;\n",
              "\n",
              "          const docLinkHtml = 'Like what you see? Visit the ' +\n",
              "            '<a target=\"_blank\" href=https://colab.research.google.com/notebooks/data_table.ipynb>data table notebook</a>'\n",
              "            + ' to learn more about interactive tables.';\n",
              "          element.innerHTML = '';\n",
              "          dataTable['output_type'] = 'display_data';\n",
              "          await google.colab.output.renderOutput(dataTable, element);\n",
              "          const docLink = document.createElement('div');\n",
              "          docLink.innerHTML = docLinkHtml;\n",
              "          element.appendChild(docLink);\n",
              "        }\n",
              "      </script>\n",
              "    </div>\n",
              "  </div>\n",
              "  "
            ]
          },
          "metadata": {},
          "execution_count": 75
        }
      ]
    },
    {
      "cell_type": "code",
      "source": [
        "from sklearn.preprocessing import StandardScaler\n",
        "from sklearn.model_selection import train_test_split\n",
        "\n",
        "# 불필요한 속성 제거\n",
        "train = train.drop(['id', 'name', 'prefer_foot'], axis=1)\n",
        "\n",
        "# 범주 자료형 제거\n",
        "print(train.describe(include='object'))\n",
        "train = train.drop(['continent', 'contract_until', 'position'], axis=1)\n",
        "train.head()\n",
        "\n",
        "# 넘파이 변환\n",
        "X = train.iloc[:, :-1].values\n",
        "y = train.iloc[:, -1].values\n",
        "\n",
        "# 데이터 분할\n",
        "X_train, X_valid, y_train, y_valid = train_test_split(X,y, test_size=0.2, \n",
        "                                                    random_state=1)\n",
        "# 스케일링\n",
        "sc_x = StandardScaler()\n",
        "X_train = sc_x.fit_transform(X_train)\n",
        "X_valid = sc_x.transform(X_valid)\n",
        "\n",
        "# 스케일링 (로그)\n",
        "#sc_y = StandardScaler()\n",
        "#y_train = sc_y.fit_transform( np.expand_dims(y_train, 1) ).flatten()\n",
        "#y_valid = sc_y.transform( np.expand_dims(y_valid, 1) ).flatten()\n",
        "y_train = np.log10(y_train)\n",
        "y_valid = np.log10(y_valid)\n",
        "\n",
        "\n",
        "X_train.shape, y_train.shape, X_valid.shape, y_valid.shape"
      ],
      "metadata": {
        "colab": {
          "base_uri": "https://localhost:8080/"
        },
        "id": "HmgfBFo3TCd8",
        "outputId": "64048aa4-88a7-4ef2-b63f-5654810e46e3"
      },
      "execution_count": 76,
      "outputs": [
        {
          "output_type": "stream",
          "name": "stdout",
          "text": [
            "       continent contract_until position\n",
            "count       8932           8932     8932\n",
            "unique         5             17        4\n",
            "top       europe           2019       MF\n",
            "freq        5322           2366     3428\n"
          ]
        },
        {
          "output_type": "execute_result",
          "data": {
            "text/plain": [
              "((7145, 5), (7145,), (1787, 5), (1787,))"
            ]
          },
          "metadata": {},
          "execution_count": 76
        }
      ]
    },
    {
      "cell_type": "code",
      "source": [
        "from sklearn.linear_model import *\n",
        "from sklearn.tree import *\n",
        "from sklearn.ensemble import *\n",
        "from xgboost import XGBRegressor\n",
        "\n",
        "linear = LinearRegression()\n",
        "ridge = Ridge(alpha=0.1, random_state=1)\n",
        "lasso = Lasso(alpha=0.1, random_state=1)\n",
        "elastic = ElasticNet(alpha=0.1, random_state=1)\n",
        "bayes_ridge = BayesianRidge()\n",
        "tree = DecisionTreeRegressor(max_depth=3, random_state=1)\n",
        "forest = RandomForestRegressor(random_state=1)\n",
        "et = ExtraTreesRegressor(random_state=1)\n",
        "gb = GradientBoostingRegressor(random_state=1)\n",
        "xgb = XGBRegressor(random_state=1)\n",
        "\n",
        "df_score = pd.DataFrame()\n",
        "plt.figure(figsize=(20,9))\n",
        "for idx, model in enumerate(['linear', 'ridge', 'lasso', 'elastic', 'bayes_ridge', \n",
        "                             'tree', 'forest', 'et', 'gb', 'xgb']):\n",
        "  # 모델별 학습 및 예측\n",
        "  eval(model).fit(X_train, y_train)\n",
        "  y_pred = eval(model).predict(X_valid)\n",
        "  \n",
        "  # 실제-예측 산점도\n",
        "  plt.subplot(2,5,idx+1)\n",
        "  plt.title(model)\n",
        "  plt.scatter(y_valid, y_pred, marker='.')\n",
        "  plt.plot([3,8],[3,8], c='r')\n",
        "  plt.xlabel('y_true')\n",
        "  plt.ylabel('y_pred')\n",
        "  \n",
        "  # 성능 평가\n",
        "  df_score = pd.concat([df_score, pd.DataFrame(regression_scores(y_valid, y_pred) ,index=[model]) ])\n",
        "\n",
        "plt.show()\n",
        "df_score.style.background_gradient(cmap='Greens_r')"
      ],
      "metadata": {
        "colab": {
          "base_uri": "https://localhost:8080/",
          "height": 932
        },
        "id": "amXieK--UsJz",
        "outputId": "045ec087-6503-4764-c850-3c5985ac15aa"
      },
      "execution_count": 92,
      "outputs": [
        {
          "output_type": "stream",
          "name": "stdout",
          "text": [
            "[04:51:55] WARNING: /workspace/src/objective/regression_obj.cu:152: reg:linear is now deprecated in favor of reg:squarederror.\n"
          ]
        },
        {
          "output_type": "display_data",
          "data": {
            "text/plain": [
              "<Figure size 1440x648 with 10 Axes>"
            ],
            "image/png": "[encoded data removed]"
          },
          "metadata": {
            "needs_background": "light"
          }
        },
        {
          "output_type": "execute_result",
          "data": {
            "text/plain": [
              "<pandas.io.formats.style.Styler at 0x7f6d825770d0>"
            ],
            "text/html": [
              "<style type=\"text/css\">\n",
              "#T_0e8de_row0_col0, #T_0e8de_row1_col0, #T_0e8de_row4_col0 {\n",
              "  background-color: #218944;\n",
              "  color: #f1f1f1;\n",
              "}\n",
              "#T_0e8de_row0_col1, #T_0e8de_row1_col1, #T_0e8de_row4_col1 {\n",
              "  background-color: #46ae60;\n",
              "  color: #f1f1f1;\n",
              "}\n",
              "#T_0e8de_row0_col2, #T_0e8de_row1_col2, #T_0e8de_row4_col2 {\n",
              "  background-color: #52b365;\n",
              "  color: #f1f1f1;\n",
              "}\n",
              "#T_0e8de_row0_col3, #T_0e8de_row1_col3, #T_0e8de_row4_col3 {\n",
              "  background-color: #53b466;\n",
              "  color: #f1f1f1;\n",
              "}\n",
              "#T_0e8de_row0_col4, #T_0e8de_row1_col4, #T_0e8de_row4_col4 {\n",
              "  background-color: #4eb264;\n",
              "  color: #f1f1f1;\n",
              "}\n",
              "#T_0e8de_row0_col5, #T_0e8de_row1_col5, #T_0e8de_row4_col5 {\n",
              "  background-color: #c9eac2;\n",
              "  color: #000000;\n",
              "}\n",
              "#T_0e8de_row2_col0 {\n",
              "  background-color: #e3f4de;\n",
              "  color: #000000;\n",
              "}\n",
              "#T_0e8de_row2_col1 {\n",
              "  background-color: #ecf8e8;\n",
              "  color: #000000;\n",
              "}\n",
              "#T_0e8de_row2_col2 {\n",
              "  background-color: #d8f0d2;\n",
              "  color: #000000;\n",
              "}\n",
              "#T_0e8de_row2_col3 {\n",
              "  background-color: #ddf2d8;\n",
              "  color: #000000;\n",
              "}\n",
              "#T_0e8de_row2_col4 {\n",
              "  background-color: #d3eecd;\n",
              "  color: #000000;\n",
              "}\n",
              "#T_0e8de_row2_col5 {\n",
              "  background-color: #006b2b;\n",
              "  color: #f1f1f1;\n",
              "}\n",
              "#T_0e8de_row3_col0 {\n",
              "  background-color: #a0d99b;\n",
              "  color: #000000;\n",
              "}\n",
              "#T_0e8de_row3_col1 {\n",
              "  background-color: #c6e8bf;\n",
              "  color: #000000;\n",
              "}\n",
              "#T_0e8de_row3_col2 {\n",
              "  background-color: #a9dca3;\n",
              "  color: #000000;\n",
              "}\n",
              "#T_0e8de_row3_col3 {\n",
              "  background-color: #b4e1ad;\n",
              "  color: #000000;\n",
              "}\n",
              "#T_0e8de_row3_col4 {\n",
              "  background-color: #a5db9f;\n",
              "  color: #000000;\n",
              "}\n",
              "#T_0e8de_row3_col5 {\n",
              "  background-color: #3ea75a;\n",
              "  color: #f1f1f1;\n",
              "}\n",
              "#T_0e8de_row5_col0, #T_0e8de_row5_col1, #T_0e8de_row5_col2, #T_0e8de_row5_col3, #T_0e8de_row5_col4, #T_0e8de_row8_col5, #T_0e8de_row9_col5 {\n",
              "  background-color: #f7fcf5;\n",
              "  color: #000000;\n",
              "}\n",
              "#T_0e8de_row5_col5, #T_0e8de_row6_col0, #T_0e8de_row6_col3, #T_0e8de_row7_col0, #T_0e8de_row7_col2, #T_0e8de_row7_col3, #T_0e8de_row7_col4, #T_0e8de_row8_col0, #T_0e8de_row8_col1, #T_0e8de_row8_col3, #T_0e8de_row9_col0, #T_0e8de_row9_col3 {\n",
              "  background-color: #00441b;\n",
              "  color: #f1f1f1;\n",
              "}\n",
              "#T_0e8de_row6_col1, #T_0e8de_row7_col1 {\n",
              "  background-color: #00481d;\n",
              "  color: #f1f1f1;\n",
              "}\n",
              "#T_0e8de_row6_col2 {\n",
              "  background-color: #00471c;\n",
              "  color: #f1f1f1;\n",
              "}\n",
              "#T_0e8de_row6_col4, #T_0e8de_row9_col1 {\n",
              "  background-color: #00451c;\n",
              "  color: #f1f1f1;\n",
              "}\n",
              "#T_0e8de_row6_col5, #T_0e8de_row7_col5 {\n",
              "  background-color: #f6fcf4;\n",
              "  color: #000000;\n",
              "}\n",
              "#T_0e8de_row8_col2, #T_0e8de_row9_col2 {\n",
              "  background-color: #005321;\n",
              "  color: #f1f1f1;\n",
              "}\n",
              "#T_0e8de_row8_col4, #T_0e8de_row9_col4 {\n",
              "  background-color: #005221;\n",
              "  color: #f1f1f1;\n",
              "}\n",
              "</style>\n",
              "<table id=\"T_0e8de_\" class=\"dataframe\">\n",
              "  <thead>\n",
              "    <tr>\n",
              "      <th class=\"blank level0\" >&nbsp;</th>\n",
              "      <th class=\"col_heading level0 col0\" >mse</th>\n",
              "      <th class=\"col_heading level0 col1\" >rmse</th>\n",
              "      <th class=\"col_heading level0 col2\" >mae</th>\n",
              "      <th class=\"col_heading level0 col3\" >nmae</th>\n",
              "      <th class=\"col_heading level0 col4\" >mape</th>\n",
              "      <th class=\"col_heading level0 col5\" >r2</th>\n",
              "    </tr>\n",
              "  </thead>\n",
              "  <tbody>\n",
              "    <tr>\n",
              "      <th id=\"T_0e8de_level0_row0\" class=\"row_heading level0 row0\" >linear</th>\n",
              "      <td id=\"T_0e8de_row0_col0\" class=\"data row0 col0\" >0.012000</td>\n",
              "      <td id=\"T_0e8de_row0_col1\" class=\"data row0 col1\" >0.109000</td>\n",
              "      <td id=\"T_0e8de_row0_col2\" class=\"data row0 col2\" >0.083000</td>\n",
              "      <td id=\"T_0e8de_row0_col3\" class=\"data row0 col3\" >0.014000</td>\n",
              "      <td id=\"T_0e8de_row0_col4\" class=\"data row0 col4\" >1.394000</td>\n",
              "      <td id=\"T_0e8de_row0_col5\" class=\"data row0 col5\" >0.968000</td>\n",
              "    </tr>\n",
              "    <tr>\n",
              "      <th id=\"T_0e8de_level0_row1\" class=\"row_heading level0 row1\" >ridge</th>\n",
              "      <td id=\"T_0e8de_row1_col0\" class=\"data row1 col0\" >0.012000</td>\n",
              "      <td id=\"T_0e8de_row1_col1\" class=\"data row1 col1\" >0.109000</td>\n",
              "      <td id=\"T_0e8de_row1_col2\" class=\"data row1 col2\" >0.083000</td>\n",
              "      <td id=\"T_0e8de_row1_col3\" class=\"data row1 col3\" >0.014000</td>\n",
              "      <td id=\"T_0e8de_row1_col4\" class=\"data row1 col4\" >1.394000</td>\n",
              "      <td id=\"T_0e8de_row1_col5\" class=\"data row1 col5\" >0.968000</td>\n",
              "    </tr>\n",
              "    <tr>\n",
              "      <th id=\"T_0e8de_level0_row2\" class=\"row_heading level0 row2\" >lasso</th>\n",
              "      <td id=\"T_0e8de_row2_col0\" class=\"data row2 col0\" >0.035000</td>\n",
              "      <td id=\"T_0e8de_row2_col1\" class=\"data row2 col1\" >0.188000</td>\n",
              "      <td id=\"T_0e8de_row2_col2\" class=\"data row2 col2\" >0.131000</td>\n",
              "      <td id=\"T_0e8de_row2_col3\" class=\"data row2 col3\" >0.022000</td>\n",
              "      <td id=\"T_0e8de_row2_col4\" class=\"data row2 col4\" >2.187000</td>\n",
              "      <td id=\"T_0e8de_row2_col5\" class=\"data row2 col5\" >0.903000</td>\n",
              "    </tr>\n",
              "    <tr>\n",
              "      <th id=\"T_0e8de_level0_row3\" class=\"row_heading level0 row3\" >elastic</th>\n",
              "      <td id=\"T_0e8de_row3_col0\" class=\"data row3 col0\" >0.026000</td>\n",
              "      <td id=\"T_0e8de_row3_col1\" class=\"data row3 col1\" >0.162000</td>\n",
              "      <td id=\"T_0e8de_row3_col2\" class=\"data row3 col2\" >0.111000</td>\n",
              "      <td id=\"T_0e8de_row3_col3\" class=\"data row3 col3\" >0.019000</td>\n",
              "      <td id=\"T_0e8de_row3_col4\" class=\"data row3 col4\" >1.860000</td>\n",
              "      <td id=\"T_0e8de_row3_col5\" class=\"data row3 col5\" >0.928000</td>\n",
              "    </tr>\n",
              "    <tr>\n",
              "      <th id=\"T_0e8de_level0_row4\" class=\"row_heading level0 row4\" >bayes_ridge</th>\n",
              "      <td id=\"T_0e8de_row4_col0\" class=\"data row4 col0\" >0.012000</td>\n",
              "      <td id=\"T_0e8de_row4_col1\" class=\"data row4 col1\" >0.109000</td>\n",
              "      <td id=\"T_0e8de_row4_col2\" class=\"data row4 col2\" >0.083000</td>\n",
              "      <td id=\"T_0e8de_row4_col3\" class=\"data row4 col3\" >0.014000</td>\n",
              "      <td id=\"T_0e8de_row4_col4\" class=\"data row4 col4\" >1.394000</td>\n",
              "      <td id=\"T_0e8de_row4_col5\" class=\"data row4 col5\" >0.968000</td>\n",
              "    </tr>\n",
              "    <tr>\n",
              "      <th id=\"T_0e8de_level0_row5\" class=\"row_heading level0 row5\" >tree</th>\n",
              "      <td id=\"T_0e8de_row5_col0\" class=\"data row5 col0\" >0.040000</td>\n",
              "      <td id=\"T_0e8de_row5_col1\" class=\"data row5 col1\" >0.200000</td>\n",
              "      <td id=\"T_0e8de_row5_col2\" class=\"data row5 col2\" >0.153000</td>\n",
              "      <td id=\"T_0e8de_row5_col3\" class=\"data row5 col3\" >0.025000</td>\n",
              "      <td id=\"T_0e8de_row5_col4\" class=\"data row5 col4\" >2.595000</td>\n",
              "      <td id=\"T_0e8de_row5_col5\" class=\"data row5 col5\" >0.891000</td>\n",
              "    </tr>\n",
              "    <tr>\n",
              "      <th id=\"T_0e8de_level0_row6\" class=\"row_heading level0 row6\" >forest</th>\n",
              "      <td id=\"T_0e8de_row6_col0\" class=\"data row6 col0\" >0.003000</td>\n",
              "      <td id=\"T_0e8de_row6_col1\" class=\"data row6 col1\" >0.053000</td>\n",
              "      <td id=\"T_0e8de_row6_col2\" class=\"data row6 col2\" >0.034000</td>\n",
              "      <td id=\"T_0e8de_row6_col3\" class=\"data row6 col3\" >0.006000</td>\n",
              "      <td id=\"T_0e8de_row6_col4\" class=\"data row6 col4\" >0.576000</td>\n",
              "      <td id=\"T_0e8de_row6_col5\" class=\"data row6 col5\" >0.992000</td>\n",
              "    </tr>\n",
              "    <tr>\n",
              "      <th id=\"T_0e8de_level0_row7\" class=\"row_heading level0 row7\" >et</th>\n",
              "      <td id=\"T_0e8de_row7_col0\" class=\"data row7 col0\" >0.003000</td>\n",
              "      <td id=\"T_0e8de_row7_col1\" class=\"data row7 col1\" >0.053000</td>\n",
              "      <td id=\"T_0e8de_row7_col2\" class=\"data row7 col2\" >0.033000</td>\n",
              "      <td id=\"T_0e8de_row7_col3\" class=\"data row7 col3\" >0.006000</td>\n",
              "      <td id=\"T_0e8de_row7_col4\" class=\"data row7 col4\" >0.562000</td>\n",
              "      <td id=\"T_0e8de_row7_col5\" class=\"data row7 col5\" >0.992000</td>\n",
              "    </tr>\n",
              "    <tr>\n",
              "      <th id=\"T_0e8de_level0_row8\" class=\"row_heading level0 row8\" >gb</th>\n",
              "      <td id=\"T_0e8de_row8_col0\" class=\"data row8 col0\" >0.003000</td>\n",
              "      <td id=\"T_0e8de_row8_col1\" class=\"data row8 col1\" >0.051000</td>\n",
              "      <td id=\"T_0e8de_row8_col2\" class=\"data row8 col2\" >0.039000</td>\n",
              "      <td id=\"T_0e8de_row8_col3\" class=\"data row8 col3\" >0.006000</td>\n",
              "      <td id=\"T_0e8de_row8_col4\" class=\"data row8 col4\" >0.655000</td>\n",
              "      <td id=\"T_0e8de_row8_col5\" class=\"data row8 col5\" >0.993000</td>\n",
              "    </tr>\n",
              "    <tr>\n",
              "      <th id=\"T_0e8de_level0_row9\" class=\"row_heading level0 row9\" >xgb</th>\n",
              "      <td id=\"T_0e8de_row9_col0\" class=\"data row9 col0\" >0.003000</td>\n",
              "      <td id=\"T_0e8de_row9_col1\" class=\"data row9 col1\" >0.052000</td>\n",
              "      <td id=\"T_0e8de_row9_col2\" class=\"data row9 col2\" >0.039000</td>\n",
              "      <td id=\"T_0e8de_row9_col3\" class=\"data row9 col3\" >0.006000</td>\n",
              "      <td id=\"T_0e8de_row9_col4\" class=\"data row9 col4\" >0.654000</td>\n",
              "      <td id=\"T_0e8de_row9_col5\" class=\"data row9 col5\" >0.993000</td>\n",
              "    </tr>\n",
              "  </tbody>\n",
              "</table>\n"
            ]
          },
          "metadata": {},
          "execution_count": 92
        }
      ]
    },
    {
      "cell_type": "code",
      "source": [
        "# RMSE 기준 가장 좋은 gb 이용\n",
        "gb = GradientBoostingRegressor(random_state=1)\n",
        "gb.fit(X_train, y_train)\n",
        "y_pred = gb.predict(X_valid)\n",
        "pd.DataFrame(regression_scores(y_valid, y_pred) ,index=['gb'])"
      ],
      "metadata": {
        "colab": {
          "base_uri": "https://localhost:8080/",
          "height": 81
        },
        "id": "uXQGK32cVLdT",
        "outputId": "027d786c-fe07-4542-8949-43325441731c"
      },
      "execution_count": 78,
      "outputs": [
        {
          "output_type": "execute_result",
          "data": {
            "text/plain": [
              "      mse   rmse    mae   nmae   mape     r2\n",
              "gb  0.003  0.051  0.039  0.006  0.655  0.993"
            ],
            "text/html": [
              "\n",
              "  <div id=\"df-797a26b4-be8e-4f45-8696-e45c7777e93a\">\n",
              "    <div class=\"colab-df-container\">\n",
              "      <div>\n",
              "<style scoped>\n",
              "    .dataframe tbody tr th:only-of-type {\n",
              "        vertical-align: middle;\n",
              "    }\n",
              "\n",
              "    .dataframe tbody tr th {\n",
              "        vertical-align: top;\n",
              "    }\n",
              "\n",
              "    .dataframe thead th {\n",
              "        text-align: right;\n",
              "    }\n",
              "</style>\n",
              "<table border=\"1\" class=\"dataframe\">\n",
              "  <thead>\n",
              "    <tr style=\"text-align: right;\">\n",
              "      <th></th>\n",
              "      <th>mse</th>\n",
              "      <th>rmse</th>\n",
              "      <th>mae</th>\n",
              "      <th>nmae</th>\n",
              "      <th>mape</th>\n",
              "      <th>r2</th>\n",
              "    </tr>\n",
              "  </thead>\n",
              "  <tbody>\n",
              "    <tr>\n",
              "      <th>gb</th>\n",
              "      <td>0.003</td>\n",
              "      <td>0.051</td>\n",
              "      <td>0.039</td>\n",
              "      <td>0.006</td>\n",
              "      <td>0.655</td>\n",
              "      <td>0.993</td>\n",
              "    </tr>\n",
              "  </tbody>\n",
              "</table>\n",
              "</div>\n",
              "      <button class=\"colab-df-convert\" onclick=\"convertToInteractive('df-797a26b4-be8e-4f45-8696-e45c7777e93a')\"\n",
              "              title=\"Convert this dataframe to an interactive table.\"\n",
              "              style=\"display:none;\">\n",
              "        \n",
              "  <svg xmlns=\"http://www.w3.org/2000/svg\" height=\"24px\"viewBox=\"0 0 24 24\"\n",
              "       width=\"24px\">\n",
              "    <path d=\"M0 0h24v24H0V0z\" fill=\"none\"/>\n",
              "    <path d=\"M18.56 5.44l.94 2.06.94-2.06 2.06-.94-2.06-.94-.94-2.06-.94 2.06-2.06.94zm-11 1L8.5 8.5l.94-2.06 2.06-.94-2.06-.94L8.5 2.5l-.94 2.06-2.06.94zm10 10l.94 2.06.94-2.06 2.06-.94-2.06-.94-.94-2.06-.94 2.06-2.06.94z\"/><path d=\"M17.41 7.96l-1.37-1.37c-.4-.4-.92-.59-1.43-.59-.52 0-1.04.2-1.43.59L10.3 9.45l-7.72 7.72c-.78.78-.78 2.05 0 2.83L4 21.41c.39.39.9.59 1.41.59.51 0 1.02-.2 1.41-.59l7.78-7.78 2.81-2.81c.8-.78.8-2.07 0-2.86zM5.41 20L4 18.59l7.72-7.72 1.47 1.35L5.41 20z\"/>\n",
              "  </svg>\n",
              "      </button>\n",
              "      \n",
              "  <style>\n",
              "    .colab-df-container {\n",
              "      display:flex;\n",
              "      flex-wrap:wrap;\n",
              "      gap: 12px;\n",
              "    }\n",
              "\n",
              "    .colab-df-convert {\n",
              "      background-color: #E8F0FE;\n",
              "      border: none;\n",
              "      border-radius: 50%;\n",
              "      cursor: pointer;\n",
              "      display: none;\n",
              "      fill: #1967D2;\n",
              "      height: 32px;\n",
              "      padding: 0 0 0 0;\n",
              "      width: 32px;\n",
              "    }\n",
              "\n",
              "    .colab-df-convert:hover {\n",
              "      background-color: #E2EBFA;\n",
              "      box-shadow: 0px 1px 2px rgba(60, 64, 67, 0.3), 0px 1px 3px 1px rgba(60, 64, 67, 0.15);\n",
              "      fill: #174EA6;\n",
              "    }\n",
              "\n",
              "    [theme=dark] .colab-df-convert {\n",
              "      background-color: #3B4455;\n",
              "      fill: #D2E3FC;\n",
              "    }\n",
              "\n",
              "    [theme=dark] .colab-df-convert:hover {\n",
              "      background-color: #434B5C;\n",
              "      box-shadow: 0px 1px 3px 1px rgba(0, 0, 0, 0.15);\n",
              "      filter: drop-shadow(0px 1px 2px rgba(0, 0, 0, 0.3));\n",
              "      fill: #FFFFFF;\n",
              "    }\n",
              "  </style>\n",
              "\n",
              "      <script>\n",
              "        const buttonEl =\n",
              "          document.querySelector('#df-797a26b4-be8e-4f45-8696-e45c7777e93a button.colab-df-convert');\n",
              "        buttonEl.style.display =\n",
              "          google.colab.kernel.accessAllowed ? 'block' : 'none';\n",
              "\n",
              "        async function convertToInteractive(key) {\n",
              "          const element = document.querySelector('#df-797a26b4-be8e-4f45-8696-e45c7777e93a');\n",
              "          const dataTable =\n",
              "            await google.colab.kernel.invokeFunction('convertToInteractive',\n",
              "                                                     [key], {});\n",
              "          if (!dataTable) return;\n",
              "\n",
              "          const docLinkHtml = 'Like what you see? Visit the ' +\n",
              "            '<a target=\"_blank\" href=https://colab.research.google.com/notebooks/data_table.ipynb>data table notebook</a>'\n",
              "            + ' to learn more about interactive tables.';\n",
              "          element.innerHTML = '';\n",
              "          dataTable['output_type'] = 'display_data';\n",
              "          await google.colab.output.renderOutput(dataTable, element);\n",
              "          const docLink = document.createElement('div');\n",
              "          docLink.innerHTML = docLinkHtml;\n",
              "          element.appendChild(docLink);\n",
              "        }\n",
              "      </script>\n",
              "    </div>\n",
              "  </div>\n",
              "  "
            ]
          },
          "metadata": {},
          "execution_count": 78
        }
      ]
    },
    {
      "cell_type": "markdown",
      "source": [
        "### 테스트셋 적용"
      ],
      "metadata": {
        "id": "f_NRo-UiWfyc"
      }
    },
    {
      "cell_type": "code",
      "source": [
        "test = pd.read_csv('FIFA_test.csv')\n",
        "print(test.shape)\n",
        "test.head()"
      ],
      "metadata": {
        "colab": {
          "base_uri": "https://localhost:8080/",
          "height": 225
        },
        "outputId": "43ca91ac-b6fa-4f40-cf52-48895a4bde99",
        "id": "tjxJR5sjWfM1"
      },
      "execution_count": 79,
      "outputs": [
        {
          "output_type": "stream",
          "name": "stdout",
          "text": [
            "(3828, 11)\n"
          ]
        },
        {
          "output_type": "execute_result",
          "data": {
            "text/plain": [
              "   id               name  age      continent contract_until position  \\\n",
              "0   1  Cristiano Ronaldo   33         europe           2022       ST   \n",
              "1   2          Neymar Jr   26  south america           2022       ST   \n",
              "2   4       K. De Bruyne   27         europe           2023       MF   \n",
              "3   5          E. Hazard   27         europe           2020       ST   \n",
              "4   6          L. Modrić   32         europe           2020       MF   \n",
              "\n",
              "  prefer_foot  reputation  stat_overall  stat_potential  stat_skill_moves  \n",
              "0       right         5.0            94              94               5.0  \n",
              "1       right         5.0            92              93               5.0  \n",
              "2       right         4.0            91              92               4.0  \n",
              "3       right         4.0            91              91               4.0  \n",
              "4       right         4.0            91              91               4.0  "
            ],
            "text/html": [
              "\n",
              "  <div id=\"df-092a0094-bccf-4c5c-8dbd-74809175360b\">\n",
              "    <div class=\"colab-df-container\">\n",
              "      <div>\n",
              "<style scoped>\n",
              "    .dataframe tbody tr th:only-of-type {\n",
              "        vertical-align: middle;\n",
              "    }\n",
              "\n",
              "    .dataframe tbody tr th {\n",
              "        vertical-align: top;\n",
              "    }\n",
              "\n",
              "    .dataframe thead th {\n",
              "        text-align: right;\n",
              "    }\n",
              "</style>\n",
              "<table border=\"1\" class=\"dataframe\">\n",
              "  <thead>\n",
              "    <tr style=\"text-align: right;\">\n",
              "      <th></th>\n",
              "      <th>id</th>\n",
              "      <th>name</th>\n",
              "      <th>age</th>\n",
              "      <th>continent</th>\n",
              "      <th>contract_until</th>\n",
              "      <th>position</th>\n",
              "      <th>prefer_foot</th>\n",
              "      <th>reputation</th>\n",
              "      <th>stat_overall</th>\n",
              "      <th>stat_potential</th>\n",
              "      <th>stat_skill_moves</th>\n",
              "    </tr>\n",
              "  </thead>\n",
              "  <tbody>\n",
              "    <tr>\n",
              "      <th>0</th>\n",
              "      <td>1</td>\n",
              "      <td>Cristiano Ronaldo</td>\n",
              "      <td>33</td>\n",
              "      <td>europe</td>\n",
              "      <td>2022</td>\n",
              "      <td>ST</td>\n",
              "      <td>right</td>\n",
              "      <td>5.0</td>\n",
              "      <td>94</td>\n",
              "      <td>94</td>\n",
              "      <td>5.0</td>\n",
              "    </tr>\n",
              "    <tr>\n",
              "      <th>1</th>\n",
              "      <td>2</td>\n",
              "      <td>Neymar Jr</td>\n",
              "      <td>26</td>\n",
              "      <td>south america</td>\n",
              "      <td>2022</td>\n",
              "      <td>ST</td>\n",
              "      <td>right</td>\n",
              "      <td>5.0</td>\n",
              "      <td>92</td>\n",
              "      <td>93</td>\n",
              "      <td>5.0</td>\n",
              "    </tr>\n",
              "    <tr>\n",
              "      <th>2</th>\n",
              "      <td>4</td>\n",
              "      <td>K. De Bruyne</td>\n",
              "      <td>27</td>\n",
              "      <td>europe</td>\n",
              "      <td>2023</td>\n",
              "      <td>MF</td>\n",
              "      <td>right</td>\n",
              "      <td>4.0</td>\n",
              "      <td>91</td>\n",
              "      <td>92</td>\n",
              "      <td>4.0</td>\n",
              "    </tr>\n",
              "    <tr>\n",
              "      <th>3</th>\n",
              "      <td>5</td>\n",
              "      <td>E. Hazard</td>\n",
              "      <td>27</td>\n",
              "      <td>europe</td>\n",
              "      <td>2020</td>\n",
              "      <td>ST</td>\n",
              "      <td>right</td>\n",
              "      <td>4.0</td>\n",
              "      <td>91</td>\n",
              "      <td>91</td>\n",
              "      <td>4.0</td>\n",
              "    </tr>\n",
              "    <tr>\n",
              "      <th>4</th>\n",
              "      <td>6</td>\n",
              "      <td>L. Modrić</td>\n",
              "      <td>32</td>\n",
              "      <td>europe</td>\n",
              "      <td>2020</td>\n",
              "      <td>MF</td>\n",
              "      <td>right</td>\n",
              "      <td>4.0</td>\n",
              "      <td>91</td>\n",
              "      <td>91</td>\n",
              "      <td>4.0</td>\n",
              "    </tr>\n",
              "  </tbody>\n",
              "</table>\n",
              "</div>\n",
              "      <button class=\"colab-df-convert\" onclick=\"convertToInteractive('df-092a0094-bccf-4c5c-8dbd-74809175360b')\"\n",
              "              title=\"Convert this dataframe to an interactive table.\"\n",
              "              style=\"display:none;\">\n",
              "        \n",
              "  <svg xmlns=\"http://www.w3.org/2000/svg\" height=\"24px\"viewBox=\"0 0 24 24\"\n",
              "       width=\"24px\">\n",
              "    <path d=\"M0 0h24v24H0V0z\" fill=\"none\"/>\n",
              "    <path d=\"M18.56 5.44l.94 2.06.94-2.06 2.06-.94-2.06-.94-.94-2.06-.94 2.06-2.06.94zm-11 1L8.5 8.5l.94-2.06 2.06-.94-2.06-.94L8.5 2.5l-.94 2.06-2.06.94zm10 10l.94 2.06.94-2.06 2.06-.94-2.06-.94-.94-2.06-.94 2.06-2.06.94z\"/><path d=\"M17.41 7.96l-1.37-1.37c-.4-.4-.92-.59-1.43-.59-.52 0-1.04.2-1.43.59L10.3 9.45l-7.72 7.72c-.78.78-.78 2.05 0 2.83L4 21.41c.39.39.9.59 1.41.59.51 0 1.02-.2 1.41-.59l7.78-7.78 2.81-2.81c.8-.78.8-2.07 0-2.86zM5.41 20L4 18.59l7.72-7.72 1.47 1.35L5.41 20z\"/>\n",
              "  </svg>\n",
              "      </button>\n",
              "      \n",
              "  <style>\n",
              "    .colab-df-container {\n",
              "      display:flex;\n",
              "      flex-wrap:wrap;\n",
              "      gap: 12px;\n",
              "    }\n",
              "\n",
              "    .colab-df-convert {\n",
              "      background-color: #E8F0FE;\n",
              "      border: none;\n",
              "      border-radius: 50%;\n",
              "      cursor: pointer;\n",
              "      display: none;\n",
              "      fill: #1967D2;\n",
              "      height: 32px;\n",
              "      padding: 0 0 0 0;\n",
              "      width: 32px;\n",
              "    }\n",
              "\n",
              "    .colab-df-convert:hover {\n",
              "      background-color: #E2EBFA;\n",
              "      box-shadow: 0px 1px 2px rgba(60, 64, 67, 0.3), 0px 1px 3px 1px rgba(60, 64, 67, 0.15);\n",
              "      fill: #174EA6;\n",
              "    }\n",
              "\n",
              "    [theme=dark] .colab-df-convert {\n",
              "      background-color: #3B4455;\n",
              "      fill: #D2E3FC;\n",
              "    }\n",
              "\n",
              "    [theme=dark] .colab-df-convert:hover {\n",
              "      background-color: #434B5C;\n",
              "      box-shadow: 0px 1px 3px 1px rgba(0, 0, 0, 0.15);\n",
              "      filter: drop-shadow(0px 1px 2px rgba(0, 0, 0, 0.3));\n",
              "      fill: #FFFFFF;\n",
              "    }\n",
              "  </style>\n",
              "\n",
              "      <script>\n",
              "        const buttonEl =\n",
              "          document.querySelector('#df-092a0094-bccf-4c5c-8dbd-74809175360b button.colab-df-convert');\n",
              "        buttonEl.style.display =\n",
              "          google.colab.kernel.accessAllowed ? 'block' : 'none';\n",
              "\n",
              "        async function convertToInteractive(key) {\n",
              "          const element = document.querySelector('#df-092a0094-bccf-4c5c-8dbd-74809175360b');\n",
              "          const dataTable =\n",
              "            await google.colab.kernel.invokeFunction('convertToInteractive',\n",
              "                                                     [key], {});\n",
              "          if (!dataTable) return;\n",
              "\n",
              "          const docLinkHtml = 'Like what you see? Visit the ' +\n",
              "            '<a target=\"_blank\" href=https://colab.research.google.com/notebooks/data_table.ipynb>data table notebook</a>'\n",
              "            + ' to learn more about interactive tables.';\n",
              "          element.innerHTML = '';\n",
              "          dataTable['output_type'] = 'display_data';\n",
              "          await google.colab.output.renderOutput(dataTable, element);\n",
              "          const docLink = document.createElement('div');\n",
              "          docLink.innerHTML = docLinkHtml;\n",
              "          element.appendChild(docLink);\n",
              "        }\n",
              "      </script>\n",
              "    </div>\n",
              "  </div>\n",
              "  "
            ]
          },
          "metadata": {},
          "execution_count": 79
        }
      ]
    },
    {
      "cell_type": "code",
      "source": [
        "from sklearn.preprocessing import StandardScaler\n",
        "from sklearn.model_selection import train_test_split\n",
        "\n",
        "# 불필요한 속성 제거\n",
        "test = test.drop(['id', 'name', 'prefer_foot'], axis=1)\n",
        "\n",
        "# 범주 자료형 제거\n",
        "print(test.describe(include='object'))\n",
        "test = test.drop(['continent', 'contract_until', 'position'], axis=1)\n",
        "test.head()\n",
        "\n",
        "# 넘파이 변환\n",
        "X = test.values\n",
        "\n",
        "# 스케일링\n",
        "X_test = sc_x.transform(X)\n",
        "X_test.shape"
      ],
      "metadata": {
        "colab": {
          "base_uri": "https://localhost:8080/"
        },
        "outputId": "de1a79d1-0b58-4760-b9ac-4716eaaabc65",
        "id": "4iDvM2j4WfM7"
      },
      "execution_count": 80,
      "outputs": [
        {
          "output_type": "stream",
          "name": "stdout",
          "text": [
            "       continent contract_until position\n",
            "count       3828           3828     3828\n",
            "unique         5             18        4\n",
            "top       europe           2021       MF\n",
            "freq        2269            985     1431\n"
          ]
        },
        {
          "output_type": "execute_result",
          "data": {
            "text/plain": [
              "(3828, 5)"
            ]
          },
          "metadata": {},
          "execution_count": 80
        }
      ]
    },
    {
      "cell_type": "code",
      "source": [
        "y_pred = gb.predict(X_test)\n",
        "#y_pred = sc_y.inverse_transform( np.expand_dims(y_pred, 1) ).flatten()"
      ],
      "metadata": {
        "id": "OMPd5Z_6Wv6y"
      },
      "execution_count": 84,
      "outputs": []
    },
    {
      "cell_type": "code",
      "source": [
        "for y in ['y_train', 'y_valid', 'y_pred']:\n",
        "  plt.hist(eval(y), bins=50)\n",
        "  plt.title(y)\n",
        "  plt.show()"
      ],
      "metadata": {
        "colab": {
          "base_uri": "https://localhost:8080/",
          "height": 809
        },
        "id": "qPICJ0sqW2qJ",
        "outputId": "943bafaf-af37-4e8f-a73d-f19ea4fc0a1c"
      },
      "execution_count": 85,
      "outputs": [
        {
          "output_type": "display_data",
          "data": {
            "text/plain": [
              "<Figure size 432x288 with 1 Axes>"
            ],
            "image/png": "[encoded data removed]"
          },
          "metadata": {
            "needs_background": "light"
          }
        },
        {
          "output_type": "display_data",
          "data": {
            "text/plain": [
              "<Figure size 432x288 with 1 Axes>"
            ],
            "image/png": "[encoded data removed]"
          },
          "metadata": {
            "needs_background": "light"
          }
        },
        {
          "output_type": "display_data",
          "data": {
            "text/plain": [
              "<Figure size 432x288 with 1 Axes>"
            ],
            "image/png": "[encoded data removed]"
          },
          "metadata": {
            "needs_background": "light"
          }
        }
      ]
    },
    {
      "cell_type": "code",
      "source": [
        "y_pred =10**(y_pred)\n",
        "y_pred.shape"
      ],
      "metadata": {
        "colab": {
          "base_uri": "https://localhost:8080/"
        },
        "id": "3PY0fI0FXJ6J",
        "outputId": "f4b93ce9-251e-4ea9-bf47-cc290985e23b"
      },
      "execution_count": 86,
      "outputs": [
        {
          "output_type": "execute_result",
          "data": {
            "text/plain": [
              "(3828,)"
            ]
          },
          "metadata": {},
          "execution_count": 86
        }
      ]
    },
    {
      "cell_type": "code",
      "source": [
        "_=plt.hist(y_pred, bins=50)"
      ],
      "metadata": {
        "colab": {
          "base_uri": "https://localhost:8080/",
          "height": 278
        },
        "id": "RO_SFnQTZr2J",
        "outputId": "364cd9ae-9df8-4123-c0ec-84c14f8eac9e"
      },
      "execution_count": 91,
      "outputs": [
        {
          "output_type": "display_data",
          "data": {
            "text/plain": [
              "<Figure size 432x288 with 1 Axes>"
            ],
            "image/png": "[encoded data removed]"
          },
          "metadata": {
            "needs_background": "light"
          }
        }
      ]
    },
    {
      "cell_type": "markdown",
      "source": [
        "### submission 제출"
      ],
      "metadata": {
        "id": "ModeX26mXzbk"
      }
    },
    {
      "cell_type": "code",
      "source": [
        "sub = pd.read_csv('/content/submission.csv')\n",
        "sub.head()"
      ],
      "metadata": {
        "colab": {
          "base_uri": "https://localhost:8080/",
          "height": 206
        },
        "id": "Z8ASnokjX1kA",
        "outputId": "0275842d-dff3-4495-bf15-d2baf0168b3f"
      },
      "execution_count": 87,
      "outputs": [
        {
          "output_type": "execute_result",
          "data": {
            "text/plain": [
              "   id  value\n",
              "0   1      0\n",
              "1   2      0\n",
              "2   4      0\n",
              "3   5      0\n",
              "4   6      0"
            ],
            "text/html": [
              "\n",
              "  <div id=\"df-1bc74479-b46b-409a-bb04-a1d554d75947\">\n",
              "    <div class=\"colab-df-container\">\n",
              "      <div>\n",
              "<style scoped>\n",
              "    .dataframe tbody tr th:only-of-type {\n",
              "        vertical-align: middle;\n",
              "    }\n",
              "\n",
              "    .dataframe tbody tr th {\n",
              "        vertical-align: top;\n",
              "    }\n",
              "\n",
              "    .dataframe thead th {\n",
              "        text-align: right;\n",
              "    }\n",
              "</style>\n",
              "<table border=\"1\" class=\"dataframe\">\n",
              "  <thead>\n",
              "    <tr style=\"text-align: right;\">\n",
              "      <th></th>\n",
              "      <th>id</th>\n",
              "      <th>value</th>\n",
              "    </tr>\n",
              "  </thead>\n",
              "  <tbody>\n",
              "    <tr>\n",
              "      <th>0</th>\n",
              "      <td>1</td>\n",
              "      <td>0</td>\n",
              "    </tr>\n",
              "    <tr>\n",
              "      <th>1</th>\n",
              "      <td>2</td>\n",
              "      <td>0</td>\n",
              "    </tr>\n",
              "    <tr>\n",
              "      <th>2</th>\n",
              "      <td>4</td>\n",
              "      <td>0</td>\n",
              "    </tr>\n",
              "    <tr>\n",
              "      <th>3</th>\n",
              "      <td>5</td>\n",
              "      <td>0</td>\n",
              "    </tr>\n",
              "    <tr>\n",
              "      <th>4</th>\n",
              "      <td>6</td>\n",
              "      <td>0</td>\n",
              "    </tr>\n",
              "  </tbody>\n",
              "</table>\n",
              "</div>\n",
              "      <button class=\"colab-df-convert\" onclick=\"convertToInteractive('df-1bc74479-b46b-409a-bb04-a1d554d75947')\"\n",
              "              title=\"Convert this dataframe to an interactive table.\"\n",
              "              style=\"display:none;\">\n",
              "        \n",
              "  <svg xmlns=\"http://www.w3.org/2000/svg\" height=\"24px\"viewBox=\"0 0 24 24\"\n",
              "       width=\"24px\">\n",
              "    <path d=\"M0 0h24v24H0V0z\" fill=\"none\"/>\n",
              "    <path d=\"M18.56 5.44l.94 2.06.94-2.06 2.06-.94-2.06-.94-.94-2.06-.94 2.06-2.06.94zm-11 1L8.5 8.5l.94-2.06 2.06-.94-2.06-.94L8.5 2.5l-.94 2.06-2.06.94zm10 10l.94 2.06.94-2.06 2.06-.94-2.06-.94-.94-2.06-.94 2.06-2.06.94z\"/><path d=\"M17.41 7.96l-1.37-1.37c-.4-.4-.92-.59-1.43-.59-.52 0-1.04.2-1.43.59L10.3 9.45l-7.72 7.72c-.78.78-.78 2.05 0 2.83L4 21.41c.39.39.9.59 1.41.59.51 0 1.02-.2 1.41-.59l7.78-7.78 2.81-2.81c.8-.78.8-2.07 0-2.86zM5.41 20L4 18.59l7.72-7.72 1.47 1.35L5.41 20z\"/>\n",
              "  </svg>\n",
              "      </button>\n",
              "      \n",
              "  <style>\n",
              "    .colab-df-container {\n",
              "      display:flex;\n",
              "      flex-wrap:wrap;\n",
              "      gap: 12px;\n",
              "    }\n",
              "\n",
              "    .colab-df-convert {\n",
              "      background-color: #E8F0FE;\n",
              "      border: none;\n",
              "      border-radius: 50%;\n",
              "      cursor: pointer;\n",
              "      display: none;\n",
              "      fill: #1967D2;\n",
              "      height: 32px;\n",
              "      padding: 0 0 0 0;\n",
              "      width: 32px;\n",
              "    }\n",
              "\n",
              "    .colab-df-convert:hover {\n",
              "      background-color: #E2EBFA;\n",
              "      box-shadow: 0px 1px 2px rgba(60, 64, 67, 0.3), 0px 1px 3px 1px rgba(60, 64, 67, 0.15);\n",
              "      fill: #174EA6;\n",
              "    }\n",
              "\n",
              "    [theme=dark] .colab-df-convert {\n",
              "      background-color: #3B4455;\n",
              "      fill: #D2E3FC;\n",
              "    }\n",
              "\n",
              "    [theme=dark] .colab-df-convert:hover {\n",
              "      background-color: #434B5C;\n",
              "      box-shadow: 0px 1px 3px 1px rgba(0, 0, 0, 0.15);\n",
              "      filter: drop-shadow(0px 1px 2px rgba(0, 0, 0, 0.3));\n",
              "      fill: #FFFFFF;\n",
              "    }\n",
              "  </style>\n",
              "\n",
              "      <script>\n",
              "        const buttonEl =\n",
              "          document.querySelector('#df-1bc74479-b46b-409a-bb04-a1d554d75947 button.colab-df-convert');\n",
              "        buttonEl.style.display =\n",
              "          google.colab.kernel.accessAllowed ? 'block' : 'none';\n",
              "\n",
              "        async function convertToInteractive(key) {\n",
              "          const element = document.querySelector('#df-1bc74479-b46b-409a-bb04-a1d554d75947');\n",
              "          const dataTable =\n",
              "            await google.colab.kernel.invokeFunction('convertToInteractive',\n",
              "                                                     [key], {});\n",
              "          if (!dataTable) return;\n",
              "\n",
              "          const docLinkHtml = 'Like what you see? Visit the ' +\n",
              "            '<a target=\"_blank\" href=https://colab.research.google.com/notebooks/data_table.ipynb>data table notebook</a>'\n",
              "            + ' to learn more about interactive tables.';\n",
              "          element.innerHTML = '';\n",
              "          dataTable['output_type'] = 'display_data';\n",
              "          await google.colab.output.renderOutput(dataTable, element);\n",
              "          const docLink = document.createElement('div');\n",
              "          docLink.innerHTML = docLinkHtml;\n",
              "          element.appendChild(docLink);\n",
              "        }\n",
              "      </script>\n",
              "    </div>\n",
              "  </div>\n",
              "  "
            ]
          },
          "metadata": {},
          "execution_count": 87
        }
      ]
    },
    {
      "cell_type": "code",
      "source": [
        "sub['value']=y_pred\n",
        "sub.to_csv('sub0524.csv', index=False)"
      ],
      "metadata": {
        "id": "AWI6tV8gX5r5"
      },
      "execution_count": 88,
      "outputs": []
    }
  ]
}