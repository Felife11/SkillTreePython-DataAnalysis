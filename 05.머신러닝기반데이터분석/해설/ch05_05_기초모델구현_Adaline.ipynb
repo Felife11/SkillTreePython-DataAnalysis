{
  "nbformat": 4,
  "nbformat_minor": 0,
  "metadata": {
    "colab": {
      "name": "ch05_05_기초모델구현-Adaline.ipynb",
      "provenance": [],
      "collapsed_sections": [],
      "mount_file_id": "1nTEONpgtEp9o31vB58Az6R5rj7a3o72K",
      "authorship_tag": "ABX9TyPdGAhM2gkrd9zzOmGrYoz/",
      "include_colab_link": true
    },
    "kernelspec": {
      "name": "python3",
      "display_name": "Python 3"
    },
    "language_info": {
      "name": "python"
    }
  },
  "cells": [
    {
      "cell_type": "markdown",
      "metadata": {
        "id": "view-in-github",
        "colab_type": "text"
      },
      "source": [
        "<a href=\"https://colab.research.google.com/github/yebiny/SkillTreePython-DataAnalysis/blob/main/05.%EB%A8%B8%EC%8B%A0%EB%9F%AC%EB%8B%9D%EA%B8%B0%EB%B0%98%EB%8D%B0%EC%9D%B4%ED%84%B0%EB%B6%84%EC%84%9D/%ED%95%B4%EC%84%A4/ch05_05_%EA%B8%B0%EC%B4%88%EB%AA%A8%EB%8D%B8%EA%B5%AC%ED%98%84_Adaline.ipynb\" target=\"_parent\"><img src=\"https://colab.research.google.com/assets/colab-badge.svg\" alt=\"Open In Colab\"/></a>"
      ]
    },
    {
      "cell_type": "markdown",
      "metadata": {
        "id": "wWpXZc2fi39U"
      },
      "source": [
        "# ch05.05. 기초모델 구현 - Adaline\n",
        "---\n",
        "* 날짜:\n",
        "* 이름:\n",
        "\n",
        "## 학습내용\n",
        "    - 이진 분류 개념에 대해 이해한다.\n",
        "    - Adaline 프로세스를 이해한다. \n",
        "    - Adaline 알고리즘을 구현한다.\n",
        "    - 경사하강법에 대해 이해한다."
      ]
    },
    {
      "cell_type": "markdown",
      "metadata": {
        "id": "kByKdJPApy6P"
      },
      "source": [
        "```\n",
        "import numpy as np\n",
        "import matplotlib.pyplot as plt\n",
        "```"
      ]
    },
    {
      "cell_type": "code",
      "execution_count": null,
      "metadata": {
        "id": "rJvcz-JikHbE"
      },
      "outputs": [],
      "source": [
        "import numpy as np\n",
        "import matplotlib.pyplot as plt\n",
        "\n",
        "import sys, os\n",
        "PATH = '/content/drive/MyDrive/[ Work ] NCS/[훈련과정] 딥러닝 프레임워크 실무/과정02.데이터분석/05.머신러닝기반데이터분석'\n",
        "sys.path.append(PATH)\n",
        "from data_loader import *"
      ]
    },
    {
      "cell_type": "markdown",
      "source": [
        "## 클래스 작성\n",
        "---"
      ],
      "metadata": {
        "id": "uwMdGM259v98"
      }
    },
    {
      "cell_type": "code",
      "source": [
        "class AdalineGD():\n",
        "  def __init__(self, lr=0.001, random_state=1):\n",
        "    self.lr=lr\n",
        "    self.seed = np.random.RandomState(random_state)\n",
        "\n",
        "  def init_weights(self, X):\n",
        "    self.w = self.seed.normal(loc=0.0, scale = 0.01, size=1+X.shape[1])\n",
        "  \n",
        "  def model(self, X):\n",
        "    '''\n",
        "    X : (n_samples, n_features)\n",
        "    w : (n_features+1)\n",
        "    \n",
        "    return : (n_samples, )\n",
        "    '''\n",
        "    return np.dot(X, self.w[:-1])+self.w[-1]\n",
        "\n",
        "  def predict(self, X):\n",
        "    return np.where(self.model(X) >= 0.5, 1, 0) \n",
        "\n",
        "  def loss(self, y, y_hat):\n",
        "    return 1/2 * ( (y-y_hat)**2 )\n",
        "  \n",
        "  def accuracy(self, y, y_logit):\n",
        "    return np.count_nonzero(y==y_logit)/len(y)\n",
        "  \n",
        "  def evaluate(self, X, y):\n",
        "    y_hat = self.model(X) # 예측\n",
        "    loss = ( self.loss(y,y_hat).sum() ) / len(y) # 손실 평균\n",
        "    \n",
        "    y_logit = self.predict(X)\n",
        "    acc = self.accuracy(y, y_logit) # 정확도\n",
        "    return loss, acc\n",
        "\n",
        "  def fit(self, X, y, epochs=10, show_params=False):\n",
        "\n",
        "    self.init_weights(X) # 가중치 초기화\n",
        "    self.history=dict(loss=[], acc=[]) # history 초기화\n",
        "\n",
        "    for epoch in range(epochs):    \n",
        "\n",
        "      # 최적화 1\n",
        "      '''\n",
        "      y_hat = self.model(X) \n",
        "      for j, xj in enumerate(X.T): # feature 별 가중치 업데이트\n",
        "        self.w[j]+= self.lr * np.sum( (y-y_hat)*xj )  # weights 업데이트    \n",
        "      self.w[-1] += self.lr * np.sum(y-y_hat) #  bias 업데이트   \n",
        "      '''\n",
        "      \n",
        "      # 최적화 2      \n",
        "      y_hat = self.model(X)\n",
        "      self.w[:-1]+= self.lr * np.dot(X.T , (y-y_hat))\n",
        "      self.w[-1] += self.lr * np.sum(y-y_hat)\n",
        "    \n",
        "      \n",
        "      # 평가\n",
        "      loss, acc = self.evaluate(X, y)\n",
        "      self.history['loss'].append(loss)\n",
        "      self.history['acc'].append(acc)\n",
        "      print(f'[Epoch {epoch}] loss: {np.round(loss,2)}  acc: {np.round(acc,2)}')\n",
        "      if show_params: print(self.w)\n",
        "\n",
        "\n",
        "  def draw_dflow(self, X, y, title='', figsize=(8,4)):\n",
        "    y_hat = self.model(X)\n",
        "    y_pred = self.predict(X)\n",
        "\n",
        "    plt.figure(figsize=figsize)\n",
        "    plt.title(title)\n",
        "    plt.plot(y, label='y', marker='o')\n",
        "    plt.plot(y_hat, label='$\\hat{y}$', marker='.', linestyle='--')\n",
        "    plt.plot(y_pred, label='$\\logit$', marker='.', linestyle='--')\n",
        "    plt.legend()\n",
        "    plt.show()\n",
        "\n",
        "  def draw_lcurve(self, title='', figsize=(8,4)):\n",
        "    plt.figure(figsize=figsize)\n",
        "    plt.title(title)\n",
        "    plt.plot(self.history['acc'], label='acc', marker='o')\n",
        "    plt.plot(self.history['loss'], label='loss', marker='o')\n",
        "    plt.xlabel('epoch')\n",
        "    plt.legend()\n",
        "    plt.show()"
      ],
      "metadata": {
        "id": "5mAt5khrW_Km"
      },
      "execution_count": null,
      "outputs": []
    },
    {
      "cell_type": "markdown",
      "source": [
        "## iris 데이터로 분류 진행\n",
        "---"
      ],
      "metadata": {
        "id": "p8-pUaTb04zO"
      }
    },
    {
      "cell_type": "markdown",
      "source": [
        "### **데이터 로드**"
      ],
      "metadata": {
        "id": "yh-ww3jO9392"
      }
    },
    {
      "cell_type": "code",
      "source": [
        "X_train, X_test, y_train, y_test = iris_loader(1, 0)"
      ],
      "metadata": {
        "id": "6aV9e8XkC4Da",
        "colab": {
          "base_uri": "https://localhost:8080/",
          "height": 174
        },
        "outputId": "e5eed0b6-4e9c-4c4d-c204-1f183466bcea"
      },
      "execution_count": null,
      "outputs": [
        {
          "output_type": "error",
          "ename": "NameError",
          "evalue": "ignored",
          "traceback": [
            "\u001b[0;31m---------------------------------------------------------------------------\u001b[0m",
            "\u001b[0;31mNameError\u001b[0m                                 Traceback (most recent call last)",
            "\u001b[0;32m<ipython-input-2-d58f8dec9d4f>\u001b[0m in \u001b[0;36m<module>\u001b[0;34m()\u001b[0m\n\u001b[0;32m----> 1\u001b[0;31m \u001b[0mX_train\u001b[0m\u001b[0;34m,\u001b[0m \u001b[0mX_test\u001b[0m\u001b[0;34m,\u001b[0m \u001b[0my_train\u001b[0m\u001b[0;34m,\u001b[0m \u001b[0my_test\u001b[0m \u001b[0;34m=\u001b[0m \u001b[0miris_loader\u001b[0m\u001b[0;34m(\u001b[0m\u001b[0;36m1\u001b[0m\u001b[0;34m,\u001b[0m \u001b[0;36m0\u001b[0m\u001b[0;34m)\u001b[0m\u001b[0;34m\u001b[0m\u001b[0;34m\u001b[0m\u001b[0m\n\u001b[0m",
            "\u001b[0;31mNameError\u001b[0m: name 'iris_loader' is not defined"
          ]
        }
      ]
    },
    {
      "cell_type": "markdown",
      "source": [
        "### **학습전 성능 평가**"
      ],
      "metadata": {
        "id": "3LqoB51790s0"
      }
    },
    {
      "cell_type": "code",
      "source": [
        "model = AdalineGD(lr=0.0001)\n",
        "\n",
        "model.init_weights(X_train)\n",
        "model.draw_dflow(X_train, y_train, figsize=(16,4))\n",
        "print('성능: ', model.evaluate(X_train, y_train))"
      ],
      "metadata": {
        "id": "TBW5bD_H8qqk"
      },
      "execution_count": null,
      "outputs": []
    },
    {
      "cell_type": "markdown",
      "source": [
        "### **학습**"
      ],
      "metadata": {
        "id": "s0Z1FRSQ-CVf"
      }
    },
    {
      "cell_type": "code",
      "source": [
        "history = model.fit(X_train, y_train, epochs=20)"
      ],
      "metadata": {
        "id": "IUKelQQChXTK"
      },
      "execution_count": null,
      "outputs": []
    },
    {
      "cell_type": "markdown",
      "source": [
        "### **학습 후 성능평가**"
      ],
      "metadata": {
        "id": "rcyTrA6o-ERb"
      }
    },
    {
      "cell_type": "code",
      "source": [
        "print('성능: ', model.evaluate(X_train, y_train))\n",
        "model.draw_dflow(X_train, y_train, figsize=(16,4))"
      ],
      "metadata": {
        "id": "85fUj6NU7gXX"
      },
      "execution_count": null,
      "outputs": []
    },
    {
      "cell_type": "markdown",
      "source": [
        "### **테스트셋 성능평가**"
      ],
      "metadata": {
        "id": "rJtmb1t_-GIF"
      }
    },
    {
      "cell_type": "code",
      "source": [
        "print('성능: ', model.evaluate(X_test, y_test))\n",
        "model.draw_dflow(X_test, y_test, figsize=(16,4))"
      ],
      "metadata": {
        "colab": {
          "base_uri": "https://localhost:8080/",
          "height": 283
        },
        "id": "XNGh7FUei1Qe",
        "outputId": "04493efa-c18c-4e3f-f31e-1026decd57f9"
      },
      "execution_count": null,
      "outputs": [
        {
          "output_type": "stream",
          "name": "stdout",
          "text": [
            "성능:  (0.06163864008290018, 1.0)\n"
          ]
        },
        {
          "output_type": "display_data",
          "data": {
            "text/plain": [
              "<Figure size 1152x288 with 1 Axes>"
            ],
            "image/png": "[encoded data removed]"
          },
          "metadata": {
            "needs_background": "light"
          }
        }
      ]
    },
    {
      "cell_type": "markdown",
      "source": [
        "### **학습곡선**"
      ],
      "metadata": {
        "id": "w1bVEuSPkhwb"
      }
    },
    {
      "cell_type": "code",
      "source": [
        "model.draw_lcurve()"
      ],
      "metadata": {
        "colab": {
          "base_uri": "https://localhost:8080/",
          "height": 279
        },
        "id": "qMgKxxS2kdQz",
        "outputId": "8765618d-ba6c-4f90-e32f-a2578f8e8a08"
      },
      "execution_count": null,
      "outputs": [
        {
          "output_type": "display_data",
          "data": {
            "text/plain": [
              "<Figure size 576x288 with 1 Axes>"
            ],
            "image/png": "[encoded data removed]"
          },
          "metadata": {
            "needs_background": "light"
          }
        }
      ]
    },
    {
      "cell_type": "markdown",
      "source": [
        "### **하이퍼파라미터에 따른 성능평가**"
      ],
      "metadata": {
        "id": "GOyfcMrAN74G"
      }
    },
    {
      "cell_type": "code",
      "source": [
        "for lr in [0.00001, 0.0001, 0.001, 0.01, 0.1]:\n",
        "  model = AdalineGD(lr=lr)\n",
        "  history = model.fit(X_train, y_train, epochs=10)\n",
        "  print(f'===== lr {lr} ==== {model.evaluate(X_test, y_test)}')"
      ],
      "metadata": {
        "id": "OvwPCP7cN74G",
        "colab": {
          "base_uri": "https://localhost:8080/"
        },
        "outputId": "73c84854-1451-44e5-dcec-25c114fbea53"
      },
      "execution_count": null,
      "outputs": [
        {
          "output_type": "stream",
          "name": "stdout",
          "text": [
            "[Epoch 0] loss: 0.2  acc: 0.53\n",
            "[Epoch 1] loss: 0.19  acc: 0.53\n",
            "[Epoch 2] loss: 0.19  acc: 0.53\n",
            "[Epoch 3] loss: 0.18  acc: 0.53\n",
            "[Epoch 4] loss: 0.17  acc: 0.53\n",
            "[Epoch 5] loss: 0.17  acc: 0.53\n",
            "[Epoch 6] loss: 0.16  acc: 0.53\n",
            "[Epoch 7] loss: 0.16  acc: 0.53\n",
            "[Epoch 8] loss: 0.15  acc: 0.53\n",
            "[Epoch 9] loss: 0.15  acc: 0.53\n",
            "===== lr 1e-05 ==== (0.18804517572726745, 0.4)\n",
            "[Epoch 0] loss: 0.14  acc: 0.53\n",
            "[Epoch 1] loss: 0.11  acc: 0.53\n",
            "[Epoch 2] loss: 0.1  acc: 0.63\n",
            "[Epoch 3] loss: 0.09  acc: 0.85\n",
            "[Epoch 4] loss: 0.09  acc: 0.95\n",
            "[Epoch 5] loss: 0.09  acc: 0.96\n",
            "[Epoch 6] loss: 0.08  acc: 0.96\n",
            "[Epoch 7] loss: 0.08  acc: 0.97\n",
            "[Epoch 8] loss: 0.08  acc: 1.0\n",
            "[Epoch 9] loss: 0.08  acc: 1.0\n",
            "===== lr 0.0001 ==== (0.07818595303469547, 1.0)\n",
            "[Epoch 0] loss: 0.88  acc: 0.47\n",
            "[Epoch 1] loss: 5.89  acc: 0.53\n",
            "[Epoch 2] loss: 42.31  acc: 0.47\n",
            "[Epoch 3] loss: 306.09  acc: 0.53\n",
            "[Epoch 4] loss: 2216.25  acc: 0.47\n",
            "[Epoch 5] loss: 16048.23  acc: 0.53\n",
            "[Epoch 6] loss: 116209.05  acc: 0.47\n",
            "[Epoch 7] loss: 841498.35  acc: 0.53\n",
            "[Epoch 8] loss: 6093497.34  acc: 0.47\n",
            "[Epoch 9] loss: 44124519.51  acc: 0.53\n",
            "===== lr 0.001 ==== (48364410.39978382, 0.4)\n",
            "[Epoch 0] loss: 143.56  acc: 0.47\n",
            "[Epoch 1] loss: 185091.71  acc: 0.53\n",
            "[Epoch 2] loss: 238675168.34  acc: 0.47\n",
            "[Epoch 3] loss: 307770884563.3  acc: 0.53\n",
            "[Epoch 4] loss: 396869594970505.25  acc: 0.47\n",
            "[Epoch 5] loss: 5.1176210392851155e+17  acc: 0.53\n",
            "[Epoch 6] loss: 6.599156356051931e+20  acc: 0.47\n",
            "[Epoch 7] loss: 8.509591522568851e+23  acc: 0.53\n",
            "[Epoch 8] loss: 1.097309170657356e+27  acc: 0.47\n",
            "[Epoch 9] loss: 1.414976750429553e+30  acc: 0.53\n",
            "===== lr 0.01 ==== (1.5509267923229257e+30, 0.4)\n",
            "[Epoch 0] loss: 15098.99  acc: 0.47\n",
            "[Epoch 1] loss: 2043571005.61  acc: 0.53\n",
            "[Epoch 2] loss: 276892048020565.0  acc: 0.47\n",
            "[Epoch 3] loss: 3.751732450205314e+19  acc: 0.53\n",
            "[Epoch 4] loss: 5.083387733582273e+24  acc: 0.47\n",
            "[Epoch 5] loss: 6.887706197861697e+29  acc: 0.53\n",
            "[Epoch 6] loss: 9.332456848541667e+34  acc: 0.47\n",
            "[Epoch 7] loss: 1.2644957309144662e+40  acc: 0.53\n",
            "[Epoch 8] loss: 1.7133210251604538e+45  acc: 0.47\n",
            "[Epoch 9] loss: 2.3214542077844547e+50  acc: 0.53\n",
            "===== lr 0.1 ==== (2.5444980116533422e+50, 0.4)\n"
          ]
        }
      ]
    },
    {
      "cell_type": "code",
      "source": [
        ""
      ],
      "metadata": {
        "id": "XK0Zqjq9hG1G"
      },
      "execution_count": null,
      "outputs": []
    }
  ]
}